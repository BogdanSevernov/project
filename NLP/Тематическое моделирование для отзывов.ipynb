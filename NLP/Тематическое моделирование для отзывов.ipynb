{
  "nbformat": 4,
  "nbformat_minor": 0,
  "metadata": {
    "colab": {
      "name": "Untitled0.ipynb",
      "provenance": [],
      "collapsed_sections": []
    },
    "kernelspec": {
      "name": "python3",
      "display_name": "Python 3"
    },
    "language_info": {
      "name": "python"
    }
  },
  "cells": [
    {
      "cell_type": "code",
      "metadata": {
        "id": "XoSzK1_KooIJ"
      },
      "source": [
        "import pandas as pd\n",
        "import re\n",
        "import numpy as np\n",
        "import gensim"
      ],
      "execution_count": null,
      "outputs": []
    },
    {
      "cell_type": "code",
      "metadata": {
        "colab": {
          "base_uri": "https://localhost:8080/"
        },
        "id": "8sXM8EoLZ0Wa",
        "outputId": "ab887457-83e9-4210-a842-3477c470d9fc"
      },
      "source": [
        "!ls \"/content/drive/MyDrive/mallet-2.0.8.zip\""
      ],
      "execution_count": null,
      "outputs": [
        {
          "output_type": "stream",
          "text": [
            "/content/drive/MyDrive/mallet-2.0.8.zip\n"
          ],
          "name": "stdout"
        }
      ]
    },
    {
      "cell_type": "code",
      "metadata": {
        "id": "AFYNHfVEZ_sD"
      },
      "source": [
        "!unzip -q \"/content/drive/MyDrive/mallet-2.0.8.zip\""
      ],
      "execution_count": null,
      "outputs": []
    },
    {
      "cell_type": "code",
      "metadata": {
        "colab": {
          "base_uri": "https://localhost:8080/",
          "height": 419
        },
        "id": "550ll9Kxoyvn",
        "outputId": "3a065aa4-1a0c-4577-aa4c-b747aa74423d"
      },
      "source": [
        "df = pd.read_csv('/content/drive/MyDrive/cards.csv',sep=';')\n",
        "df"
      ],
      "execution_count": null,
      "outputs": [
        {
          "output_type": "execute_result",
          "data": {
            "text/html": [
              "<div>\n",
              "<style scoped>\n",
              "    .dataframe tbody tr th:only-of-type {\n",
              "        vertical-align: middle;\n",
              "    }\n",
              "\n",
              "    .dataframe tbody tr th {\n",
              "        vertical-align: top;\n",
              "    }\n",
              "\n",
              "    .dataframe thead th {\n",
              "        text-align: right;\n",
              "    }\n",
              "</style>\n",
              "<table border=\"1\" class=\"dataframe\">\n",
              "  <thead>\n",
              "    <tr style=\"text-align: right;\">\n",
              "      <th></th>\n",
              "      <th>article</th>\n",
              "      <th>fit_back</th>\n",
              "      <th>stars</th>\n",
              "    </tr>\n",
              "  </thead>\n",
              "  <tbody>\n",
              "    <tr>\n",
              "      <th>0</th>\n",
              "      <td>Снова мошенничество, на этот страховку вернули...</td>\n",
              "      <td>Ранее писал отзыв о мошенническом навязывании ...</td>\n",
              "      <td>1</td>\n",
              "    </tr>\n",
              "    <tr>\n",
              "      <th>1</th>\n",
              "      <td>ОТП Банк отказывается принимать отказ от навяз...</td>\n",
              "      <td>Добрый день. Хочу оставить жалобу на вашего со...</td>\n",
              "      <td>2</td>\n",
              "    </tr>\n",
              "    <tr>\n",
              "      <th>2</th>\n",
              "      <td>Мошенничество</td>\n",
              "      <td>Добрый день прошу пояснить мне причину запроса...</td>\n",
              "      <td>1</td>\n",
              "    </tr>\n",
              "    <tr>\n",
              "      <th>3</th>\n",
              "      <td>невозможно вернуть вклад</td>\n",
              "      <td>вклад 200.0 т.р невозможно вернуть в короткие ...</td>\n",
              "      <td>1</td>\n",
              "    </tr>\n",
              "    <tr>\n",
              "      <th>4</th>\n",
              "      <td>Кредит</td>\n",
              "      <td>Сегодня был в офисе банка ОТП по ул.Бабушкина ...</td>\n",
              "      <td>5</td>\n",
              "    </tr>\n",
              "    <tr>\n",
              "      <th>...</th>\n",
              "      <td>...</td>\n",
              "      <td>...</td>\n",
              "      <td>...</td>\n",
              "    </tr>\n",
              "    <tr>\n",
              "      <th>7580</th>\n",
              "      <td>Мне нравится!</td>\n",
              "      <td>Давно уже слышал об этом банке, но все было не...</td>\n",
              "      <td>5</td>\n",
              "    </tr>\n",
              "    <tr>\n",
              "      <th>7581</th>\n",
              "      <td>Неплохой банк</td>\n",
              "      <td>Что меня привлекает в этом банке, так это его ...</td>\n",
              "      <td>5</td>\n",
              "    </tr>\n",
              "    <tr>\n",
              "      <th>7582</th>\n",
              "      <td>Полный бред</td>\n",
              "      <td>1 Приехал окрыть вклад \"Лидер\" на Павелецкой. ...</td>\n",
              "      <td>1</td>\n",
              "    </tr>\n",
              "    <tr>\n",
              "      <th>7583</th>\n",
              "      <td>Рекомендую!</td>\n",
              "      <td>В этом банке я обслуживаюсь более десяти лет, ...</td>\n",
              "      <td>5</td>\n",
              "    </tr>\n",
              "    <tr>\n",
              "      <th>7584</th>\n",
              "      <td>Вклады</td>\n",
              "      <td>Положил деньги в Инвест, на новый вклад \"Лидер...</td>\n",
              "      <td>5</td>\n",
              "    </tr>\n",
              "  </tbody>\n",
              "</table>\n",
              "<p>7585 rows × 3 columns</p>\n",
              "</div>"
            ],
            "text/plain": [
              "                                                article  ... stars\n",
              "0     Снова мошенничество, на этот страховку вернули...  ...     1\n",
              "1     ОТП Банк отказывается принимать отказ от навяз...  ...     2\n",
              "2                                         Мошенничество  ...     1\n",
              "3                              невозможно вернуть вклад  ...     1\n",
              "4                                                Кредит  ...     5\n",
              "...                                                 ...  ...   ...\n",
              "7580                                      Мне нравится!  ...     5\n",
              "7581                                      Неплохой банк  ...     5\n",
              "7582                                        Полный бред  ...     1\n",
              "7583                                        Рекомендую!  ...     5\n",
              "7584                                             Вклады  ...     5\n",
              "\n",
              "[7585 rows x 3 columns]"
            ]
          },
          "metadata": {
            "tags": []
          },
          "execution_count": 4
        }
      ]
    },
    {
      "cell_type": "code",
      "metadata": {
        "id": "ZRA54w1gpBG4"
      },
      "source": [
        "df=df[df['stars']< 2]\n",
        "df=df.iloc[:4000,:]"
      ],
      "execution_count": null,
      "outputs": []
    },
    {
      "cell_type": "code",
      "metadata": {
        "id": "stPCVit5VBLz"
      },
      "source": [
        "data = df.fit_back.to_list()"
      ],
      "execution_count": null,
      "outputs": []
    },
    {
      "cell_type": "code",
      "metadata": {
        "colab": {
          "base_uri": "https://localhost:8080/"
        },
        "id": "2hWL3lYvsngU",
        "outputId": "d0781608-96bb-40b1-ea8e-bbc460ee7775"
      },
      "source": [
        "! pip install pymorphy2"
      ],
      "execution_count": null,
      "outputs": [
        {
          "output_type": "stream",
          "text": [
            "Collecting pymorphy2\n",
            "\u001b[?25l  Downloading https://files.pythonhosted.org/packages/07/57/b2ff2fae3376d4f3c697b9886b64a54b476e1a332c67eee9f88e7f1ae8c9/pymorphy2-0.9.1-py3-none-any.whl (55kB)\n",
            "\r\u001b[K     |██████                          | 10kB 12.4MB/s eta 0:00:01\r\u001b[K     |███████████▉                    | 20kB 15.0MB/s eta 0:00:01\r\u001b[K     |█████████████████▊              | 30kB 9.8MB/s eta 0:00:01\r\u001b[K     |███████████████████████▋        | 40kB 8.4MB/s eta 0:00:01\r\u001b[K     |█████████████████████████████▌  | 51kB 4.3MB/s eta 0:00:01\r\u001b[K     |████████████████████████████████| 61kB 3.3MB/s \n",
            "\u001b[?25hCollecting dawg-python>=0.7.1\n",
            "  Downloading https://files.pythonhosted.org/packages/6a/84/ff1ce2071d4c650ec85745766c0047ccc3b5036f1d03559fd46bb38b5eeb/DAWG_Python-0.7.2-py2.py3-none-any.whl\n",
            "Requirement already satisfied: docopt>=0.6 in /usr/local/lib/python3.7/dist-packages (from pymorphy2) (0.6.2)\n",
            "Collecting pymorphy2-dicts-ru<3.0,>=2.4\n",
            "\u001b[?25l  Downloading https://files.pythonhosted.org/packages/3a/79/bea0021eeb7eeefde22ef9e96badf174068a2dd20264b9a378f2be1cdd9e/pymorphy2_dicts_ru-2.4.417127.4579844-py2.py3-none-any.whl (8.2MB)\n",
            "\u001b[K     |████████████████████████████████| 8.2MB 5.6MB/s \n",
            "\u001b[?25hInstalling collected packages: dawg-python, pymorphy2-dicts-ru, pymorphy2\n",
            "Successfully installed dawg-python-0.7.2 pymorphy2-0.9.1 pymorphy2-dicts-ru-2.4.417127.4579844\n"
          ],
          "name": "stdout"
        }
      ]
    },
    {
      "cell_type": "code",
      "metadata": {
        "colab": {
          "base_uri": "https://localhost:8080/"
        },
        "id": "eRFIn6Swpzug",
        "outputId": "484b9b63-b177-4cd5-f23d-41ce73869e20"
      },
      "source": [
        "import nltk\n",
        "nltk.download(\"stopwords\")\n",
        "from pymorphy2 import MorphAnalyzer\n",
        "pymorphy2_analyzer = MorphAnalyzer()"
      ],
      "execution_count": null,
      "outputs": [
        {
          "output_type": "stream",
          "text": [
            "[nltk_data] Downloading package stopwords to /root/nltk_data...\n",
            "[nltk_data]   Unzipping corpora/stopwords.zip.\n"
          ],
          "name": "stdout"
        }
      ]
    },
    {
      "cell_type": "code",
      "metadata": {
        "colab": {
          "base_uri": "https://localhost:8080/",
          "height": 35
        },
        "id": "rwI2Ls_jsik6",
        "outputId": "eea3644e-9302-4403-ec5b-6fc90ba20de1"
      },
      "source": [
        "from nltk.corpus import stopwords\n",
        "import re, string\n",
        "from nltk.stem.snowball import SnowballStemmer\n",
        "\n",
        "russian_stopwords = stopwords.words(\"russian\") + ['банк','ОТП',\"отп\",\"добрый\",\"день\",\"итоге\",\"сих\",\"пор\",\"вопрос\",\"это\",\"мочь\",\"все\"] # собираем стоп слова\n",
        "regex = re.compile('[%s]' % re.escape(string.punctuation))\n",
        "stemmer = SnowballStemmer(\"russian\")\n",
        "\n",
        "def preprocessing(text):\n",
        "    text = regex.sub('', text) \n",
        "    text = [pymorphy2_analyzer.parse(token) for token in text.split()]\n",
        "    text = [token[0].normal_form.lower() for token in text ] \n",
        "    text = [token for token in text if token not in russian_stopwords and len(token)>=4] \n",
        "  \n",
        "    return ' '.join(text)\n",
        "\n",
        "\n",
        "preprocessing(\"я вы он и мы, футбол, люблю, кредитный !\")\n"
      ],
      "execution_count": null,
      "outputs": [
        {
          "output_type": "execute_result",
          "data": {
            "application/vnd.google.colaboratory.intrinsic+json": {
              "type": "string"
            },
            "text/plain": [
              "'футбол любить кредитный'"
            ]
          },
          "metadata": {
            "tags": []
          },
          "execution_count": 9
        }
      ]
    },
    {
      "cell_type": "code",
      "metadata": {
        "id": "82YlFzePtek4"
      },
      "source": [
        "df['fit_back'] = df['fit_back'].apply(lambda x: preprocessing(x))"
      ],
      "execution_count": null,
      "outputs": []
    },
    {
      "cell_type": "code",
      "metadata": {
        "colab": {
          "base_uri": "https://localhost:8080/"
        },
        "id": "Bkeh4R_-trN6",
        "outputId": "60326535-9022-4529-e9f4-e58f61beafd1"
      },
      "source": [
        "text_clean= []\n",
        "for index, row in df.iterrows():\n",
        "        text_clean.append(row['fit_back'].split())\n",
        "\n",
        "from gensim.models import Phrases\n",
        "bigram = Phrases(text_clean) # Создаем биграммы на основе корпуса\n",
        "trigram = Phrases(bigram[text_clean])# Создаем триграммы на основе корпуса\n",
        "\n",
        "for idx in range(len(text_clean)):\n",
        "    for token in bigram[text_clean[idx]]:\n",
        "        if '_' in token:\n",
        "            # Токен это би грамма, добавим в документ.\n",
        "            text_clean[idx].append(token)\n",
        "    for token in trigram[text_clean[idx]]:\n",
        "        if '_' in token:\n",
        "\t\t\t# Токен это три грамма, добавим в документ.\n",
        "\t\t\t      text_clean[idx].append(token)"
      ],
      "execution_count": null,
      "outputs": [
        {
          "output_type": "stream",
          "text": [
            "/usr/local/lib/python3.7/dist-packages/gensim/models/phrases.py:598: UserWarning: For a faster implementation, use the gensim.models.phrases.Phraser class\n",
            "  warnings.warn(\"For a faster implementation, use the gensim.models.phrases.Phraser class\")\n"
          ],
          "name": "stderr"
        }
      ]
    },
    {
      "cell_type": "code",
      "metadata": {
        "id": "pB27FtrHu6MR"
      },
      "source": [
        "from gensim.models import *\n",
        "from gensim import corpora\n",
        "from gensim import similarities"
      ],
      "execution_count": null,
      "outputs": []
    },
    {
      "cell_type": "code",
      "metadata": {
        "colab": {
          "base_uri": "https://localhost:8080/"
        },
        "id": "cXLze5sYu70T",
        "outputId": "8999a0f4-0b41-43fe-fcef-a43850866d74"
      },
      "source": [
        "# почему бы не doc2vec?\n",
        "\n",
        "print('Making dictionary...')\n",
        "dictionary = corpora.Dictionary(text_clean)\n",
        "print('Original: {}'.format(dictionary))\n",
        "dictionary.filter_extremes(no_below = 5, no_above = 0.9, keep_n=None)\n",
        "dictionary.save('polkrug.dict')\n",
        "print('Filtered: {}'.format(dictionary))\n",
        "\n",
        "print('Vectorizing corpus...')\n",
        "corpus = [dictionary.doc2bow(text) for text in text_clean]\n",
        "corpora.MmCorpus.serialize('polkrug.model', corpus) "
      ],
      "execution_count": null,
      "outputs": [
        {
          "output_type": "stream",
          "text": [
            "Making dictionary...\n",
            "Original: Dictionary(36891 unique tokens: ['0707', '12000', '15712', '27042021', '28042021']...)\n",
            "Filtered: Dictionary(6679 unique tokens: ['0707', '12000', 'bankiru', 'апрель', 'безналичный']...)\n",
            "Vectorizing corpus...\n"
          ],
          "name": "stdout"
        }
      ]
    },
    {
      "cell_type": "code",
      "metadata": {
        "id": "VlhRji4WBqHd"
      },
      "source": [
        "from gensim.models.ldamulticore import LdaMulticore"
      ],
      "execution_count": null,
      "outputs": []
    },
    {
      "cell_type": "code",
      "metadata": {
        "id": "ZradyDtWBs6K"
      },
      "source": [
        "def compute_coherence_values(dictionary, corpus, texts, limit, start=2, step=2):\n",
        "    \"\"\"\n",
        "\tПодсчет c_v когерентности для различного количества тем\n",
        "\tdictionary : Gensim словарь\n",
        "\tcorpus : Gensim корпус.\n",
        "\ttexts : Список текста\n",
        "\tlimit : Максимальное количество тем\n",
        "\t\n",
        "\tmodel_list : Список LDA моделей\n",
        "\tcoherence_values :Когерентности, соответствующие модели LDA с количеством тем\n",
        "    \"\"\"\n",
        "    coherence_values = []\n",
        "    model_list = []\n",
        "    for num_topics in range(start, limit, step):\n",
        "        #model=ldamodel.LdaModel(corpus=corpus,id2word=dictionary, num_topics=num_topics)\n",
        "        mallet_path = '/content/mallet-2.0.8/bin/mallet' # update this path\n",
        "        model = gensim.models.wrappers.LdaMallet(mallet_path, corpus=corpus, num_topics=num_topics, id2word=dictionary)\n",
        "        model_list.append(model)\n",
        "        coherencemodel = CoherenceModel(model=model, texts=texts, dictionary=dictionary, coherence='c_v')\n",
        "        coherence_values.append(coherencemodel.get_coherence())\n",
        "    return model_list, coherence_values\n",
        "\t\n",
        "# Вызовем функцию и посчитаем\n",
        "model_list, coherence_values = compute_coherence_values(dictionary=dictionary, corpus=corpus, texts=text_clean, start=2, limit=40, step=2)"
      ],
      "execution_count": null,
      "outputs": []
    },
    {
      "cell_type": "code",
      "metadata": {
        "colab": {
          "base_uri": "https://localhost:8080/",
          "height": 280
        },
        "id": "qzZr5d9YB4Vg",
        "outputId": "d8ed7ad1-b54f-4a57-b7c2-5a129894bac5"
      },
      "source": [
        "import matplotlib.pyplot as plt\n",
        "limit=40; start=2; step=2;\n",
        "x = range(start, limit, step)\n",
        "plt.plot(x, coherence_values)\n",
        "plt.xlabel(\"Количество тем\")\n",
        "plt.ylabel(\"Согласованность\")\n",
        "plt.legend((\"coherence_values\"), loc='best')\n",
        "plt.show()"
      ],
      "execution_count": null,
      "outputs": [
        {
          "output_type": "display_data",
          "data": {
            "image/png": "[encoded data removed]",
            "text/plain": [
              "<Figure size 432x288 with 1 Axes>"
            ]
          },
          "metadata": {
            "tags": [],
            "needs_background": "light"
          }
        }
      ]
    },
    {
      "cell_type": "code",
      "metadata": {
        "colab": {
          "base_uri": "https://localhost:8080/"
        },
        "id": "eT8OtBbJyYg7",
        "outputId": "e60a5106-8826-48e5-ca22-702a1df25829"
      },
      "source": [
        "print(\"Training model...\")\n",
        "\n",
        "lda = ldamodel.LdaModel(corpus, id2word=dictionary, num_topics=2, chunksize=50, update_every=1, passes=2)"
      ],
      "execution_count": null,
      "outputs": [
        {
          "output_type": "stream",
          "text": [
            "Training model...\n"
          ],
          "name": "stdout"
        }
      ]
    },
    {
      "cell_type": "code",
      "metadata": {
        "id": "NpvdeEgpax-f"
      },
      "source": [
        "import gensim\n",
        "mallet_path = '/content/mallet-2.0.8/bin/mallet' # update this path\n",
        "ldamallet = gensim.models.wrappers.LdaMallet(mallet_path, corpus=corpus, num_topics=5, id2word=dictionary)"
      ],
      "execution_count": null,
      "outputs": []
    },
    {
      "cell_type": "code",
      "metadata": {
        "colab": {
          "base_uri": "https://localhost:8080/"
        },
        "id": "fjSiBlqicZ7S",
        "outputId": "9f3601aa-f62b-47d1-a142-d6e94edd974b"
      },
      "source": [
        "print(ldamallet.show_topics(formatted=False))"
      ],
      "execution_count": null,
      "outputs": [
        {
          "output_type": "stream",
          "text": [
            "[(0, [('номер', 0.018704680290046145), ('звонок', 0.01514090309822017), ('кредитный', 0.014625906394199077), ('дать', 0.012720418589321028), ('кредитный_история', 0.012442320369149638), ('сотрудник', 0.01152562623599209), ('обращение', 0.010845830586684245), ('телефон', 0.00896094264996704), ('который', 0.008950642715886619), ('номер_телефон', 0.0088476433750824)]), (1, [('сказать', 0.018890507427235362), ('горячий_линия', 0.01831525621874391), ('отделение', 0.013509125154250828), ('говорить', 0.012776143775689142), ('линия', 0.011161729093793782), ('сотрудник', 0.010762764545969066), ('свой', 0.010438025960530345), ('горячий', 0.010391634734039099), ('звонить', 0.009974113695617884), ('клиент', 0.009584427393091418)]), (2, [('кредит', 0.03541191194875948), ('сумма', 0.03333999432063188), ('платёж', 0.02579905554211672), ('месяц', 0.017311555410649868), ('деньга', 0.016512236934823992), ('рубль', 0.01393548658512216), ('процент', 0.011947707743923602), ('счёт', 0.011022181087704168), ('должный', 0.0108223514687477), ('погашение', 0.010149241173315384)]), (3, [('кредит', 0.028098364667020106), ('договор', 0.0252742547204437), ('заявление', 0.024591166755026303), ('страховка', 0.017056808449900086), ('сотрудник', 0.015089107295787284), ('написать_заявление', 0.0142836752171608), ('услуга', 0.01398801027690551), ('оформить', 0.01191835569511847), ('денежный_средство', 0.009593817544145834), ('документ', 0.009542840830308714)]), (4, [('карта', 0.05948046941922221), ('кредитный_карта', 0.0321119581977043), ('кредитный', 0.01885600479698475), ('счёт', 0.014465907144080864), ('получить', 0.010182885043686826), ('клиент', 0.009122837073839301), ('который', 0.008855148192564674), ('оператор', 0.007505996230940551), ('ответ', 0.0074845811204385816), ('дебетовый_карта', 0.0065530238136028785)])]\n"
          ],
          "name": "stdout"
        }
      ]
    },
    {
      "cell_type": "code",
      "metadata": {
        "colab": {
          "base_uri": "https://localhost:8080/"
        },
        "id": "1ZTZkoS9qYpy",
        "outputId": "aa1e03bf-cf02-4f96-bfcb-1b5591ad83a1"
      },
      "source": [
        "!pip install wordcloud"
      ],
      "execution_count": null,
      "outputs": [
        {
          "output_type": "stream",
          "text": [
            "Requirement already satisfied: wordcloud in /usr/local/lib/python3.7/dist-packages (1.5.0)\n",
            "Requirement already satisfied: pillow in /usr/local/lib/python3.7/dist-packages (from wordcloud) (7.1.2)\n",
            "Requirement already satisfied: numpy>=1.6.1 in /usr/local/lib/python3.7/dist-packages (from wordcloud) (1.19.5)\n"
          ],
          "name": "stdout"
        }
      ]
    },
    {
      "cell_type": "code",
      "metadata": {
        "id": "KafB-2AyqfSK"
      },
      "source": [
        "from wordcloud import WordCloud, STOPWORDS, ImageColorGenerator\n",
        "import matplotlib.pyplot as plt"
      ],
      "execution_count": null,
      "outputs": []
    },
    {
      "cell_type": "code",
      "metadata": {
        "id": "tKK72O8oyTXV"
      },
      "source": [
        "def plotWordCloud(topic_number):\n",
        "  text = dict(ldamallet.show_topics(formatted=False)[topic_number][1])\n",
        "  wordcloud = WordCloud(background_color='white',max_words=100,width=900,height=900,collocations=False)\n",
        "  wordcloud = wordcloud.generate_from_frequencies(text)\n",
        "  plt.figure(figsize=(15,10))\n",
        "  plt.title(\"Топик номер {}\".format(topic_number))\n",
        "  plt.imshow(wordcloud,interpolation='bilinear')\n",
        "  plt.axis('off')"
      ],
      "execution_count": null,
      "outputs": []
    },
    {
      "cell_type": "code",
      "metadata": {
        "colab": {
          "base_uri": "https://localhost:8080/",
          "height": 591
        },
        "id": "u0orpYUBtJiP",
        "outputId": "1676c40e-7d1e-4513-967b-dd4b5e42f22b"
      },
      "source": [
        "plotWordCloud(4)"
      ],
      "execution_count": null,
      "outputs": [
        {
          "output_type": "display_data",
          "data": {
            "image/png": "[encoded data removed]",
            "text/plain": [
              "<Figure size 1080x720 with 1 Axes>"
            ]
          },
          "metadata": {
            "tags": [],
            "needs_background": "light"
          }
        }
      ]
    },
    {
      "cell_type": "code",
      "metadata": {
        "colab": {
          "base_uri": "https://localhost:8080/",
          "height": 669
        },
        "id": "UH688Wd-zLgE",
        "outputId": "7bea902b-6856-498f-8527-a8cbb464e5cd"
      },
      "source": [
        "def format_topics_sentences(ldamodel, corpus=corpus, texts=data):\n",
        "    # Init output\n",
        "    sent_topics_df = pd.DataFrame()\n",
        "    # Get main topic in each document\n",
        "    for i, row in enumerate(ldamodel[corpus]):\n",
        "        row = sorted(row, key=lambda x: (x[1]), reverse=True)\n",
        "        # Get the Dominant topic, Perc Contribution and Keywords for each document\n",
        "        for j, (topic_num, prop_topic) in enumerate(row):\n",
        "            if j == 0:  # => dominant topic\n",
        "                wp = ldamodel.show_topic(topic_num)\n",
        "                topic_keywords = \", \".join([word for word, prop in wp])\n",
        "                sent_topics_df = sent_topics_df.append(pd.Series([int(topic_num), round(prop_topic,4), topic_keywords]), ignore_index=True)\n",
        "            else:\n",
        "                break\n",
        "    sent_topics_df.columns = ['Dominant_Topic', 'Perc_Contribution', 'Topic_Keywords']\n",
        "    # Add original text to the end of the output\n",
        "    contents = pd.Series(texts)\n",
        "    sent_topics_df = pd.concat([sent_topics_df, contents], axis=1)\n",
        "    return(sent_topics_df)\n",
        "df_topic_sents_keywords = format_topics_sentences(ldamodel=ldamallet, corpus=corpus, texts=data)\n",
        "# Format\n",
        "df_dominant_topic = df_topic_sents_keywords.reset_index()\n",
        "df_dominant_topic.columns = ['Document_No', 'Dominant_Topic', 'Topic_Perc_Contrib', 'Keywords', 'Text']\n",
        "# Show\n",
        "df_dominant_topic.head(20)"
      ],
      "execution_count": null,
      "outputs": [
        {
          "output_type": "execute_result",
          "data": {
            "text/html": [
              "<div>\n",
              "<style scoped>\n",
              "    .dataframe tbody tr th:only-of-type {\n",
              "        vertical-align: middle;\n",
              "    }\n",
              "\n",
              "    .dataframe tbody tr th {\n",
              "        vertical-align: top;\n",
              "    }\n",
              "\n",
              "    .dataframe thead th {\n",
              "        text-align: right;\n",
              "    }\n",
              "</style>\n",
              "<table border=\"1\" class=\"dataframe\">\n",
              "  <thead>\n",
              "    <tr style=\"text-align: right;\">\n",
              "      <th></th>\n",
              "      <th>Document_No</th>\n",
              "      <th>Dominant_Topic</th>\n",
              "      <th>Topic_Perc_Contrib</th>\n",
              "      <th>Keywords</th>\n",
              "      <th>Text</th>\n",
              "    </tr>\n",
              "  </thead>\n",
              "  <tbody>\n",
              "    <tr>\n",
              "      <th>0</th>\n",
              "      <td>0</td>\n",
              "      <td>2.0</td>\n",
              "      <td>0.3109</td>\n",
              "      <td>кредит, сумма, платёж, месяц, деньга, рубль, п...</td>\n",
              "      <td>Ранее писал отзыв о мошенническом навязывании ...</td>\n",
              "    </tr>\n",
              "    <tr>\n",
              "      <th>1</th>\n",
              "      <td>1</td>\n",
              "      <td>0.0</td>\n",
              "      <td>0.3059</td>\n",
              "      <td>номер, звонок, кредитный, дать, кредитный_исто...</td>\n",
              "      <td>Добрый день прошу пояснить мне причину запроса...</td>\n",
              "    </tr>\n",
              "    <tr>\n",
              "      <th>2</th>\n",
              "      <td>2</td>\n",
              "      <td>1.0</td>\n",
              "      <td>0.3029</td>\n",
              "      <td>сказать, горячий_линия, отделение, говорить, л...</td>\n",
              "      <td>вклад 200.0 т.р невозможно вернуть в короткие ...</td>\n",
              "    </tr>\n",
              "    <tr>\n",
              "      <th>3</th>\n",
              "      <td>3</td>\n",
              "      <td>4.0</td>\n",
              "      <td>0.3548</td>\n",
              "      <td>карта, кредитный_карта, кредитный, счёт, получ...</td>\n",
              "      <td>Т.к. закрываю кредитные карты всех банков, реш...</td>\n",
              "    </tr>\n",
              "    <tr>\n",
              "      <th>4</th>\n",
              "      <td>4</td>\n",
              "      <td>0.0</td>\n",
              "      <td>0.2547</td>\n",
              "      <td>номер, звонок, кредитный, дать, кредитный_исто...</td>\n",
              "      <td>Обратилась в офис по адресу: г. Смоленск, ул. ...</td>\n",
              "    </tr>\n",
              "    <tr>\n",
              "      <th>5</th>\n",
              "      <td>5</td>\n",
              "      <td>2.0</td>\n",
              "      <td>0.2665</td>\n",
              "      <td>кредит, сумма, платёж, месяц, деньга, рубль, п...</td>\n",
              "      <td>24.04.21 подали заявление на погашение потреби...</td>\n",
              "    </tr>\n",
              "    <tr>\n",
              "      <th>6</th>\n",
              "      <td>6</td>\n",
              "      <td>1.0</td>\n",
              "      <td>0.3474</td>\n",
              "      <td>сказать, горячий_линия, отделение, говорить, л...</td>\n",
              "      <td>Добрый день!Заказал на сайте Ситилинка ноутбук...</td>\n",
              "    </tr>\n",
              "    <tr>\n",
              "      <th>7</th>\n",
              "      <td>7</td>\n",
              "      <td>0.0</td>\n",
              "      <td>0.3267</td>\n",
              "      <td>номер, звонок, кредитный, дать, кредитный_исто...</td>\n",
              "      <td>В декабре 2020 года \"посчастливилось\" одобрить...</td>\n",
              "    </tr>\n",
              "    <tr>\n",
              "      <th>8</th>\n",
              "      <td>8</td>\n",
              "      <td>3.0</td>\n",
              "      <td>0.3841</td>\n",
              "      <td>кредит, договор, заявление, страховка, сотрудн...</td>\n",
              "      <td>24.04.21 Мною был оформлен потребительский кре...</td>\n",
              "    </tr>\n",
              "    <tr>\n",
              "      <th>9</th>\n",
              "      <td>9</td>\n",
              "      <td>3.0</td>\n",
              "      <td>0.3762</td>\n",
              "      <td>кредит, договор, заявление, страховка, сотрудн...</td>\n",
              "      <td>Номера сертификатов: ОТР-46011400/2021-3170276...</td>\n",
              "    </tr>\n",
              "    <tr>\n",
              "      <th>10</th>\n",
              "      <td>10</td>\n",
              "      <td>4.0</td>\n",
              "      <td>0.4424</td>\n",
              "      <td>карта, кредитный_карта, кредитный, счёт, получ...</td>\n",
              "      <td>Сегодня в другом отзыве я уже подробно написал...</td>\n",
              "    </tr>\n",
              "    <tr>\n",
              "      <th>11</th>\n",
              "      <td>11</td>\n",
              "      <td>3.0</td>\n",
              "      <td>0.5185</td>\n",
              "      <td>кредит, договор, заявление, страховка, сотрудн...</td>\n",
              "      <td>Прошу банк предоставить доказательства своих с...</td>\n",
              "    </tr>\n",
              "    <tr>\n",
              "      <th>12</th>\n",
              "      <td>12</td>\n",
              "      <td>4.0</td>\n",
              "      <td>0.4478</td>\n",
              "      <td>карта, кредитный_карта, кредитный, счёт, получ...</td>\n",
              "      <td>21 апреля 2021 года с меня сняли деньги ща обс...</td>\n",
              "    </tr>\n",
              "    <tr>\n",
              "      <th>13</th>\n",
              "      <td>13</td>\n",
              "      <td>2.0</td>\n",
              "      <td>0.2778</td>\n",
              "      <td>кредит, сумма, платёж, месяц, деньга, рубль, п...</td>\n",
              "      <td>Здравствуйте! 6.04.21 был заключен договор с ф...</td>\n",
              "    </tr>\n",
              "    <tr>\n",
              "      <th>14</th>\n",
              "      <td>14</td>\n",
              "      <td>3.0</td>\n",
              "      <td>0.2722</td>\n",
              "      <td>кредит, договор, заявление, страховка, сотрудн...</td>\n",
              "      <td>Добрый день.Этот банк не возвращает мои деньги...</td>\n",
              "    </tr>\n",
              "    <tr>\n",
              "      <th>15</th>\n",
              "      <td>15</td>\n",
              "      <td>4.0</td>\n",
              "      <td>0.5167</td>\n",
              "      <td>карта, кредитный_карта, кредитный, счёт, получ...</td>\n",
              "      <td>Добрый день!Вкратце ситуация такая. у меня кре...</td>\n",
              "    </tr>\n",
              "    <tr>\n",
              "      <th>16</th>\n",
              "      <td>16</td>\n",
              "      <td>4.0</td>\n",
              "      <td>0.3761</td>\n",
              "      <td>карта, кредитный_карта, кредитный, счёт, получ...</td>\n",
              "      <td>Имею кредитную карту ОТП Банка около двух лет....</td>\n",
              "    </tr>\n",
              "    <tr>\n",
              "      <th>17</th>\n",
              "      <td>17</td>\n",
              "      <td>0.0</td>\n",
              "      <td>0.3140</td>\n",
              "      <td>номер, звонок, кредитный, дать, кредитный_исто...</td>\n",
              "      <td>Было наложно судебным приставом арест, оплату ...</td>\n",
              "    </tr>\n",
              "    <tr>\n",
              "      <th>18</th>\n",
              "      <td>18</td>\n",
              "      <td>4.0</td>\n",
              "      <td>0.2983</td>\n",
              "      <td>карта, кредитный_карта, кредитный, счёт, получ...</td>\n",
              "      <td>Пользовался 2 года кредитной картой ОТП банка....</td>\n",
              "    </tr>\n",
              "    <tr>\n",
              "      <th>19</th>\n",
              "      <td>19</td>\n",
              "      <td>0.0</td>\n",
              "      <td>0.2578</td>\n",
              "      <td>номер, звонок, кредитный, дать, кредитный_исто...</td>\n",
              "      <td>Начну с того что они испортили мою кредитную и...</td>\n",
              "    </tr>\n",
              "  </tbody>\n",
              "</table>\n",
              "</div>"
            ],
            "text/plain": [
              "    Document_No  ...                                               Text\n",
              "0             0  ...  Ранее писал отзыв о мошенническом навязывании ...\n",
              "1             1  ...  Добрый день прошу пояснить мне причину запроса...\n",
              "2             2  ...  вклад 200.0 т.р невозможно вернуть в короткие ...\n",
              "3             3  ...  Т.к. закрываю кредитные карты всех банков, реш...\n",
              "4             4  ...  Обратилась в офис по адресу: г. Смоленск, ул. ...\n",
              "5             5  ...  24.04.21 подали заявление на погашение потреби...\n",
              "6             6  ...  Добрый день!Заказал на сайте Ситилинка ноутбук...\n",
              "7             7  ...  В декабре 2020 года \"посчастливилось\" одобрить...\n",
              "8             8  ...  24.04.21 Мною был оформлен потребительский кре...\n",
              "9             9  ...  Номера сертификатов: ОТР-46011400/2021-3170276...\n",
              "10           10  ...  Сегодня в другом отзыве я уже подробно написал...\n",
              "11           11  ...  Прошу банк предоставить доказательства своих с...\n",
              "12           12  ...  21 апреля 2021 года с меня сняли деньги ща обс...\n",
              "13           13  ...  Здравствуйте! 6.04.21 был заключен договор с ф...\n",
              "14           14  ...  Добрый день.Этот банк не возвращает мои деньги...\n",
              "15           15  ...  Добрый день!Вкратце ситуация такая. у меня кре...\n",
              "16           16  ...  Имею кредитную карту ОТП Банка около двух лет....\n",
              "17           17  ...  Было наложно судебным приставом арест, оплату ...\n",
              "18           18  ...  Пользовался 2 года кредитной картой ОТП банка....\n",
              "19           19  ...  Начну с того что они испортили мою кредитную и...\n",
              "\n",
              "[20 rows x 5 columns]"
            ]
          },
          "metadata": {
            "tags": []
          },
          "execution_count": 28
        }
      ]
    },
    {
      "cell_type": "code",
      "metadata": {
        "colab": {
          "base_uri": "https://localhost:8080/",
          "height": 103
        },
        "id": "_UzHoKMlWX9W",
        "outputId": "4355cd86-53d1-4fdc-f13e-4c79723b853d"
      },
      "source": [
        "df_dominant_topic[(df_dominant_topic['Dominant_Topic']==0.0) & (df_dominant_topic['Topic_Perc_Contrib']>0.5)].Text.to_list()[2]"
      ],
      "execution_count": null,
      "outputs": [
        {
          "output_type": "execute_result",
          "data": {
            "application/vnd.google.colaboratory.intrinsic+json": {
              "type": "string"
            },
            "text/plain": [
              "'Самый не порядочный банк, что можно себе представить! Ситуация в следующем, есть потреб.кредит-платил испрано-началась пандемия-уволили с работы, пол года просил отсрочку платежей, спустя пол года её мне дали, за это время не успеваю устраиваться на работу наступает платёж я его исправно оплачиваю, при этом оставляю обращения на рестуктуризацию (потому что не устроился ещё на работу) ни чего не отвечает мне банк, в период с последней оплаты поворачивается работа и я уезжаю на вахту, подходит следующий платёж естественно деньги заработать я не успеваю и прсрачиваю пол месяца (уведомив банк об этом,но скрываюсь).После пол месяца просрочки начинает звонить коллектор (не после суда не после приставов), а спустя пол месяца просрочки (её можно назвать технической) и начинает мне угрожать, пояснив всю ситуацию звонки продолжаются я с ними общаюсь не игнарируя поясняю ситуацию! И уже готов был оплатить, так как получил первую зп эта женщина начинает звонить и рассылать смс чужим посторонним людям информацию о моей законности, о том что я розыске, абсолютно чужим людям которые не имеют ко мне отношения (это называется БАНКОВСКАЯ тайна).На каком основании пол страны знает о моей технической просрочки? Теперь я принципиально не плачу этот кредит,а больше скажу буду подавать в суд на банк за разложения банковской тайны! Все звонки записаны у чужих людей, свидетели есть, смс сохранены! Хотя и был на связи с банком, не от кого не скрывался и не срываюсь, супруга тоже на связи (её только телефон был указан в анкете), а банк звонят чужим людям предоставляет ложную информацию о том что телефоны этих людей были указаны в анкете-лож и провокация!Банк полностью некомпитентен к своим клиентам! Буду просить моральный ущерб (год отсрочки платежей). Прошу наказать виновных за разглошения банковской тайны, которая влечется законом!'"
            ]
          },
          "metadata": {
            "tags": []
          },
          "execution_count": 31
        }
      ]
    },
    {
      "cell_type": "code",
      "metadata": {
        "colab": {
          "base_uri": "https://localhost:8080/",
          "height": 415
        },
        "id": "PyoXAs5I5t7o",
        "outputId": "61416f0b-1b00-41a5-a747-5ebdcc7300a7"
      },
      "source": [
        "# Number of Documents for Each Topic\n",
        "topic_counts = df_dominant_topic['Dominant_Topic'].value_counts()\n",
        "# Percentage of Documents for Each Topic\n",
        "topic_contribution = round(topic_counts/topic_counts.sum(), 4)\n",
        "# Topic Number and Keywords\n",
        "topic_num_keywords = df_dominant_topic[['Dominant_Topic', 'Keywords','Text']]\n",
        "# Concatenate Column wise\n",
        "df_dominant_topics = pd.concat([topic_num_keywords, topic_counts, topic_contribution], axis=1)\n",
        "# Change Column names\n",
        "df_dominant_topics.columns = ['Dominant_Topic', 'Topic_Keywords','Text', 'Num_Documents', 'Perc_Documents']\n",
        "# Show\n",
        "df_dominant_topics"
      ],
      "execution_count": null,
      "outputs": [
        {
          "output_type": "execute_result",
          "data": {
            "text/html": [
              "<div>\n",
              "<style scoped>\n",
              "    .dataframe tbody tr th:only-of-type {\n",
              "        vertical-align: middle;\n",
              "    }\n",
              "\n",
              "    .dataframe tbody tr th {\n",
              "        vertical-align: top;\n",
              "    }\n",
              "\n",
              "    .dataframe thead th {\n",
              "        text-align: right;\n",
              "    }\n",
              "</style>\n",
              "<table border=\"1\" class=\"dataframe\">\n",
              "  <thead>\n",
              "    <tr style=\"text-align: right;\">\n",
              "      <th></th>\n",
              "      <th>Dominant_Topic</th>\n",
              "      <th>Topic_Keywords</th>\n",
              "      <th>Text</th>\n",
              "      <th>Num_Documents</th>\n",
              "      <th>Perc_Documents</th>\n",
              "    </tr>\n",
              "  </thead>\n",
              "  <tbody>\n",
              "    <tr>\n",
              "      <th>0.0</th>\n",
              "      <td>1.0</td>\n",
              "      <td>договор, кредит, заявление, страховка, написат...</td>\n",
              "      <td>Ранее писал отзыв о мошенническом навязывании ...</td>\n",
              "      <td>696.0</td>\n",
              "      <td>0.1740</td>\n",
              "    </tr>\n",
              "    <tr>\n",
              "      <th>1.0</th>\n",
              "      <td>4.0</td>\n",
              "      <td>сумма, платёж, кредит, счёт, месяц, кредитный,...</td>\n",
              "      <td>Добрый день прошу пояснить мне причину запроса...</td>\n",
              "      <td>757.0</td>\n",
              "      <td>0.1892</td>\n",
              "    </tr>\n",
              "    <tr>\n",
              "      <th>2.0</th>\n",
              "      <td>3.0</td>\n",
              "      <td>сказать, говорить, кредит, отделение, деньга, ...</td>\n",
              "      <td>вклад 200.0 т.р невозможно вернуть в короткие ...</td>\n",
              "      <td>868.0</td>\n",
              "      <td>0.2170</td>\n",
              "    </tr>\n",
              "    <tr>\n",
              "      <th>3.0</th>\n",
              "      <td>2.0</td>\n",
              "      <td>карта, кредитный_карта, горячий_линия, кредитн...</td>\n",
              "      <td>Т.к. закрываю кредитные карты всех банков, реш...</td>\n",
              "      <td>813.0</td>\n",
              "      <td>0.2032</td>\n",
              "    </tr>\n",
              "    <tr>\n",
              "      <th>4.0</th>\n",
              "      <td>0.0</td>\n",
              "      <td>номер, сотрудник, звонок, дать, телефон, звони...</td>\n",
              "      <td>Обратилась в офис по адресу: г. Смоленск, ул. ...</td>\n",
              "      <td>866.0</td>\n",
              "      <td>0.2165</td>\n",
              "    </tr>\n",
              "    <tr>\n",
              "      <th>...</th>\n",
              "      <td>...</td>\n",
              "      <td>...</td>\n",
              "      <td>...</td>\n",
              "      <td>...</td>\n",
              "      <td>...</td>\n",
              "    </tr>\n",
              "    <tr>\n",
              "      <th>3995.0</th>\n",
              "      <td>2.0</td>\n",
              "      <td>карта, кредитный_карта, горячий_линия, кредитн...</td>\n",
              "      <td>В предыдущем месяце выполнил по карте условия ...</td>\n",
              "      <td>NaN</td>\n",
              "      <td>NaN</td>\n",
              "    </tr>\n",
              "    <tr>\n",
              "      <th>3996.0</th>\n",
              "      <td>1.0</td>\n",
              "      <td>договор, кредит, заявление, страховка, написат...</td>\n",
              "      <td>Добрый день! Брал у вас экспресс кредит, плачу...</td>\n",
              "      <td>NaN</td>\n",
              "      <td>NaN</td>\n",
              "    </tr>\n",
              "    <tr>\n",
              "      <th>3997.0</th>\n",
              "      <td>0.0</td>\n",
              "      <td>номер, сотрудник, звонок, дать, телефон, звони...</td>\n",
              "      <td>Добрый день, взяли кредит в магазине (2 предме...</td>\n",
              "      <td>NaN</td>\n",
              "      <td>NaN</td>\n",
              "    </tr>\n",
              "    <tr>\n",
              "      <th>3998.0</th>\n",
              "      <td>3.0</td>\n",
              "      <td>сказать, говорить, кредит, отделение, деньга, ...</td>\n",
              "      <td>Вот уже более полугода я с большим трудом и по...</td>\n",
              "      <td>NaN</td>\n",
              "      <td>NaN</td>\n",
              "    </tr>\n",
              "    <tr>\n",
              "      <th>3999.0</th>\n",
              "      <td>4.0</td>\n",
              "      <td>сумма, платёж, кредит, счёт, месяц, кредитный,...</td>\n",
              "      <td>3-й день не могут назвать мне точную сумму для...</td>\n",
              "      <td>NaN</td>\n",
              "      <td>NaN</td>\n",
              "    </tr>\n",
              "  </tbody>\n",
              "</table>\n",
              "<p>4000 rows × 5 columns</p>\n",
              "</div>"
            ],
            "text/plain": [
              "        Dominant_Topic  ... Perc_Documents\n",
              "0.0                1.0  ...         0.1740\n",
              "1.0                4.0  ...         0.1892\n",
              "2.0                3.0  ...         0.2170\n",
              "3.0                2.0  ...         0.2032\n",
              "4.0                0.0  ...         0.2165\n",
              "...                ...  ...            ...\n",
              "3995.0             2.0  ...            NaN\n",
              "3996.0             1.0  ...            NaN\n",
              "3997.0             0.0  ...            NaN\n",
              "3998.0             3.0  ...            NaN\n",
              "3999.0             4.0  ...            NaN\n",
              "\n",
              "[4000 rows x 5 columns]"
            ]
          },
          "metadata": {
            "tags": []
          },
          "execution_count": 43
        }
      ]
    },
    {
      "cell_type": "code",
      "metadata": {
        "colab": {
          "base_uri": "https://localhost:8080/",
          "height": 419
        },
        "id": "RfOiH6gj8xRU",
        "outputId": "5875320a-3f4e-4cc5-d0c1-286aeefc282b"
      },
      "source": [
        "df_topic_sents_keywords"
      ],
      "execution_count": null,
      "outputs": [
        {
          "output_type": "execute_result",
          "data": {
            "text/html": [
              "<div>\n",
              "<style scoped>\n",
              "    .dataframe tbody tr th:only-of-type {\n",
              "        vertical-align: middle;\n",
              "    }\n",
              "\n",
              "    .dataframe tbody tr th {\n",
              "        vertical-align: top;\n",
              "    }\n",
              "\n",
              "    .dataframe thead th {\n",
              "        text-align: right;\n",
              "    }\n",
              "</style>\n",
              "<table border=\"1\" class=\"dataframe\">\n",
              "  <thead>\n",
              "    <tr style=\"text-align: right;\">\n",
              "      <th></th>\n",
              "      <th>Dominant_Topic</th>\n",
              "      <th>Perc_Contribution</th>\n",
              "      <th>Topic_Keywords</th>\n",
              "      <th>0</th>\n",
              "    </tr>\n",
              "  </thead>\n",
              "  <tbody>\n",
              "    <tr>\n",
              "      <th>0</th>\n",
              "      <td>0.0</td>\n",
              "      <td>0.5113</td>\n",
              "      <td>карта, кредитный_карта, платёж, счёт, сумма, к...</td>\n",
              "      <td>Ранее писал отзыв о мошенническом навязывании ...</td>\n",
              "    </tr>\n",
              "    <tr>\n",
              "      <th>1</th>\n",
              "      <td>1.0</td>\n",
              "      <td>0.9949</td>\n",
              "      <td>кредит, сотрудник, договор, заявление, сказать...</td>\n",
              "      <td>Добрый день. Хочу оставить жалобу на вашего со...</td>\n",
              "    </tr>\n",
              "    <tr>\n",
              "      <th>2</th>\n",
              "      <td>0.0</td>\n",
              "      <td>0.8257</td>\n",
              "      <td>карта, кредитный_карта, платёж, счёт, сумма, к...</td>\n",
              "      <td>Добрый день прошу пояснить мне причину запроса...</td>\n",
              "    </tr>\n",
              "    <tr>\n",
              "      <th>3</th>\n",
              "      <td>1.0</td>\n",
              "      <td>0.5895</td>\n",
              "      <td>кредит, сотрудник, договор, заявление, сказать...</td>\n",
              "      <td>вклад 200.0 т.р невозможно вернуть в короткие ...</td>\n",
              "    </tr>\n",
              "    <tr>\n",
              "      <th>4</th>\n",
              "      <td>1.0</td>\n",
              "      <td>0.9556</td>\n",
              "      <td>кредит, сотрудник, договор, заявление, сказать...</td>\n",
              "      <td>Уважаемы работники банка, очень прошу удалите ...</td>\n",
              "    </tr>\n",
              "    <tr>\n",
              "      <th>...</th>\n",
              "      <td>...</td>\n",
              "      <td>...</td>\n",
              "      <td>...</td>\n",
              "      <td>...</td>\n",
              "    </tr>\n",
              "    <tr>\n",
              "      <th>3995</th>\n",
              "      <td>1.0</td>\n",
              "      <td>0.9928</td>\n",
              "      <td>кредит, сотрудник, договор, заявление, сказать...</td>\n",
              "      <td>В течение последних 6-8 месяцев на принадлежащ...</td>\n",
              "    </tr>\n",
              "    <tr>\n",
              "      <th>3996</th>\n",
              "      <td>1.0</td>\n",
              "      <td>0.8293</td>\n",
              "      <td>кредит, сотрудник, договор, заявление, сказать...</td>\n",
              "      <td>Сегодня решил воспользоваться услугой ОТП банк...</td>\n",
              "    </tr>\n",
              "    <tr>\n",
              "      <th>3997</th>\n",
              "      <td>1.0</td>\n",
              "      <td>0.5550</td>\n",
              "      <td>кредит, сотрудник, договор, заявление, сказать...</td>\n",
              "      <td>Отвратительный банк! За такие выкрутасы в сове...</td>\n",
              "    </tr>\n",
              "    <tr>\n",
              "      <th>3998</th>\n",
              "      <td>1.0</td>\n",
              "      <td>0.9518</td>\n",
              "      <td>кредит, сотрудник, договор, заявление, сказать...</td>\n",
              "      <td>Добрый вечер!Кочеткова Елена Вячеславовна, дог...</td>\n",
              "    </tr>\n",
              "    <tr>\n",
              "      <th>3999</th>\n",
              "      <td>0.0</td>\n",
              "      <td>0.7711</td>\n",
              "      <td>карта, кредитный_карта, платёж, счёт, сумма, к...</td>\n",
              "      <td>Дней 20 назад заполнил на сайте форму на получ...</td>\n",
              "    </tr>\n",
              "  </tbody>\n",
              "</table>\n",
              "<p>4000 rows × 4 columns</p>\n",
              "</div>"
            ],
            "text/plain": [
              "      Dominant_Topic  ...                                                  0\n",
              "0                0.0  ...  Ранее писал отзыв о мошенническом навязывании ...\n",
              "1                1.0  ...  Добрый день. Хочу оставить жалобу на вашего со...\n",
              "2                0.0  ...  Добрый день прошу пояснить мне причину запроса...\n",
              "3                1.0  ...  вклад 200.0 т.р невозможно вернуть в короткие ...\n",
              "4                1.0  ...  Уважаемы работники банка, очень прошу удалите ...\n",
              "...              ...  ...                                                ...\n",
              "3995             1.0  ...  В течение последних 6-8 месяцев на принадлежащ...\n",
              "3996             1.0  ...  Сегодня решил воспользоваться услугой ОТП банк...\n",
              "3997             1.0  ...  Отвратительный банк! За такие выкрутасы в сове...\n",
              "3998             1.0  ...  Добрый вечер!Кочеткова Елена Вячеславовна, дог...\n",
              "3999             0.0  ...  Дней 20 назад заполнил на сайте форму на получ...\n",
              "\n",
              "[4000 rows x 4 columns]"
            ]
          },
          "metadata": {
            "tags": []
          },
          "execution_count": 41
        }
      ]
    }
  ]
}