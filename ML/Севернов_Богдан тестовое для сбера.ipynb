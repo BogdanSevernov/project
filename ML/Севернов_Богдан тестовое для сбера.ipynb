{
  "nbformat": 4,
  "nbformat_minor": 0,
  "metadata": {
    "colab": {
      "name": "Севернов Богдан сбер",
      "provenance": [],
      "collapsed_sections": []
    },
    "kernelspec": {
      "name": "python3",
      "display_name": "Python 3"
    },
    "language_info": {
      "name": "python"
    }
  },
  "cells": [
    {
      "cell_type": "markdown",
      "metadata": {
        "id": "wgcrXhXF2hdx"
      },
      "source": [
        "### **Задание №1**. Предположим, что у вас в базе есть табличка с балансом по всем счетам клиента на конец дня. Из-за особенностей построения таблицы, часть значений незаполнена и физически это означает отсутствие информации об изменении баланса. Для простоты будем считать, пропущенные значения для одного пользователя не могут встретиться между двумя заполненными. Напишите SQL запрос для заполнения неизвестных значений по каждому клиенту последним известным.\n",
        "\n",
        "client_id |date | value\n",
        "--- | --- | ---\n",
        "1 | 14.04.2020 | 10000\n",
        "1 | 15.04.2020 | 5000\n",
        "1 | 16.04.2020 | NaN\n",
        "1 | 17.04.2020 | NaN\n",
        "1 | 18.04.2020 | NaN\n",
        "2 | 14.04.2020 | 250000\n",
        "2 | 15.04.2020 | 250000\n",
        "2 | 16.04.2020 | 230000\n",
        "2 | 17.04.2020 | 230000\n",
        "2 | 18.04.2020 | 225000\n",
        "3 | 14.04.2020 | 50000\n",
        "3 | 15.04.2020 | NaN\n",
        "3 | 16.04.2020 | NaN\n",
        "3 | 17.04.2020 | NaN\n",
        "3 | 18.04.2020 | NaN\n"
      ]
    },
    {
      "cell_type": "code",
      "metadata": {
        "id": "319frI6r16vt"
      },
      "source": [
        "SELECT client_id, date, ISNULL(value, (SELECT TOP 1 value FROM Table WHERE \n",
        "                        date < t.date and value is not null and client_id=t.client_id\n",
        "                        ORDER BY date DESC)) FROM Table t"
      ],
      "execution_count": null,
      "outputs": []
    },
    {
      "cell_type": "markdown",
      "metadata": {
        "id": "_KG06CvbJZbJ"
      },
      "source": [
        "### **Задание №1.1 (*)**. В прошлом задании мы считали, что пропущенные значения не могут находиться между двумя заполненными в рамках одного пользователя, что не всегда правда в реальных задачах. Напишите теперь SQL запрос без указанного допущения.\n",
        "\n",
        "client_id |date | value\n",
        "--- | --- | ---\n",
        "1 | 14.04.2020 | 10000\n",
        "1 | 15.04.2020 | 5000\n",
        "1 | 16.04.2020 | NaN\n",
        "1 | 17.04.2020 | 7000\n",
        "1 | 18.04.2020 | NaN\n",
        "2 | 14.04.2020 | 250000\n",
        "2 | 15.04.2020 | 250000\n",
        "2 | 16.04.2020 | 230000\n",
        "2 | 17.04.2020 | 230000\n",
        "2 | 18.04.2020 | 225000\n",
        "3 | 14.04.2020 | 50000\n",
        "3 | 15.04.2020 | NaN\n",
        "3 | 16.04.2020 | NaN\n",
        "3 | 17.04.2020 | 49000\n",
        "3 | 18.04.2020 | NaN"
      ]
    },
    {
      "cell_type": "code",
      "metadata": {
        "id": "y39pOtGaJYyL"
      },
      "source": [
        "# <YOUR_CODE_HERE>"
      ],
      "execution_count": null,
      "outputs": []
    },
    {
      "cell_type": "markdown",
      "metadata": {
        "id": "wJpKlNtb5hro"
      },
      "source": [
        "### **Задание №2**. Пусть клиенты обладают рядом статусов, закодированных цифрами: 0 - \"улица\", 1 - \"зарплатник\", 2 - \"премиум\", 3 - \"пенсионер\", 4 - \"студент\". У нас есть матрица с логами смен статусов за некоторый период, разверните ее в матрицу статус - статус с частотами перехода между ними.\n",
        "\n",
        "Пример, как было:\n",
        "\n",
        "client_id | prev_segment | new_segment|\n",
        "--- | --- | ---\n",
        "1 | 0 | 1\n",
        "2 | 0 | 2\n",
        "3 | 4 | 3\n",
        "\n",
        "Пример, как нужно:\n",
        "\n",
        "segment |0 | 1 | 2 | 3 | 4 \n",
        "--- | --- | --- | --- | --- | ---\n",
        "0 | 0 | 0.5 | 0.5 | 0 | 0 \n",
        "1 | 0 |0 | 0 | 0 | 0\n",
        "2 | 0 | 0 | 0 | 0 | 0\n",
        "3 | 0 | 0 | 0 | 0 | 0\n",
        "4 | 0 | 0 | 0 | 1 | 0\n",
        "\n",
        "В процессе выполнения задания разрешается пользоваться библиотеками numpy и pandas."
      ]
    },
    {
      "cell_type": "code",
      "metadata": {
        "id": "6Go_dImd5hEt"
      },
      "source": [
        "import numpy as np\n",
        "import pandas as pd\n",
        "\n",
        "# Сгенерируем данные для задачи\n",
        "data = pd.DataFrame(\n",
        "    np.random.randint(low=0, high=5, size=(500000, 2)),\n",
        "    columns=['prev_segment', 'new_segment']\n",
        ")"
      ],
      "execution_count": null,
      "outputs": []
    },
    {
      "cell_type": "code",
      "metadata": {
        "id": "qLIsGl4A-qtn"
      },
      "source": [
        "A=np.zeros([5, 5])\n",
        "for i in range(5):\n",
        "  for j in range(5):\n",
        "    if i in np.array(data.prev_segment):\n",
        "      A[i,j]=data[(data.prev_segment == i) & (data.new_segment == j)].shape[0]/len(np.array(data.prev_segment)[np.array(data.prev_segment)==i])\n",
        "    else:\n",
        "      A[i,j]=0"
      ],
      "execution_count": null,
      "outputs": []
    },
    {
      "cell_type": "code",
      "metadata": {
        "colab": {
          "base_uri": "https://localhost:8080/"
        },
        "id": "xEBbEElZJAX3",
        "outputId": "240ed16a-a838-4dd5-a81b-5e1784125370"
      },
      "source": [
        "print(A)"
      ],
      "execution_count": null,
      "outputs": [
        {
          "output_type": "stream",
          "text": [
            "[[0.20071621 0.20028966 0.19898025 0.19859338 0.20142051]\n",
            " [0.2004065  0.19872443 0.20133765 0.19911491 0.20041651]\n",
            " [0.20199244 0.19955456 0.19907301 0.20037722 0.19900278]\n",
            " [0.20218541 0.19572533 0.20079324 0.20170466 0.19959136]\n",
            " [0.19997395 0.1967172  0.20011424 0.20166745 0.20152716]]\n"
          ],
          "name": "stdout"
        }
      ]
    },
    {
      "cell_type": "markdown",
      "metadata": {
        "id": "zr6Y-GmXNXMm"
      },
      "source": [
        "### **Задание №2.1 (*)**. Если вы не пользовались библиотечными функциями и реализовывали алгоритм самостоятельно, напишите, пожалуйста, его асимптотическую сложность в терминах O-большое."
      ]
    },
    {
      "cell_type": "code",
      "metadata": {
        "id": "xRKXcJz8NWGF"
      },
      "source": [
        "# <YOUR_CODE_HERE>"
      ],
      "execution_count": null,
      "outputs": []
    },
    {
      "cell_type": "markdown",
      "metadata": {
        "id": "PCmozMhqNoys"
      },
      "source": [
        "### **Задание №3**. Постройте прогнозую модель для датасета с UCI Machine Learning: предобработайте категориальные фичи, отберите их, соберите схему валидации и отберите модели с помощью нее. Описание датасета по ссылке: https://archive.ics.uci.edu/ml/datasets/Drug+consumption+%28quantified%29\n",
        "\n",
        "Данная задача multilabel multiclass classification, поэтому предлагаю начать с одного из подходов:\n",
        "- Свести задачу к multilabel binary classification, как это указано в описании к датасету;\n",
        "- Свести задачку к binary classification тем или иным способом;\n",
        "- Обучить множество multiclass/binary classification моделей;\n",
        "- Что-то еще, что придет в голову.\n"
      ]
    },
    {
      "cell_type": "code",
      "metadata": {
        "colab": {
          "base_uri": "https://localhost:8080/"
        },
        "id": "99wiNQQ5Nn2U",
        "outputId": "1040d792-fe25-4c23-90ec-a15ed8a981d3"
      },
      "source": [
        "!wget https://archive.ics.uci.edu/ml/machine-learning-databases/00373/drug_consumption.data"
      ],
      "execution_count": null,
      "outputs": [
        {
          "output_type": "stream",
          "text": [
            "--2021-04-27 14:04:42--  https://archive.ics.uci.edu/ml/machine-learning-databases/00373/drug_consumption.data\n",
            "Resolving archive.ics.uci.edu (archive.ics.uci.edu)... 128.195.10.252\n",
            "Connecting to archive.ics.uci.edu (archive.ics.uci.edu)|128.195.10.252|:443... connected.\n",
            "HTTP request sent, awaiting response... 200 OK\n",
            "Length: 346695 (339K) [application/x-httpd-php]\n",
            "Saving to: ‘drug_consumption.data.2’\n",
            "\n",
            "drug_consumption.da 100%[===================>] 338.57K  1.15MB/s    in 0.3s    \n",
            "\n",
            "2021-04-27 14:04:43 (1.15 MB/s) - ‘drug_consumption.data.2’ saved [346695/346695]\n",
            "\n"
          ],
          "name": "stdout"
        }
      ]
    },
    {
      "cell_type": "code",
      "metadata": {
        "colab": {
          "base_uri": "https://localhost:8080/",
          "height": 253
        },
        "id": "lOsvJKfbNRN4",
        "outputId": "9d2453fa-1391-47d9-c2db-d37417979cb3"
      },
      "source": [
        "import numpy as np\n",
        "import pandas as pd\n",
        "\n",
        "data = pd.read_csv('drug_consumption.data', header=None, index_col=0)\n",
        "data.head()"
      ],
      "execution_count": null,
      "outputs": [
        {
          "output_type": "execute_result",
          "data": {
            "text/html": [
              "<div>\n",
              "<style scoped>\n",
              "    .dataframe tbody tr th:only-of-type {\n",
              "        vertical-align: middle;\n",
              "    }\n",
              "\n",
              "    .dataframe tbody tr th {\n",
              "        vertical-align: top;\n",
              "    }\n",
              "\n",
              "    .dataframe thead th {\n",
              "        text-align: right;\n",
              "    }\n",
              "</style>\n",
              "<table border=\"1\" class=\"dataframe\">\n",
              "  <thead>\n",
              "    <tr style=\"text-align: right;\">\n",
              "      <th></th>\n",
              "      <th>1</th>\n",
              "      <th>2</th>\n",
              "      <th>3</th>\n",
              "      <th>4</th>\n",
              "      <th>5</th>\n",
              "      <th>6</th>\n",
              "      <th>7</th>\n",
              "      <th>8</th>\n",
              "      <th>9</th>\n",
              "      <th>10</th>\n",
              "      <th>11</th>\n",
              "      <th>12</th>\n",
              "      <th>13</th>\n",
              "      <th>14</th>\n",
              "      <th>15</th>\n",
              "      <th>16</th>\n",
              "      <th>17</th>\n",
              "      <th>18</th>\n",
              "      <th>19</th>\n",
              "      <th>20</th>\n",
              "      <th>21</th>\n",
              "      <th>22</th>\n",
              "      <th>23</th>\n",
              "      <th>24</th>\n",
              "      <th>25</th>\n",
              "      <th>26</th>\n",
              "      <th>27</th>\n",
              "      <th>28</th>\n",
              "      <th>29</th>\n",
              "      <th>30</th>\n",
              "      <th>31</th>\n",
              "    </tr>\n",
              "    <tr>\n",
              "      <th>0</th>\n",
              "      <th></th>\n",
              "      <th></th>\n",
              "      <th></th>\n",
              "      <th></th>\n",
              "      <th></th>\n",
              "      <th></th>\n",
              "      <th></th>\n",
              "      <th></th>\n",
              "      <th></th>\n",
              "      <th></th>\n",
              "      <th></th>\n",
              "      <th></th>\n",
              "      <th></th>\n",
              "      <th></th>\n",
              "      <th></th>\n",
              "      <th></th>\n",
              "      <th></th>\n",
              "      <th></th>\n",
              "      <th></th>\n",
              "      <th></th>\n",
              "      <th></th>\n",
              "      <th></th>\n",
              "      <th></th>\n",
              "      <th></th>\n",
              "      <th></th>\n",
              "      <th></th>\n",
              "      <th></th>\n",
              "      <th></th>\n",
              "      <th></th>\n",
              "      <th></th>\n",
              "      <th></th>\n",
              "    </tr>\n",
              "  </thead>\n",
              "  <tbody>\n",
              "    <tr>\n",
              "      <th>1</th>\n",
              "      <td>0.49788</td>\n",
              "      <td>0.48246</td>\n",
              "      <td>-0.05921</td>\n",
              "      <td>0.96082</td>\n",
              "      <td>0.12600</td>\n",
              "      <td>0.31287</td>\n",
              "      <td>-0.57545</td>\n",
              "      <td>-0.58331</td>\n",
              "      <td>-0.91699</td>\n",
              "      <td>-0.00665</td>\n",
              "      <td>-0.21712</td>\n",
              "      <td>-1.18084</td>\n",
              "      <td>CL5</td>\n",
              "      <td>CL2</td>\n",
              "      <td>CL0</td>\n",
              "      <td>CL2</td>\n",
              "      <td>CL6</td>\n",
              "      <td>CL0</td>\n",
              "      <td>CL5</td>\n",
              "      <td>CL0</td>\n",
              "      <td>CL0</td>\n",
              "      <td>CL0</td>\n",
              "      <td>CL0</td>\n",
              "      <td>CL0</td>\n",
              "      <td>CL0</td>\n",
              "      <td>CL0</td>\n",
              "      <td>CL0</td>\n",
              "      <td>CL0</td>\n",
              "      <td>CL2</td>\n",
              "      <td>CL0</td>\n",
              "      <td>CL0</td>\n",
              "    </tr>\n",
              "    <tr>\n",
              "      <th>2</th>\n",
              "      <td>-0.07854</td>\n",
              "      <td>-0.48246</td>\n",
              "      <td>1.98437</td>\n",
              "      <td>0.96082</td>\n",
              "      <td>-0.31685</td>\n",
              "      <td>-0.67825</td>\n",
              "      <td>1.93886</td>\n",
              "      <td>1.43533</td>\n",
              "      <td>0.76096</td>\n",
              "      <td>-0.14277</td>\n",
              "      <td>-0.71126</td>\n",
              "      <td>-0.21575</td>\n",
              "      <td>CL5</td>\n",
              "      <td>CL2</td>\n",
              "      <td>CL2</td>\n",
              "      <td>CL0</td>\n",
              "      <td>CL6</td>\n",
              "      <td>CL4</td>\n",
              "      <td>CL6</td>\n",
              "      <td>CL3</td>\n",
              "      <td>CL0</td>\n",
              "      <td>CL4</td>\n",
              "      <td>CL0</td>\n",
              "      <td>CL2</td>\n",
              "      <td>CL0</td>\n",
              "      <td>CL2</td>\n",
              "      <td>CL3</td>\n",
              "      <td>CL0</td>\n",
              "      <td>CL4</td>\n",
              "      <td>CL0</td>\n",
              "      <td>CL0</td>\n",
              "    </tr>\n",
              "    <tr>\n",
              "      <th>3</th>\n",
              "      <td>0.49788</td>\n",
              "      <td>-0.48246</td>\n",
              "      <td>-0.05921</td>\n",
              "      <td>0.96082</td>\n",
              "      <td>-0.31685</td>\n",
              "      <td>-0.46725</td>\n",
              "      <td>0.80523</td>\n",
              "      <td>-0.84732</td>\n",
              "      <td>-1.62090</td>\n",
              "      <td>-1.01450</td>\n",
              "      <td>-1.37983</td>\n",
              "      <td>0.40148</td>\n",
              "      <td>CL6</td>\n",
              "      <td>CL0</td>\n",
              "      <td>CL0</td>\n",
              "      <td>CL0</td>\n",
              "      <td>CL6</td>\n",
              "      <td>CL3</td>\n",
              "      <td>CL4</td>\n",
              "      <td>CL0</td>\n",
              "      <td>CL0</td>\n",
              "      <td>CL0</td>\n",
              "      <td>CL0</td>\n",
              "      <td>CL0</td>\n",
              "      <td>CL0</td>\n",
              "      <td>CL0</td>\n",
              "      <td>CL0</td>\n",
              "      <td>CL1</td>\n",
              "      <td>CL0</td>\n",
              "      <td>CL0</td>\n",
              "      <td>CL0</td>\n",
              "    </tr>\n",
              "    <tr>\n",
              "      <th>4</th>\n",
              "      <td>-0.95197</td>\n",
              "      <td>0.48246</td>\n",
              "      <td>1.16365</td>\n",
              "      <td>0.96082</td>\n",
              "      <td>-0.31685</td>\n",
              "      <td>-0.14882</td>\n",
              "      <td>-0.80615</td>\n",
              "      <td>-0.01928</td>\n",
              "      <td>0.59042</td>\n",
              "      <td>0.58489</td>\n",
              "      <td>-1.37983</td>\n",
              "      <td>-1.18084</td>\n",
              "      <td>CL4</td>\n",
              "      <td>CL0</td>\n",
              "      <td>CL0</td>\n",
              "      <td>CL3</td>\n",
              "      <td>CL5</td>\n",
              "      <td>CL2</td>\n",
              "      <td>CL4</td>\n",
              "      <td>CL2</td>\n",
              "      <td>CL0</td>\n",
              "      <td>CL0</td>\n",
              "      <td>CL0</td>\n",
              "      <td>CL2</td>\n",
              "      <td>CL0</td>\n",
              "      <td>CL0</td>\n",
              "      <td>CL0</td>\n",
              "      <td>CL0</td>\n",
              "      <td>CL2</td>\n",
              "      <td>CL0</td>\n",
              "      <td>CL0</td>\n",
              "    </tr>\n",
              "    <tr>\n",
              "      <th>5</th>\n",
              "      <td>0.49788</td>\n",
              "      <td>0.48246</td>\n",
              "      <td>1.98437</td>\n",
              "      <td>0.96082</td>\n",
              "      <td>-0.31685</td>\n",
              "      <td>0.73545</td>\n",
              "      <td>-1.63340</td>\n",
              "      <td>-0.45174</td>\n",
              "      <td>-0.30172</td>\n",
              "      <td>1.30612</td>\n",
              "      <td>-0.21712</td>\n",
              "      <td>-0.21575</td>\n",
              "      <td>CL4</td>\n",
              "      <td>CL1</td>\n",
              "      <td>CL1</td>\n",
              "      <td>CL0</td>\n",
              "      <td>CL6</td>\n",
              "      <td>CL3</td>\n",
              "      <td>CL6</td>\n",
              "      <td>CL0</td>\n",
              "      <td>CL0</td>\n",
              "      <td>CL1</td>\n",
              "      <td>CL0</td>\n",
              "      <td>CL0</td>\n",
              "      <td>CL1</td>\n",
              "      <td>CL0</td>\n",
              "      <td>CL0</td>\n",
              "      <td>CL2</td>\n",
              "      <td>CL2</td>\n",
              "      <td>CL0</td>\n",
              "      <td>CL0</td>\n",
              "    </tr>\n",
              "  </tbody>\n",
              "</table>\n",
              "</div>"
            ],
            "text/plain": [
              "        1        2        3        4        5   ...   27   28   29   30   31\n",
              "0                                               ...                         \n",
              "1  0.49788  0.48246 -0.05921  0.96082  0.12600  ...  CL0  CL0  CL2  CL0  CL0\n",
              "2 -0.07854 -0.48246  1.98437  0.96082 -0.31685  ...  CL3  CL0  CL4  CL0  CL0\n",
              "3  0.49788 -0.48246 -0.05921  0.96082 -0.31685  ...  CL0  CL1  CL0  CL0  CL0\n",
              "4 -0.95197  0.48246  1.16365  0.96082 -0.31685  ...  CL0  CL0  CL2  CL0  CL0\n",
              "5  0.49788  0.48246  1.98437  0.96082 -0.31685  ...  CL0  CL2  CL2  CL0  CL0\n",
              "\n",
              "[5 rows x 31 columns]"
            ]
          },
          "metadata": {
            "tags": []
          },
          "execution_count": 103
        }
      ]
    },
    {
      "cell_type": "markdown",
      "metadata": {
        "id": "mCh_N9NumrQO"
      },
      "source": [
        "Отберем фичи"
      ]
    },
    {
      "cell_type": "code",
      "metadata": {
        "id": "CJrdKouqQ40G",
        "colab": {
          "base_uri": "https://localhost:8080/",
          "height": 233
        },
        "outputId": "9c0d3581-df7e-47ae-adc0-fd490d1241ca"
      },
      "source": [
        "df=data.iloc[:,0:12]\n",
        "df.head()"
      ],
      "execution_count": null,
      "outputs": [
        {
          "output_type": "execute_result",
          "data": {
            "text/html": [
              "<div>\n",
              "<style scoped>\n",
              "    .dataframe tbody tr th:only-of-type {\n",
              "        vertical-align: middle;\n",
              "    }\n",
              "\n",
              "    .dataframe tbody tr th {\n",
              "        vertical-align: top;\n",
              "    }\n",
              "\n",
              "    .dataframe thead th {\n",
              "        text-align: right;\n",
              "    }\n",
              "</style>\n",
              "<table border=\"1\" class=\"dataframe\">\n",
              "  <thead>\n",
              "    <tr style=\"text-align: right;\">\n",
              "      <th></th>\n",
              "      <th>1</th>\n",
              "      <th>2</th>\n",
              "      <th>3</th>\n",
              "      <th>4</th>\n",
              "      <th>5</th>\n",
              "      <th>6</th>\n",
              "      <th>7</th>\n",
              "      <th>8</th>\n",
              "      <th>9</th>\n",
              "      <th>10</th>\n",
              "      <th>11</th>\n",
              "      <th>12</th>\n",
              "    </tr>\n",
              "    <tr>\n",
              "      <th>0</th>\n",
              "      <th></th>\n",
              "      <th></th>\n",
              "      <th></th>\n",
              "      <th></th>\n",
              "      <th></th>\n",
              "      <th></th>\n",
              "      <th></th>\n",
              "      <th></th>\n",
              "      <th></th>\n",
              "      <th></th>\n",
              "      <th></th>\n",
              "      <th></th>\n",
              "    </tr>\n",
              "  </thead>\n",
              "  <tbody>\n",
              "    <tr>\n",
              "      <th>1</th>\n",
              "      <td>0.49788</td>\n",
              "      <td>0.48246</td>\n",
              "      <td>-0.05921</td>\n",
              "      <td>0.96082</td>\n",
              "      <td>0.12600</td>\n",
              "      <td>0.31287</td>\n",
              "      <td>-0.57545</td>\n",
              "      <td>-0.58331</td>\n",
              "      <td>-0.91699</td>\n",
              "      <td>-0.00665</td>\n",
              "      <td>-0.21712</td>\n",
              "      <td>-1.18084</td>\n",
              "    </tr>\n",
              "    <tr>\n",
              "      <th>2</th>\n",
              "      <td>-0.07854</td>\n",
              "      <td>-0.48246</td>\n",
              "      <td>1.98437</td>\n",
              "      <td>0.96082</td>\n",
              "      <td>-0.31685</td>\n",
              "      <td>-0.67825</td>\n",
              "      <td>1.93886</td>\n",
              "      <td>1.43533</td>\n",
              "      <td>0.76096</td>\n",
              "      <td>-0.14277</td>\n",
              "      <td>-0.71126</td>\n",
              "      <td>-0.21575</td>\n",
              "    </tr>\n",
              "    <tr>\n",
              "      <th>3</th>\n",
              "      <td>0.49788</td>\n",
              "      <td>-0.48246</td>\n",
              "      <td>-0.05921</td>\n",
              "      <td>0.96082</td>\n",
              "      <td>-0.31685</td>\n",
              "      <td>-0.46725</td>\n",
              "      <td>0.80523</td>\n",
              "      <td>-0.84732</td>\n",
              "      <td>-1.62090</td>\n",
              "      <td>-1.01450</td>\n",
              "      <td>-1.37983</td>\n",
              "      <td>0.40148</td>\n",
              "    </tr>\n",
              "    <tr>\n",
              "      <th>4</th>\n",
              "      <td>-0.95197</td>\n",
              "      <td>0.48246</td>\n",
              "      <td>1.16365</td>\n",
              "      <td>0.96082</td>\n",
              "      <td>-0.31685</td>\n",
              "      <td>-0.14882</td>\n",
              "      <td>-0.80615</td>\n",
              "      <td>-0.01928</td>\n",
              "      <td>0.59042</td>\n",
              "      <td>0.58489</td>\n",
              "      <td>-1.37983</td>\n",
              "      <td>-1.18084</td>\n",
              "    </tr>\n",
              "    <tr>\n",
              "      <th>5</th>\n",
              "      <td>0.49788</td>\n",
              "      <td>0.48246</td>\n",
              "      <td>1.98437</td>\n",
              "      <td>0.96082</td>\n",
              "      <td>-0.31685</td>\n",
              "      <td>0.73545</td>\n",
              "      <td>-1.63340</td>\n",
              "      <td>-0.45174</td>\n",
              "      <td>-0.30172</td>\n",
              "      <td>1.30612</td>\n",
              "      <td>-0.21712</td>\n",
              "      <td>-0.21575</td>\n",
              "    </tr>\n",
              "  </tbody>\n",
              "</table>\n",
              "</div>"
            ],
            "text/plain": [
              "        1        2        3        4   ...       9        10       11       12\n",
              "0                                      ...                                    \n",
              "1  0.49788  0.48246 -0.05921  0.96082  ... -0.91699 -0.00665 -0.21712 -1.18084\n",
              "2 -0.07854 -0.48246  1.98437  0.96082  ...  0.76096 -0.14277 -0.71126 -0.21575\n",
              "3  0.49788 -0.48246 -0.05921  0.96082  ... -1.62090 -1.01450 -1.37983  0.40148\n",
              "4 -0.95197  0.48246  1.16365  0.96082  ...  0.59042  0.58489 -1.37983 -1.18084\n",
              "5  0.49788  0.48246  1.98437  0.96082  ... -0.30172  1.30612 -0.21712 -0.21575\n",
              "\n",
              "[5 rows x 12 columns]"
            ]
          },
          "metadata": {
            "tags": []
          },
          "execution_count": 104
        }
      ]
    },
    {
      "cell_type": "code",
      "metadata": {
        "id": "q_UI7BrC5JGX"
      },
      "source": [
        "from sklearn import preprocessing"
      ],
      "execution_count": null,
      "outputs": []
    },
    {
      "cell_type": "code",
      "metadata": {
        "id": "sESOSoqo5VL_"
      },
      "source": [
        "# кодирование категорий-строк натуральными числами\n",
        "label_enc = preprocessing.LabelEncoder()\n",
        "for feature in df.columns: \n",
        "    df[feature] = label_enc.fit_transform(df[feature])"
      ],
      "execution_count": null,
      "outputs": []
    },
    {
      "cell_type": "code",
      "metadata": {
        "colab": {
          "base_uri": "https://localhost:8080/",
          "height": 233
        },
        "id": "pDkLIt2B50-A",
        "outputId": "ebf762cf-7ebf-459b-b647-308ffcbdb84e"
      },
      "source": [
        "df.head()"
      ],
      "execution_count": null,
      "outputs": [
        {
          "output_type": "execute_result",
          "data": {
            "text/html": [
              "<div>\n",
              "<style scoped>\n",
              "    .dataframe tbody tr th:only-of-type {\n",
              "        vertical-align: middle;\n",
              "    }\n",
              "\n",
              "    .dataframe tbody tr th {\n",
              "        vertical-align: top;\n",
              "    }\n",
              "\n",
              "    .dataframe thead th {\n",
              "        text-align: right;\n",
              "    }\n",
              "</style>\n",
              "<table border=\"1\" class=\"dataframe\">\n",
              "  <thead>\n",
              "    <tr style=\"text-align: right;\">\n",
              "      <th></th>\n",
              "      <th>1</th>\n",
              "      <th>2</th>\n",
              "      <th>3</th>\n",
              "      <th>4</th>\n",
              "      <th>5</th>\n",
              "      <th>6</th>\n",
              "      <th>7</th>\n",
              "      <th>8</th>\n",
              "      <th>9</th>\n",
              "      <th>10</th>\n",
              "      <th>11</th>\n",
              "      <th>12</th>\n",
              "    </tr>\n",
              "    <tr>\n",
              "      <th>0</th>\n",
              "      <th></th>\n",
              "      <th></th>\n",
              "      <th></th>\n",
              "      <th></th>\n",
              "      <th></th>\n",
              "      <th></th>\n",
              "      <th></th>\n",
              "      <th></th>\n",
              "      <th></th>\n",
              "      <th></th>\n",
              "      <th></th>\n",
              "      <th></th>\n",
              "    </tr>\n",
              "  </thead>\n",
              "  <tbody>\n",
              "    <tr>\n",
              "      <th>1</th>\n",
              "      <td>2</td>\n",
              "      <td>1</td>\n",
              "      <td>5</td>\n",
              "      <td>6</td>\n",
              "      <td>5</td>\n",
              "      <td>27</td>\n",
              "      <td>19</td>\n",
              "      <td>16</td>\n",
              "      <td>17</td>\n",
              "      <td>24</td>\n",
              "      <td>3</td>\n",
              "      <td>2</td>\n",
              "    </tr>\n",
              "    <tr>\n",
              "      <th>2</th>\n",
              "      <td>1</td>\n",
              "      <td>0</td>\n",
              "      <td>8</td>\n",
              "      <td>6</td>\n",
              "      <td>2</td>\n",
              "      <td>17</td>\n",
              "      <td>35</td>\n",
              "      <td>29</td>\n",
              "      <td>28</td>\n",
              "      <td>23</td>\n",
              "      <td>2</td>\n",
              "      <td>5</td>\n",
              "    </tr>\n",
              "    <tr>\n",
              "      <th>3</th>\n",
              "      <td>2</td>\n",
              "      <td>0</td>\n",
              "      <td>5</td>\n",
              "      <td>6</td>\n",
              "      <td>2</td>\n",
              "      <td>19</td>\n",
              "      <td>28</td>\n",
              "      <td>14</td>\n",
              "      <td>12</td>\n",
              "      <td>16</td>\n",
              "      <td>1</td>\n",
              "      <td>7</td>\n",
              "    </tr>\n",
              "    <tr>\n",
              "      <th>4</th>\n",
              "      <td>0</td>\n",
              "      <td>1</td>\n",
              "      <td>7</td>\n",
              "      <td>6</td>\n",
              "      <td>2</td>\n",
              "      <td>22</td>\n",
              "      <td>17</td>\n",
              "      <td>20</td>\n",
              "      <td>27</td>\n",
              "      <td>28</td>\n",
              "      <td>1</td>\n",
              "      <td>2</td>\n",
              "    </tr>\n",
              "    <tr>\n",
              "      <th>5</th>\n",
              "      <td>2</td>\n",
              "      <td>1</td>\n",
              "      <td>8</td>\n",
              "      <td>6</td>\n",
              "      <td>2</td>\n",
              "      <td>31</td>\n",
              "      <td>11</td>\n",
              "      <td>17</td>\n",
              "      <td>21</td>\n",
              "      <td>32</td>\n",
              "      <td>3</td>\n",
              "      <td>5</td>\n",
              "    </tr>\n",
              "  </tbody>\n",
              "</table>\n",
              "</div>"
            ],
            "text/plain": [
              "   1   2   3   4   5   6   7   8   9   10  11  12\n",
              "0                                                \n",
              "1   2   1   5   6   5  27  19  16  17  24   3   2\n",
              "2   1   0   8   6   2  17  35  29  28  23   2   5\n",
              "3   2   0   5   6   2  19  28  14  12  16   1   7\n",
              "4   0   1   7   6   2  22  17  20  27  28   1   2\n",
              "5   2   1   8   6   2  31  11  17  21  32   3   5"
            ]
          },
          "metadata": {
            "tags": []
          },
          "execution_count": 107
        }
      ]
    },
    {
      "cell_type": "code",
      "metadata": {
        "id": "Fahx5Hme8EoC"
      },
      "source": [
        "# применение one-hot ecnoding\n",
        "enc = preprocessing.OneHotEncoder(sparse=False)\n",
        "X_cat_np = enc.fit_transform(df[df.columns])\n",
        "X_cat_pd = pd.DataFrame(data=X_cat_np)"
      ],
      "execution_count": null,
      "outputs": []
    },
    {
      "cell_type": "code",
      "metadata": {
        "colab": {
          "base_uri": "https://localhost:8080/",
          "height": 251
        },
        "id": "LciTnjuc8aAT",
        "outputId": "814183e0-0016-46b4-b1bf-b91711d13de6"
      },
      "source": [
        "X_cat_pd.head()"
      ],
      "execution_count": null,
      "outputs": [
        {
          "output_type": "execute_result",
          "data": {
            "text/html": [
              "<div>\n",
              "<style scoped>\n",
              "    .dataframe tbody tr th:only-of-type {\n",
              "        vertical-align: middle;\n",
              "    }\n",
              "\n",
              "    .dataframe tbody tr th {\n",
              "        vertical-align: top;\n",
              "    }\n",
              "\n",
              "    .dataframe thead th {\n",
              "        text-align: right;\n",
              "    }\n",
              "</style>\n",
              "<table border=\"1\" class=\"dataframe\">\n",
              "  <thead>\n",
              "    <tr style=\"text-align: right;\">\n",
              "      <th></th>\n",
              "      <th>0</th>\n",
              "      <th>1</th>\n",
              "      <th>2</th>\n",
              "      <th>3</th>\n",
              "      <th>4</th>\n",
              "      <th>5</th>\n",
              "      <th>6</th>\n",
              "      <th>7</th>\n",
              "      <th>8</th>\n",
              "      <th>9</th>\n",
              "      <th>10</th>\n",
              "      <th>11</th>\n",
              "      <th>12</th>\n",
              "      <th>13</th>\n",
              "      <th>14</th>\n",
              "      <th>15</th>\n",
              "      <th>16</th>\n",
              "      <th>17</th>\n",
              "      <th>18</th>\n",
              "      <th>19</th>\n",
              "      <th>20</th>\n",
              "      <th>21</th>\n",
              "      <th>22</th>\n",
              "      <th>23</th>\n",
              "      <th>24</th>\n",
              "      <th>25</th>\n",
              "      <th>26</th>\n",
              "      <th>27</th>\n",
              "      <th>28</th>\n",
              "      <th>29</th>\n",
              "      <th>30</th>\n",
              "      <th>31</th>\n",
              "      <th>32</th>\n",
              "      <th>33</th>\n",
              "      <th>34</th>\n",
              "      <th>35</th>\n",
              "      <th>36</th>\n",
              "      <th>37</th>\n",
              "      <th>38</th>\n",
              "      <th>39</th>\n",
              "      <th>...</th>\n",
              "      <th>220</th>\n",
              "      <th>221</th>\n",
              "      <th>222</th>\n",
              "      <th>223</th>\n",
              "      <th>224</th>\n",
              "      <th>225</th>\n",
              "      <th>226</th>\n",
              "      <th>227</th>\n",
              "      <th>228</th>\n",
              "      <th>229</th>\n",
              "      <th>230</th>\n",
              "      <th>231</th>\n",
              "      <th>232</th>\n",
              "      <th>233</th>\n",
              "      <th>234</th>\n",
              "      <th>235</th>\n",
              "      <th>236</th>\n",
              "      <th>237</th>\n",
              "      <th>238</th>\n",
              "      <th>239</th>\n",
              "      <th>240</th>\n",
              "      <th>241</th>\n",
              "      <th>242</th>\n",
              "      <th>243</th>\n",
              "      <th>244</th>\n",
              "      <th>245</th>\n",
              "      <th>246</th>\n",
              "      <th>247</th>\n",
              "      <th>248</th>\n",
              "      <th>249</th>\n",
              "      <th>250</th>\n",
              "      <th>251</th>\n",
              "      <th>252</th>\n",
              "      <th>253</th>\n",
              "      <th>254</th>\n",
              "      <th>255</th>\n",
              "      <th>256</th>\n",
              "      <th>257</th>\n",
              "      <th>258</th>\n",
              "      <th>259</th>\n",
              "    </tr>\n",
              "  </thead>\n",
              "  <tbody>\n",
              "    <tr>\n",
              "      <th>0</th>\n",
              "      <td>0.0</td>\n",
              "      <td>0.0</td>\n",
              "      <td>1.0</td>\n",
              "      <td>0.0</td>\n",
              "      <td>0.0</td>\n",
              "      <td>0.0</td>\n",
              "      <td>0.0</td>\n",
              "      <td>1.0</td>\n",
              "      <td>0.0</td>\n",
              "      <td>0.0</td>\n",
              "      <td>0.0</td>\n",
              "      <td>0.0</td>\n",
              "      <td>0.0</td>\n",
              "      <td>1.0</td>\n",
              "      <td>0.0</td>\n",
              "      <td>0.0</td>\n",
              "      <td>0.0</td>\n",
              "      <td>0.0</td>\n",
              "      <td>0.0</td>\n",
              "      <td>0.0</td>\n",
              "      <td>0.0</td>\n",
              "      <td>0.0</td>\n",
              "      <td>0.0</td>\n",
              "      <td>1.0</td>\n",
              "      <td>0.0</td>\n",
              "      <td>0.0</td>\n",
              "      <td>0.0</td>\n",
              "      <td>0.0</td>\n",
              "      <td>0.0</td>\n",
              "      <td>1.0</td>\n",
              "      <td>0.0</td>\n",
              "      <td>0.0</td>\n",
              "      <td>0.0</td>\n",
              "      <td>0.0</td>\n",
              "      <td>0.0</td>\n",
              "      <td>0.0</td>\n",
              "      <td>0.0</td>\n",
              "      <td>0.0</td>\n",
              "      <td>0.0</td>\n",
              "      <td>0.0</td>\n",
              "      <td>...</td>\n",
              "      <td>0.0</td>\n",
              "      <td>0.0</td>\n",
              "      <td>1.0</td>\n",
              "      <td>0.0</td>\n",
              "      <td>0.0</td>\n",
              "      <td>0.0</td>\n",
              "      <td>0.0</td>\n",
              "      <td>0.0</td>\n",
              "      <td>0.0</td>\n",
              "      <td>0.0</td>\n",
              "      <td>0.0</td>\n",
              "      <td>0.0</td>\n",
              "      <td>0.0</td>\n",
              "      <td>0.0</td>\n",
              "      <td>0.0</td>\n",
              "      <td>0.0</td>\n",
              "      <td>0.0</td>\n",
              "      <td>0.0</td>\n",
              "      <td>0.0</td>\n",
              "      <td>0.0</td>\n",
              "      <td>0.0</td>\n",
              "      <td>0.0</td>\n",
              "      <td>1.0</td>\n",
              "      <td>0.0</td>\n",
              "      <td>0.0</td>\n",
              "      <td>0.0</td>\n",
              "      <td>0.0</td>\n",
              "      <td>0.0</td>\n",
              "      <td>0.0</td>\n",
              "      <td>0.0</td>\n",
              "      <td>0.0</td>\n",
              "      <td>1.0</td>\n",
              "      <td>0.0</td>\n",
              "      <td>0.0</td>\n",
              "      <td>0.0</td>\n",
              "      <td>0.0</td>\n",
              "      <td>0.0</td>\n",
              "      <td>0.0</td>\n",
              "      <td>0.0</td>\n",
              "      <td>0.0</td>\n",
              "    </tr>\n",
              "    <tr>\n",
              "      <th>1</th>\n",
              "      <td>0.0</td>\n",
              "      <td>1.0</td>\n",
              "      <td>0.0</td>\n",
              "      <td>0.0</td>\n",
              "      <td>0.0</td>\n",
              "      <td>0.0</td>\n",
              "      <td>1.0</td>\n",
              "      <td>0.0</td>\n",
              "      <td>0.0</td>\n",
              "      <td>0.0</td>\n",
              "      <td>0.0</td>\n",
              "      <td>0.0</td>\n",
              "      <td>0.0</td>\n",
              "      <td>0.0</td>\n",
              "      <td>0.0</td>\n",
              "      <td>0.0</td>\n",
              "      <td>1.0</td>\n",
              "      <td>0.0</td>\n",
              "      <td>0.0</td>\n",
              "      <td>0.0</td>\n",
              "      <td>0.0</td>\n",
              "      <td>0.0</td>\n",
              "      <td>0.0</td>\n",
              "      <td>1.0</td>\n",
              "      <td>0.0</td>\n",
              "      <td>0.0</td>\n",
              "      <td>1.0</td>\n",
              "      <td>0.0</td>\n",
              "      <td>0.0</td>\n",
              "      <td>0.0</td>\n",
              "      <td>0.0</td>\n",
              "      <td>0.0</td>\n",
              "      <td>0.0</td>\n",
              "      <td>0.0</td>\n",
              "      <td>0.0</td>\n",
              "      <td>0.0</td>\n",
              "      <td>0.0</td>\n",
              "      <td>0.0</td>\n",
              "      <td>0.0</td>\n",
              "      <td>0.0</td>\n",
              "      <td>...</td>\n",
              "      <td>0.0</td>\n",
              "      <td>1.0</td>\n",
              "      <td>0.0</td>\n",
              "      <td>0.0</td>\n",
              "      <td>0.0</td>\n",
              "      <td>0.0</td>\n",
              "      <td>0.0</td>\n",
              "      <td>0.0</td>\n",
              "      <td>0.0</td>\n",
              "      <td>0.0</td>\n",
              "      <td>0.0</td>\n",
              "      <td>0.0</td>\n",
              "      <td>0.0</td>\n",
              "      <td>0.0</td>\n",
              "      <td>0.0</td>\n",
              "      <td>0.0</td>\n",
              "      <td>0.0</td>\n",
              "      <td>0.0</td>\n",
              "      <td>0.0</td>\n",
              "      <td>0.0</td>\n",
              "      <td>0.0</td>\n",
              "      <td>1.0</td>\n",
              "      <td>0.0</td>\n",
              "      <td>0.0</td>\n",
              "      <td>0.0</td>\n",
              "      <td>0.0</td>\n",
              "      <td>0.0</td>\n",
              "      <td>0.0</td>\n",
              "      <td>0.0</td>\n",
              "      <td>0.0</td>\n",
              "      <td>0.0</td>\n",
              "      <td>0.0</td>\n",
              "      <td>0.0</td>\n",
              "      <td>0.0</td>\n",
              "      <td>1.0</td>\n",
              "      <td>0.0</td>\n",
              "      <td>0.0</td>\n",
              "      <td>0.0</td>\n",
              "      <td>0.0</td>\n",
              "      <td>0.0</td>\n",
              "    </tr>\n",
              "    <tr>\n",
              "      <th>2</th>\n",
              "      <td>0.0</td>\n",
              "      <td>0.0</td>\n",
              "      <td>1.0</td>\n",
              "      <td>0.0</td>\n",
              "      <td>0.0</td>\n",
              "      <td>0.0</td>\n",
              "      <td>1.0</td>\n",
              "      <td>0.0</td>\n",
              "      <td>0.0</td>\n",
              "      <td>0.0</td>\n",
              "      <td>0.0</td>\n",
              "      <td>0.0</td>\n",
              "      <td>0.0</td>\n",
              "      <td>1.0</td>\n",
              "      <td>0.0</td>\n",
              "      <td>0.0</td>\n",
              "      <td>0.0</td>\n",
              "      <td>0.0</td>\n",
              "      <td>0.0</td>\n",
              "      <td>0.0</td>\n",
              "      <td>0.0</td>\n",
              "      <td>0.0</td>\n",
              "      <td>0.0</td>\n",
              "      <td>1.0</td>\n",
              "      <td>0.0</td>\n",
              "      <td>0.0</td>\n",
              "      <td>1.0</td>\n",
              "      <td>0.0</td>\n",
              "      <td>0.0</td>\n",
              "      <td>0.0</td>\n",
              "      <td>0.0</td>\n",
              "      <td>0.0</td>\n",
              "      <td>0.0</td>\n",
              "      <td>0.0</td>\n",
              "      <td>0.0</td>\n",
              "      <td>0.0</td>\n",
              "      <td>0.0</td>\n",
              "      <td>0.0</td>\n",
              "      <td>0.0</td>\n",
              "      <td>0.0</td>\n",
              "      <td>...</td>\n",
              "      <td>0.0</td>\n",
              "      <td>0.0</td>\n",
              "      <td>0.0</td>\n",
              "      <td>0.0</td>\n",
              "      <td>0.0</td>\n",
              "      <td>0.0</td>\n",
              "      <td>0.0</td>\n",
              "      <td>0.0</td>\n",
              "      <td>0.0</td>\n",
              "      <td>0.0</td>\n",
              "      <td>0.0</td>\n",
              "      <td>0.0</td>\n",
              "      <td>0.0</td>\n",
              "      <td>0.0</td>\n",
              "      <td>0.0</td>\n",
              "      <td>0.0</td>\n",
              "      <td>0.0</td>\n",
              "      <td>0.0</td>\n",
              "      <td>0.0</td>\n",
              "      <td>0.0</td>\n",
              "      <td>1.0</td>\n",
              "      <td>0.0</td>\n",
              "      <td>0.0</td>\n",
              "      <td>0.0</td>\n",
              "      <td>0.0</td>\n",
              "      <td>0.0</td>\n",
              "      <td>0.0</td>\n",
              "      <td>0.0</td>\n",
              "      <td>0.0</td>\n",
              "      <td>0.0</td>\n",
              "      <td>0.0</td>\n",
              "      <td>0.0</td>\n",
              "      <td>0.0</td>\n",
              "      <td>0.0</td>\n",
              "      <td>0.0</td>\n",
              "      <td>0.0</td>\n",
              "      <td>1.0</td>\n",
              "      <td>0.0</td>\n",
              "      <td>0.0</td>\n",
              "      <td>0.0</td>\n",
              "    </tr>\n",
              "    <tr>\n",
              "      <th>3</th>\n",
              "      <td>1.0</td>\n",
              "      <td>0.0</td>\n",
              "      <td>0.0</td>\n",
              "      <td>0.0</td>\n",
              "      <td>0.0</td>\n",
              "      <td>0.0</td>\n",
              "      <td>0.0</td>\n",
              "      <td>1.0</td>\n",
              "      <td>0.0</td>\n",
              "      <td>0.0</td>\n",
              "      <td>0.0</td>\n",
              "      <td>0.0</td>\n",
              "      <td>0.0</td>\n",
              "      <td>0.0</td>\n",
              "      <td>0.0</td>\n",
              "      <td>1.0</td>\n",
              "      <td>0.0</td>\n",
              "      <td>0.0</td>\n",
              "      <td>0.0</td>\n",
              "      <td>0.0</td>\n",
              "      <td>0.0</td>\n",
              "      <td>0.0</td>\n",
              "      <td>0.0</td>\n",
              "      <td>1.0</td>\n",
              "      <td>0.0</td>\n",
              "      <td>0.0</td>\n",
              "      <td>1.0</td>\n",
              "      <td>0.0</td>\n",
              "      <td>0.0</td>\n",
              "      <td>0.0</td>\n",
              "      <td>0.0</td>\n",
              "      <td>0.0</td>\n",
              "      <td>0.0</td>\n",
              "      <td>0.0</td>\n",
              "      <td>0.0</td>\n",
              "      <td>0.0</td>\n",
              "      <td>0.0</td>\n",
              "      <td>0.0</td>\n",
              "      <td>0.0</td>\n",
              "      <td>0.0</td>\n",
              "      <td>...</td>\n",
              "      <td>0.0</td>\n",
              "      <td>0.0</td>\n",
              "      <td>0.0</td>\n",
              "      <td>0.0</td>\n",
              "      <td>0.0</td>\n",
              "      <td>0.0</td>\n",
              "      <td>1.0</td>\n",
              "      <td>0.0</td>\n",
              "      <td>0.0</td>\n",
              "      <td>0.0</td>\n",
              "      <td>0.0</td>\n",
              "      <td>0.0</td>\n",
              "      <td>0.0</td>\n",
              "      <td>0.0</td>\n",
              "      <td>0.0</td>\n",
              "      <td>0.0</td>\n",
              "      <td>0.0</td>\n",
              "      <td>0.0</td>\n",
              "      <td>0.0</td>\n",
              "      <td>0.0</td>\n",
              "      <td>1.0</td>\n",
              "      <td>0.0</td>\n",
              "      <td>0.0</td>\n",
              "      <td>0.0</td>\n",
              "      <td>0.0</td>\n",
              "      <td>0.0</td>\n",
              "      <td>0.0</td>\n",
              "      <td>0.0</td>\n",
              "      <td>0.0</td>\n",
              "      <td>0.0</td>\n",
              "      <td>0.0</td>\n",
              "      <td>1.0</td>\n",
              "      <td>0.0</td>\n",
              "      <td>0.0</td>\n",
              "      <td>0.0</td>\n",
              "      <td>0.0</td>\n",
              "      <td>0.0</td>\n",
              "      <td>0.0</td>\n",
              "      <td>0.0</td>\n",
              "      <td>0.0</td>\n",
              "    </tr>\n",
              "    <tr>\n",
              "      <th>4</th>\n",
              "      <td>0.0</td>\n",
              "      <td>0.0</td>\n",
              "      <td>1.0</td>\n",
              "      <td>0.0</td>\n",
              "      <td>0.0</td>\n",
              "      <td>0.0</td>\n",
              "      <td>0.0</td>\n",
              "      <td>1.0</td>\n",
              "      <td>0.0</td>\n",
              "      <td>0.0</td>\n",
              "      <td>0.0</td>\n",
              "      <td>0.0</td>\n",
              "      <td>0.0</td>\n",
              "      <td>0.0</td>\n",
              "      <td>0.0</td>\n",
              "      <td>0.0</td>\n",
              "      <td>1.0</td>\n",
              "      <td>0.0</td>\n",
              "      <td>0.0</td>\n",
              "      <td>0.0</td>\n",
              "      <td>0.0</td>\n",
              "      <td>0.0</td>\n",
              "      <td>0.0</td>\n",
              "      <td>1.0</td>\n",
              "      <td>0.0</td>\n",
              "      <td>0.0</td>\n",
              "      <td>1.0</td>\n",
              "      <td>0.0</td>\n",
              "      <td>0.0</td>\n",
              "      <td>0.0</td>\n",
              "      <td>0.0</td>\n",
              "      <td>0.0</td>\n",
              "      <td>0.0</td>\n",
              "      <td>0.0</td>\n",
              "      <td>0.0</td>\n",
              "      <td>0.0</td>\n",
              "      <td>0.0</td>\n",
              "      <td>0.0</td>\n",
              "      <td>0.0</td>\n",
              "      <td>0.0</td>\n",
              "      <td>...</td>\n",
              "      <td>0.0</td>\n",
              "      <td>0.0</td>\n",
              "      <td>0.0</td>\n",
              "      <td>0.0</td>\n",
              "      <td>0.0</td>\n",
              "      <td>0.0</td>\n",
              "      <td>0.0</td>\n",
              "      <td>0.0</td>\n",
              "      <td>0.0</td>\n",
              "      <td>0.0</td>\n",
              "      <td>1.0</td>\n",
              "      <td>0.0</td>\n",
              "      <td>0.0</td>\n",
              "      <td>0.0</td>\n",
              "      <td>0.0</td>\n",
              "      <td>0.0</td>\n",
              "      <td>0.0</td>\n",
              "      <td>0.0</td>\n",
              "      <td>0.0</td>\n",
              "      <td>0.0</td>\n",
              "      <td>0.0</td>\n",
              "      <td>0.0</td>\n",
              "      <td>1.0</td>\n",
              "      <td>0.0</td>\n",
              "      <td>0.0</td>\n",
              "      <td>0.0</td>\n",
              "      <td>0.0</td>\n",
              "      <td>0.0</td>\n",
              "      <td>0.0</td>\n",
              "      <td>0.0</td>\n",
              "      <td>0.0</td>\n",
              "      <td>0.0</td>\n",
              "      <td>0.0</td>\n",
              "      <td>0.0</td>\n",
              "      <td>1.0</td>\n",
              "      <td>0.0</td>\n",
              "      <td>0.0</td>\n",
              "      <td>0.0</td>\n",
              "      <td>0.0</td>\n",
              "      <td>0.0</td>\n",
              "    </tr>\n",
              "  </tbody>\n",
              "</table>\n",
              "<p>5 rows × 260 columns</p>\n",
              "</div>"
            ],
            "text/plain": [
              "   0    1    2    3    4    5    6    ...  253  254  255  256  257  258  259\n",
              "0  0.0  0.0  1.0  0.0  0.0  0.0  0.0  ...  0.0  0.0  0.0  0.0  0.0  0.0  0.0\n",
              "1  0.0  1.0  0.0  0.0  0.0  0.0  1.0  ...  0.0  1.0  0.0  0.0  0.0  0.0  0.0\n",
              "2  0.0  0.0  1.0  0.0  0.0  0.0  1.0  ...  0.0  0.0  0.0  1.0  0.0  0.0  0.0\n",
              "3  1.0  0.0  0.0  0.0  0.0  0.0  0.0  ...  0.0  0.0  0.0  0.0  0.0  0.0  0.0\n",
              "4  0.0  0.0  1.0  0.0  0.0  0.0  0.0  ...  0.0  1.0  0.0  0.0  0.0  0.0  0.0\n",
              "\n",
              "[5 rows x 260 columns]"
            ]
          },
          "metadata": {
            "tags": []
          },
          "execution_count": 109
        }
      ]
    },
    {
      "cell_type": "code",
      "metadata": {
        "id": "wZxs92_59SdY"
      },
      "source": [
        "# закодируем метки классов цифрами\n",
        "y=data.iloc[:,12:31].values\n",
        "for i in range(y.shape[0]):\n",
        "  for j in range(y.shape[1]):\n",
        "    if  y[i,j] == 'CL0':\n",
        "      y[i,j] = 1\n",
        "    elif y[i,j] == 'CL1':\n",
        "      y[i,j] = 2\n",
        "    elif y[i,j] == 'CL2':\n",
        "      y[i,j] = 3\n",
        "    elif y[i,j] == 'CL3':\n",
        "      y[i,j] = 4\n",
        "    elif y[i,j] == 'CL4':\n",
        "      y[i,j] = 5\n",
        "    else:\n",
        "      y[i,j] = 6"
      ],
      "execution_count": null,
      "outputs": []
    },
    {
      "cell_type": "code",
      "metadata": {
        "id": "bLIm9SsRAVaZ"
      },
      "source": [
        "y_all = pd.DataFrame(data=y,dtype='int')"
      ],
      "execution_count": null,
      "outputs": []
    },
    {
      "cell_type": "code",
      "metadata": {
        "id": "R_ICcGWd1WXV"
      },
      "source": [
        "Data = pd.concat([X_cat_pd, y_all], axis=1)\n",
        "Data.columns = np.array([\"f\"+str(i) for i in range(Data.shape[1])])"
      ],
      "execution_count": null,
      "outputs": []
    },
    {
      "cell_type": "code",
      "metadata": {
        "colab": {
          "base_uri": "https://localhost:8080/",
          "height": 251
        },
        "id": "V9rdKW7t128I",
        "outputId": "082acd68-774a-4ae5-af24-e77e4cf015fe"
      },
      "source": [
        "Data.head()"
      ],
      "execution_count": null,
      "outputs": [
        {
          "output_type": "execute_result",
          "data": {
            "text/html": [
              "<div>\n",
              "<style scoped>\n",
              "    .dataframe tbody tr th:only-of-type {\n",
              "        vertical-align: middle;\n",
              "    }\n",
              "\n",
              "    .dataframe tbody tr th {\n",
              "        vertical-align: top;\n",
              "    }\n",
              "\n",
              "    .dataframe thead th {\n",
              "        text-align: right;\n",
              "    }\n",
              "</style>\n",
              "<table border=\"1\" class=\"dataframe\">\n",
              "  <thead>\n",
              "    <tr style=\"text-align: right;\">\n",
              "      <th></th>\n",
              "      <th>f0</th>\n",
              "      <th>f1</th>\n",
              "      <th>f2</th>\n",
              "      <th>f3</th>\n",
              "      <th>f4</th>\n",
              "      <th>f5</th>\n",
              "      <th>f6</th>\n",
              "      <th>f7</th>\n",
              "      <th>f8</th>\n",
              "      <th>f9</th>\n",
              "      <th>f10</th>\n",
              "      <th>f11</th>\n",
              "      <th>f12</th>\n",
              "      <th>f13</th>\n",
              "      <th>f14</th>\n",
              "      <th>f15</th>\n",
              "      <th>f16</th>\n",
              "      <th>f17</th>\n",
              "      <th>f18</th>\n",
              "      <th>f19</th>\n",
              "      <th>f20</th>\n",
              "      <th>f21</th>\n",
              "      <th>f22</th>\n",
              "      <th>f23</th>\n",
              "      <th>f24</th>\n",
              "      <th>f25</th>\n",
              "      <th>f26</th>\n",
              "      <th>f27</th>\n",
              "      <th>f28</th>\n",
              "      <th>f29</th>\n",
              "      <th>f30</th>\n",
              "      <th>f31</th>\n",
              "      <th>f32</th>\n",
              "      <th>f33</th>\n",
              "      <th>f34</th>\n",
              "      <th>f35</th>\n",
              "      <th>f36</th>\n",
              "      <th>f37</th>\n",
              "      <th>f38</th>\n",
              "      <th>f39</th>\n",
              "      <th>...</th>\n",
              "      <th>f239</th>\n",
              "      <th>f240</th>\n",
              "      <th>f241</th>\n",
              "      <th>f242</th>\n",
              "      <th>f243</th>\n",
              "      <th>f244</th>\n",
              "      <th>f245</th>\n",
              "      <th>f246</th>\n",
              "      <th>f247</th>\n",
              "      <th>f248</th>\n",
              "      <th>f249</th>\n",
              "      <th>f250</th>\n",
              "      <th>f251</th>\n",
              "      <th>f252</th>\n",
              "      <th>f253</th>\n",
              "      <th>f254</th>\n",
              "      <th>f255</th>\n",
              "      <th>f256</th>\n",
              "      <th>f257</th>\n",
              "      <th>f258</th>\n",
              "      <th>f259</th>\n",
              "      <th>f260</th>\n",
              "      <th>f261</th>\n",
              "      <th>f262</th>\n",
              "      <th>f263</th>\n",
              "      <th>f264</th>\n",
              "      <th>f265</th>\n",
              "      <th>f266</th>\n",
              "      <th>f267</th>\n",
              "      <th>f268</th>\n",
              "      <th>f269</th>\n",
              "      <th>f270</th>\n",
              "      <th>f271</th>\n",
              "      <th>f272</th>\n",
              "      <th>f273</th>\n",
              "      <th>f274</th>\n",
              "      <th>f275</th>\n",
              "      <th>f276</th>\n",
              "      <th>f277</th>\n",
              "      <th>f278</th>\n",
              "    </tr>\n",
              "  </thead>\n",
              "  <tbody>\n",
              "    <tr>\n",
              "      <th>0</th>\n",
              "      <td>0.0</td>\n",
              "      <td>0.0</td>\n",
              "      <td>1.0</td>\n",
              "      <td>0.0</td>\n",
              "      <td>0.0</td>\n",
              "      <td>0.0</td>\n",
              "      <td>0.0</td>\n",
              "      <td>1.0</td>\n",
              "      <td>0.0</td>\n",
              "      <td>0.0</td>\n",
              "      <td>0.0</td>\n",
              "      <td>0.0</td>\n",
              "      <td>0.0</td>\n",
              "      <td>1.0</td>\n",
              "      <td>0.0</td>\n",
              "      <td>0.0</td>\n",
              "      <td>0.0</td>\n",
              "      <td>0.0</td>\n",
              "      <td>0.0</td>\n",
              "      <td>0.0</td>\n",
              "      <td>0.0</td>\n",
              "      <td>0.0</td>\n",
              "      <td>0.0</td>\n",
              "      <td>1.0</td>\n",
              "      <td>0.0</td>\n",
              "      <td>0.0</td>\n",
              "      <td>0.0</td>\n",
              "      <td>0.0</td>\n",
              "      <td>0.0</td>\n",
              "      <td>1.0</td>\n",
              "      <td>0.0</td>\n",
              "      <td>0.0</td>\n",
              "      <td>0.0</td>\n",
              "      <td>0.0</td>\n",
              "      <td>0.0</td>\n",
              "      <td>0.0</td>\n",
              "      <td>0.0</td>\n",
              "      <td>0.0</td>\n",
              "      <td>0.0</td>\n",
              "      <td>0.0</td>\n",
              "      <td>...</td>\n",
              "      <td>0.0</td>\n",
              "      <td>0.0</td>\n",
              "      <td>0.0</td>\n",
              "      <td>1.0</td>\n",
              "      <td>0.0</td>\n",
              "      <td>0.0</td>\n",
              "      <td>0.0</td>\n",
              "      <td>0.0</td>\n",
              "      <td>0.0</td>\n",
              "      <td>0.0</td>\n",
              "      <td>0.0</td>\n",
              "      <td>0.0</td>\n",
              "      <td>1.0</td>\n",
              "      <td>0.0</td>\n",
              "      <td>0.0</td>\n",
              "      <td>0.0</td>\n",
              "      <td>0.0</td>\n",
              "      <td>0.0</td>\n",
              "      <td>0.0</td>\n",
              "      <td>0.0</td>\n",
              "      <td>0.0</td>\n",
              "      <td>6</td>\n",
              "      <td>3</td>\n",
              "      <td>1</td>\n",
              "      <td>3</td>\n",
              "      <td>6</td>\n",
              "      <td>1</td>\n",
              "      <td>6</td>\n",
              "      <td>1</td>\n",
              "      <td>1</td>\n",
              "      <td>1</td>\n",
              "      <td>1</td>\n",
              "      <td>1</td>\n",
              "      <td>1</td>\n",
              "      <td>1</td>\n",
              "      <td>1</td>\n",
              "      <td>1</td>\n",
              "      <td>3</td>\n",
              "      <td>1</td>\n",
              "      <td>1</td>\n",
              "    </tr>\n",
              "    <tr>\n",
              "      <th>1</th>\n",
              "      <td>0.0</td>\n",
              "      <td>1.0</td>\n",
              "      <td>0.0</td>\n",
              "      <td>0.0</td>\n",
              "      <td>0.0</td>\n",
              "      <td>0.0</td>\n",
              "      <td>1.0</td>\n",
              "      <td>0.0</td>\n",
              "      <td>0.0</td>\n",
              "      <td>0.0</td>\n",
              "      <td>0.0</td>\n",
              "      <td>0.0</td>\n",
              "      <td>0.0</td>\n",
              "      <td>0.0</td>\n",
              "      <td>0.0</td>\n",
              "      <td>0.0</td>\n",
              "      <td>1.0</td>\n",
              "      <td>0.0</td>\n",
              "      <td>0.0</td>\n",
              "      <td>0.0</td>\n",
              "      <td>0.0</td>\n",
              "      <td>0.0</td>\n",
              "      <td>0.0</td>\n",
              "      <td>1.0</td>\n",
              "      <td>0.0</td>\n",
              "      <td>0.0</td>\n",
              "      <td>1.0</td>\n",
              "      <td>0.0</td>\n",
              "      <td>0.0</td>\n",
              "      <td>0.0</td>\n",
              "      <td>0.0</td>\n",
              "      <td>0.0</td>\n",
              "      <td>0.0</td>\n",
              "      <td>0.0</td>\n",
              "      <td>0.0</td>\n",
              "      <td>0.0</td>\n",
              "      <td>0.0</td>\n",
              "      <td>0.0</td>\n",
              "      <td>0.0</td>\n",
              "      <td>0.0</td>\n",
              "      <td>...</td>\n",
              "      <td>0.0</td>\n",
              "      <td>0.0</td>\n",
              "      <td>1.0</td>\n",
              "      <td>0.0</td>\n",
              "      <td>0.0</td>\n",
              "      <td>0.0</td>\n",
              "      <td>0.0</td>\n",
              "      <td>0.0</td>\n",
              "      <td>0.0</td>\n",
              "      <td>0.0</td>\n",
              "      <td>0.0</td>\n",
              "      <td>0.0</td>\n",
              "      <td>0.0</td>\n",
              "      <td>0.0</td>\n",
              "      <td>0.0</td>\n",
              "      <td>1.0</td>\n",
              "      <td>0.0</td>\n",
              "      <td>0.0</td>\n",
              "      <td>0.0</td>\n",
              "      <td>0.0</td>\n",
              "      <td>0.0</td>\n",
              "      <td>6</td>\n",
              "      <td>3</td>\n",
              "      <td>3</td>\n",
              "      <td>1</td>\n",
              "      <td>6</td>\n",
              "      <td>5</td>\n",
              "      <td>6</td>\n",
              "      <td>4</td>\n",
              "      <td>1</td>\n",
              "      <td>5</td>\n",
              "      <td>1</td>\n",
              "      <td>3</td>\n",
              "      <td>1</td>\n",
              "      <td>3</td>\n",
              "      <td>4</td>\n",
              "      <td>1</td>\n",
              "      <td>5</td>\n",
              "      <td>1</td>\n",
              "      <td>1</td>\n",
              "    </tr>\n",
              "    <tr>\n",
              "      <th>2</th>\n",
              "      <td>0.0</td>\n",
              "      <td>0.0</td>\n",
              "      <td>1.0</td>\n",
              "      <td>0.0</td>\n",
              "      <td>0.0</td>\n",
              "      <td>0.0</td>\n",
              "      <td>1.0</td>\n",
              "      <td>0.0</td>\n",
              "      <td>0.0</td>\n",
              "      <td>0.0</td>\n",
              "      <td>0.0</td>\n",
              "      <td>0.0</td>\n",
              "      <td>0.0</td>\n",
              "      <td>1.0</td>\n",
              "      <td>0.0</td>\n",
              "      <td>0.0</td>\n",
              "      <td>0.0</td>\n",
              "      <td>0.0</td>\n",
              "      <td>0.0</td>\n",
              "      <td>0.0</td>\n",
              "      <td>0.0</td>\n",
              "      <td>0.0</td>\n",
              "      <td>0.0</td>\n",
              "      <td>1.0</td>\n",
              "      <td>0.0</td>\n",
              "      <td>0.0</td>\n",
              "      <td>1.0</td>\n",
              "      <td>0.0</td>\n",
              "      <td>0.0</td>\n",
              "      <td>0.0</td>\n",
              "      <td>0.0</td>\n",
              "      <td>0.0</td>\n",
              "      <td>0.0</td>\n",
              "      <td>0.0</td>\n",
              "      <td>0.0</td>\n",
              "      <td>0.0</td>\n",
              "      <td>0.0</td>\n",
              "      <td>0.0</td>\n",
              "      <td>0.0</td>\n",
              "      <td>0.0</td>\n",
              "      <td>...</td>\n",
              "      <td>0.0</td>\n",
              "      <td>1.0</td>\n",
              "      <td>0.0</td>\n",
              "      <td>0.0</td>\n",
              "      <td>0.0</td>\n",
              "      <td>0.0</td>\n",
              "      <td>0.0</td>\n",
              "      <td>0.0</td>\n",
              "      <td>0.0</td>\n",
              "      <td>0.0</td>\n",
              "      <td>0.0</td>\n",
              "      <td>0.0</td>\n",
              "      <td>0.0</td>\n",
              "      <td>0.0</td>\n",
              "      <td>0.0</td>\n",
              "      <td>0.0</td>\n",
              "      <td>0.0</td>\n",
              "      <td>1.0</td>\n",
              "      <td>0.0</td>\n",
              "      <td>0.0</td>\n",
              "      <td>0.0</td>\n",
              "      <td>6</td>\n",
              "      <td>1</td>\n",
              "      <td>1</td>\n",
              "      <td>1</td>\n",
              "      <td>6</td>\n",
              "      <td>4</td>\n",
              "      <td>5</td>\n",
              "      <td>1</td>\n",
              "      <td>1</td>\n",
              "      <td>1</td>\n",
              "      <td>1</td>\n",
              "      <td>1</td>\n",
              "      <td>1</td>\n",
              "      <td>1</td>\n",
              "      <td>1</td>\n",
              "      <td>2</td>\n",
              "      <td>1</td>\n",
              "      <td>1</td>\n",
              "      <td>1</td>\n",
              "    </tr>\n",
              "    <tr>\n",
              "      <th>3</th>\n",
              "      <td>1.0</td>\n",
              "      <td>0.0</td>\n",
              "      <td>0.0</td>\n",
              "      <td>0.0</td>\n",
              "      <td>0.0</td>\n",
              "      <td>0.0</td>\n",
              "      <td>0.0</td>\n",
              "      <td>1.0</td>\n",
              "      <td>0.0</td>\n",
              "      <td>0.0</td>\n",
              "      <td>0.0</td>\n",
              "      <td>0.0</td>\n",
              "      <td>0.0</td>\n",
              "      <td>0.0</td>\n",
              "      <td>0.0</td>\n",
              "      <td>1.0</td>\n",
              "      <td>0.0</td>\n",
              "      <td>0.0</td>\n",
              "      <td>0.0</td>\n",
              "      <td>0.0</td>\n",
              "      <td>0.0</td>\n",
              "      <td>0.0</td>\n",
              "      <td>0.0</td>\n",
              "      <td>1.0</td>\n",
              "      <td>0.0</td>\n",
              "      <td>0.0</td>\n",
              "      <td>1.0</td>\n",
              "      <td>0.0</td>\n",
              "      <td>0.0</td>\n",
              "      <td>0.0</td>\n",
              "      <td>0.0</td>\n",
              "      <td>0.0</td>\n",
              "      <td>0.0</td>\n",
              "      <td>0.0</td>\n",
              "      <td>0.0</td>\n",
              "      <td>0.0</td>\n",
              "      <td>0.0</td>\n",
              "      <td>0.0</td>\n",
              "      <td>0.0</td>\n",
              "      <td>0.0</td>\n",
              "      <td>...</td>\n",
              "      <td>0.0</td>\n",
              "      <td>1.0</td>\n",
              "      <td>0.0</td>\n",
              "      <td>0.0</td>\n",
              "      <td>0.0</td>\n",
              "      <td>0.0</td>\n",
              "      <td>0.0</td>\n",
              "      <td>0.0</td>\n",
              "      <td>0.0</td>\n",
              "      <td>0.0</td>\n",
              "      <td>0.0</td>\n",
              "      <td>0.0</td>\n",
              "      <td>1.0</td>\n",
              "      <td>0.0</td>\n",
              "      <td>0.0</td>\n",
              "      <td>0.0</td>\n",
              "      <td>0.0</td>\n",
              "      <td>0.0</td>\n",
              "      <td>0.0</td>\n",
              "      <td>0.0</td>\n",
              "      <td>0.0</td>\n",
              "      <td>5</td>\n",
              "      <td>1</td>\n",
              "      <td>1</td>\n",
              "      <td>4</td>\n",
              "      <td>6</td>\n",
              "      <td>3</td>\n",
              "      <td>5</td>\n",
              "      <td>3</td>\n",
              "      <td>1</td>\n",
              "      <td>1</td>\n",
              "      <td>1</td>\n",
              "      <td>3</td>\n",
              "      <td>1</td>\n",
              "      <td>1</td>\n",
              "      <td>1</td>\n",
              "      <td>1</td>\n",
              "      <td>3</td>\n",
              "      <td>1</td>\n",
              "      <td>1</td>\n",
              "    </tr>\n",
              "    <tr>\n",
              "      <th>4</th>\n",
              "      <td>0.0</td>\n",
              "      <td>0.0</td>\n",
              "      <td>1.0</td>\n",
              "      <td>0.0</td>\n",
              "      <td>0.0</td>\n",
              "      <td>0.0</td>\n",
              "      <td>0.0</td>\n",
              "      <td>1.0</td>\n",
              "      <td>0.0</td>\n",
              "      <td>0.0</td>\n",
              "      <td>0.0</td>\n",
              "      <td>0.0</td>\n",
              "      <td>0.0</td>\n",
              "      <td>0.0</td>\n",
              "      <td>0.0</td>\n",
              "      <td>0.0</td>\n",
              "      <td>1.0</td>\n",
              "      <td>0.0</td>\n",
              "      <td>0.0</td>\n",
              "      <td>0.0</td>\n",
              "      <td>0.0</td>\n",
              "      <td>0.0</td>\n",
              "      <td>0.0</td>\n",
              "      <td>1.0</td>\n",
              "      <td>0.0</td>\n",
              "      <td>0.0</td>\n",
              "      <td>1.0</td>\n",
              "      <td>0.0</td>\n",
              "      <td>0.0</td>\n",
              "      <td>0.0</td>\n",
              "      <td>0.0</td>\n",
              "      <td>0.0</td>\n",
              "      <td>0.0</td>\n",
              "      <td>0.0</td>\n",
              "      <td>0.0</td>\n",
              "      <td>0.0</td>\n",
              "      <td>0.0</td>\n",
              "      <td>0.0</td>\n",
              "      <td>0.0</td>\n",
              "      <td>0.0</td>\n",
              "      <td>...</td>\n",
              "      <td>0.0</td>\n",
              "      <td>0.0</td>\n",
              "      <td>0.0</td>\n",
              "      <td>1.0</td>\n",
              "      <td>0.0</td>\n",
              "      <td>0.0</td>\n",
              "      <td>0.0</td>\n",
              "      <td>0.0</td>\n",
              "      <td>0.0</td>\n",
              "      <td>0.0</td>\n",
              "      <td>0.0</td>\n",
              "      <td>0.0</td>\n",
              "      <td>0.0</td>\n",
              "      <td>0.0</td>\n",
              "      <td>0.0</td>\n",
              "      <td>1.0</td>\n",
              "      <td>0.0</td>\n",
              "      <td>0.0</td>\n",
              "      <td>0.0</td>\n",
              "      <td>0.0</td>\n",
              "      <td>0.0</td>\n",
              "      <td>5</td>\n",
              "      <td>2</td>\n",
              "      <td>2</td>\n",
              "      <td>1</td>\n",
              "      <td>6</td>\n",
              "      <td>4</td>\n",
              "      <td>6</td>\n",
              "      <td>1</td>\n",
              "      <td>1</td>\n",
              "      <td>2</td>\n",
              "      <td>1</td>\n",
              "      <td>1</td>\n",
              "      <td>2</td>\n",
              "      <td>1</td>\n",
              "      <td>1</td>\n",
              "      <td>3</td>\n",
              "      <td>3</td>\n",
              "      <td>1</td>\n",
              "      <td>1</td>\n",
              "    </tr>\n",
              "  </tbody>\n",
              "</table>\n",
              "<p>5 rows × 279 columns</p>\n",
              "</div>"
            ],
            "text/plain": [
              "    f0   f1   f2   f3   f4   f5   f6  ...  f272  f273  f274  f275  f276  f277  f278\n",
              "0  0.0  0.0  1.0  0.0  0.0  0.0  0.0  ...     1     1     1     1     3     1     1\n",
              "1  0.0  1.0  0.0  0.0  0.0  0.0  1.0  ...     1     3     4     1     5     1     1\n",
              "2  0.0  0.0  1.0  0.0  0.0  0.0  1.0  ...     1     1     1     2     1     1     1\n",
              "3  1.0  0.0  0.0  0.0  0.0  0.0  0.0  ...     1     1     1     1     3     1     1\n",
              "4  0.0  0.0  1.0  0.0  0.0  0.0  0.0  ...     2     1     1     3     3     1     1\n",
              "\n",
              "[5 rows x 279 columns]"
            ]
          },
          "metadata": {
            "tags": []
          },
          "execution_count": 113
        }
      ]
    },
    {
      "cell_type": "markdown",
      "metadata": {
        "id": "t-bXyQbfpPYn"
      },
      "source": [
        "Задача состоит в том, чтобы классифицировать употребление наркотических препаратов по 6-ти различным категориям. \n",
        "Для каждого препарата мы будем проводить отдельную классификацию.\n",
        "Давайте посмотрим на алгоритм многоклассовой классификации для алкоголя.\n",
        "На рисунке ниже показано распределение значений зависимой переменной. Как видно, классы несбалансированы. Для многоклассовой классификации с несбалансированными классами нужно разбить задачу на несколько бинарных классификаций. "
      ]
    },
    {
      "cell_type": "code",
      "metadata": {
        "colab": {
          "base_uri": "https://localhost:8080/",
          "height": 320
        },
        "id": "KVCsNq3mpSWA",
        "outputId": "c4208c51-2073-45c9-ab59-e0d8fcc94ac1"
      },
      "source": [
        "Data['f260'].hist(bins=Data['f260'].nunique(), figsize=(10,5));"
      ],
      "execution_count": null,
      "outputs": [
        {
          "output_type": "display_data",
          "data": {
            "image/png": "[encoded data removed]",
            "text/plain": [
              "<Figure size 720x360 with 1 Axes>"
            ]
          },
          "metadata": {
            "tags": [],
            "needs_background": "light"
          }
        }
      ]
    },
    {
      "cell_type": "code",
      "metadata": {
        "id": "XR8i24hj2tfj"
      },
      "source": [
        "from sklearn.model_selection import train_test_split\n",
        "from sklearn import ensemble\n",
        "from sklearn.metrics import accuracy_score"
      ],
      "execution_count": null,
      "outputs": []
    },
    {
      "cell_type": "markdown",
      "metadata": {
        "id": "qkfvAS3_-RYD"
      },
      "source": [
        "Для 6 и всех остальных (6 класс оставляем, все остальные кодируем 0)"
      ]
    },
    {
      "cell_type": "code",
      "metadata": {
        "id": "Nkn_giOL39KG"
      },
      "source": [
        "Data = pd.concat([X_cat_pd, y_all], axis=1)\n",
        "Data.columns = np.array([\"f\"+str(i) for i in range(Data.shape[1])])\n",
        "Data.loc[~Data['f260'].isin([6]), 'f260'] = 0 # заменяем метки классов на 0 (кроме 6)"
      ],
      "execution_count": null,
      "outputs": []
    },
    {
      "cell_type": "code",
      "metadata": {
        "id": "GJHHPdpN5LLX"
      },
      "source": [
        "X_train, X_test, y_train, y_test = train_test_split(\n",
        "    Data.loc[:,'f0':'f259'], Data['f260'], test_size=0.2, random_state=17)"
      ],
      "execution_count": null,
      "outputs": []
    },
    {
      "cell_type": "code",
      "metadata": {
        "colab": {
          "base_uri": "https://localhost:8080/"
        },
        "id": "ZmivtteFJGmS",
        "outputId": "28df4a1d-8832-491a-8f99-82eb98f78b6f"
      },
      "source": [
        "## Random forest\n",
        "rf = ensemble.RandomForestClassifier(n_estimators=20, class_weight='balanced')\n",
        "rf.fit(X_train, y_train)\n",
        "rf_pred = rf.predict(X_test)\n",
        "accuracy_score(y_test, rf_pred)"
      ],
      "execution_count": null,
      "outputs": [
        {
          "output_type": "execute_result",
          "data": {
            "text/plain": [
              "0.6684350132625995"
            ]
          },
          "metadata": {
            "tags": []
          },
          "execution_count": 118
        }
      ]
    },
    {
      "cell_type": "markdown",
      "metadata": {
        "id": "wotpKBgX-n9-"
      },
      "source": [
        "Для 5 и всех остальных (кроме 6)"
      ]
    },
    {
      "cell_type": "code",
      "metadata": {
        "id": "tuVtkO6cmbyt"
      },
      "source": [
        "Data = pd.concat([X_cat_pd, y_all], axis=1)\n",
        "Data.columns = np.array([\"f\"+str(i) for i in range(Data.shape[1])])\n",
        "Data = Data[Data['f260'] != 6] # отбрасываем 6 класс\n",
        "Data.loc[~Data['f260'].isin([5]), 'f260'] = 0"
      ],
      "execution_count": null,
      "outputs": []
    },
    {
      "cell_type": "code",
      "metadata": {
        "id": "fp2tDbpmmubo"
      },
      "source": [
        "X_train, X_test, y_train, y_test = train_test_split(\n",
        "    Data.loc[:,'f0':'f259'], Data['f260'], test_size=0.2, random_state=17)"
      ],
      "execution_count": null,
      "outputs": []
    },
    {
      "cell_type": "code",
      "metadata": {
        "colab": {
          "base_uri": "https://localhost:8080/"
        },
        "id": "JgrMO3-Cnja-",
        "outputId": "21dd6af6-97a3-4cb6-d497-2353e5a5dc95"
      },
      "source": [
        "## Random forest\n",
        "rf = ensemble.RandomForestClassifier(n_estimators=20, class_weight='balanced')\n",
        "rf.fit(X_train, y_train)\n",
        "rf_pred = rf.predict(X_test)\n",
        "accuracy_score(y_test, rf_pred)"
      ],
      "execution_count": null,
      "outputs": [
        {
          "output_type": "execute_result",
          "data": {
            "text/plain": [
              "0.496"
            ]
          },
          "metadata": {
            "tags": []
          },
          "execution_count": 121
        }
      ]
    },
    {
      "cell_type": "markdown",
      "metadata": {
        "id": "knJj_xpJ-xmT"
      },
      "source": [
        "Для 4 и всез остальных (кроме 5,6)"
      ]
    },
    {
      "cell_type": "code",
      "metadata": {
        "id": "fkYx2okXJi7U"
      },
      "source": [
        "Data = pd.concat([X_cat_pd, y_all], axis=1)\n",
        "Data.columns = np.array([\"f\"+str(i) for i in range(Data.shape[1])])\n",
        "Data = Data[Data['f260'] != 6] # отбрасываем 6 класс\n",
        "Data = Data[Data['f260'] != 5] # отбрасываем 5 класс\n",
        "Data.loc[~Data['f260'].isin([4]), 'f260'] = 0"
      ],
      "execution_count": null,
      "outputs": []
    },
    {
      "cell_type": "code",
      "metadata": {
        "id": "GfdoPIegJ1wr"
      },
      "source": [
        "X_train, X_test, y_train, y_test = train_test_split(\n",
        "    Data.loc[:,'f0':'f259'], Data['f260'], test_size=0.2, random_state=17)"
      ],
      "execution_count": null,
      "outputs": []
    },
    {
      "cell_type": "code",
      "metadata": {
        "colab": {
          "base_uri": "https://localhost:8080/"
        },
        "id": "t9CkMCLdJ5DN",
        "outputId": "bc2e0f23-41da-4668-8232-295f279c89bb"
      },
      "source": [
        "## Random forest\n",
        "rf = ensemble.RandomForestClassifier(n_estimators=20, class_weight='balanced')\n",
        "rf.fit(X_train, y_train)\n",
        "rf_pred = rf.predict(X_test)\n",
        "accuracy_score(y_test, rf_pred)"
      ],
      "execution_count": null,
      "outputs": [
        {
          "output_type": "execute_result",
          "data": {
            "text/plain": [
              "0.5522388059701493"
            ]
          },
          "metadata": {
            "tags": []
          },
          "execution_count": 124
        }
      ]
    },
    {
      "cell_type": "markdown",
      "metadata": {
        "id": "6yaCOWGC-50h"
      },
      "source": [
        "Многоклассовая коассификация для всех остальных классов"
      ]
    },
    {
      "cell_type": "code",
      "metadata": {
        "id": "ER2Ln0vdKHYe"
      },
      "source": [
        "Data = pd.concat([X_cat_pd, y_all], axis=1)\n",
        "Data.columns = np.array([\"f\"+str(i) for i in range(Data.shape[1])])\n",
        "Data = Data[Data['f260'] != 6] # отбрасываем 6 класс\n",
        "Data = Data[Data['f260'] != 5] # отбрасываем 5 класс\n",
        "Data = Data[Data['f260'] != 4] # отбрасываем 4 класс"
      ],
      "execution_count": null,
      "outputs": []
    },
    {
      "cell_type": "code",
      "metadata": {
        "id": "FTBdk4dxMB_d"
      },
      "source": [
        "X_train, X_test, y_train, y_test = train_test_split(\n",
        "    Data.loc[:,'f0':'f259'], Data['f260'], test_size=0.2, random_state=17)"
      ],
      "execution_count": null,
      "outputs": []
    },
    {
      "cell_type": "code",
      "metadata": {
        "colab": {
          "base_uri": "https://localhost:8080/"
        },
        "id": "8OeDWBvaMHuc",
        "outputId": "79a46eb9-fc95-4c5f-955d-60b5711fc3e3"
      },
      "source": [
        "## Random forest\n",
        "rf = ensemble.RandomForestClassifier(n_estimators=20, class_weight='balanced')\n",
        "rf.fit(X_train, y_train)\n",
        "rf_pred = rf.predict(X_test)\n",
        "accuracy_score(y_test, rf_pred)"
      ],
      "execution_count": null,
      "outputs": [
        {
          "output_type": "execute_result",
          "data": {
            "text/plain": [
              "0.5"
            ]
          },
          "metadata": {
            "tags": []
          },
          "execution_count": 127
        }
      ]
    },
    {
      "cell_type": "markdown",
      "metadata": {
        "id": "hHTAnHBY_HeY"
      },
      "source": [
        "Приблизительная точность (accuracy) модели бинарной класиификации является взвешенная сумма по вышеприведенным моделям, где весом является удельный размер класса во всей выборке."
      ]
    },
    {
      "cell_type": "markdown",
      "metadata": {
        "id": "4AHqPEEYAMyJ"
      },
      "source": [
        "Так как наркотических препаратов 18 штук, то для сокращения длины кода была написана функция culc_acc, которая возвращает список accuracy для каждого препарата (этот список accuracy нужен для рассчета accuracy всей модели)"
      ]
    },
    {
      "cell_type": "code",
      "metadata": {
        "id": "cRdydBvDMdwQ"
      },
      "source": [
        "def culc_acc(X_cat_pd, y_all,lable,drug):\n",
        "  # Вычисляем acc для 1-го самого большого класса\n",
        "  acc=[]\n",
        "  lable=lable\n",
        "  drug=drug\n",
        "  Data = pd.concat([X_cat_pd, y_all], axis=1)\n",
        "  Data.columns = np.array([\"f\"+str(i) for i in range(Data.shape[1])])\n",
        "  Data.loc[~Data[drug[0]].isin([lable[0]]), drug[0]] = 0\n",
        "  X_train, X_test, y_train, y_test = train_test_split(\n",
        "    Data.loc[:,'f0':'f259'], Data[drug[0]], test_size=0.2, random_state=17)\n",
        "  ## Random forest\n",
        "  rf = ensemble.RandomForestClassifier(n_estimators=20, class_weight='balanced')\n",
        "  rf.fit(X_train, y_train)\n",
        "  rf_pred = rf.predict(X_test)\n",
        "  acc.append(accuracy_score(y_test, rf_pred))\n",
        "  # вычисляем acc для второго самого большого класса (1 удаляем)\n",
        "  Data = pd.concat([X_cat_pd, y_all], axis=1)\n",
        "  Data.columns = np.array([\"f\"+str(i) for i in range(Data.shape[1])])\n",
        "  Data = Data[Data[drug[0]] != lable[0]] # отбрасываем 6 класс\n",
        "  Data.loc[~Data[drug[0]].isin([lable[1]]), drug[0]] = 0\n",
        "  X_train, X_test, y_train, y_test = train_test_split(\n",
        "    Data.loc[:,'f0':'f259'], Data[drug[0]], test_size=0.2, random_state=17)\n",
        "  ## Random forest\n",
        "  rf = ensemble.RandomForestClassifier(n_estimators=20, class_weight='balanced')\n",
        "  rf.fit(X_train, y_train)\n",
        "  rf_pred = rf.predict(X_test)\n",
        "  acc.append(accuracy_score(y_test, rf_pred))\n",
        "  # вычисляем acc для третьего самого большого класса (1 и 2 удаляем)\n",
        "  Data = pd.concat([X_cat_pd, y_all], axis=1)\n",
        "  Data.columns = np.array([\"f\"+str(i) for i in range(Data.shape[1])])\n",
        "  Data = Data[Data[drug[0]] != lable[0]]\n",
        "  Data = Data[Data[drug[0]] != lable[1]]\n",
        "  Data.loc[~Data[drug[0]].isin([lable[2]]), drug[0]] = 0\n",
        "  X_train, X_test, y_train, y_test = train_test_split(\n",
        "    Data.loc[:,'f0':'f259'], Data[drug[0]], test_size=0.2, random_state=17)\n",
        "  ## Random forest\n",
        "  rf = ensemble.RandomForestClassifier(n_estimators=20, class_weight='balanced')\n",
        "  rf.fit(X_train, y_train)\n",
        "  rf_pred = rf.predict(X_test)\n",
        "  acc.append(accuracy_score(y_test, rf_pred))\n",
        "  # Многоклассовая классифмкация для всех остальных классов\n",
        "  Data = pd.concat([X_cat_pd, y_all], axis=1)\n",
        "  Data.columns = np.array([\"f\"+str(i) for i in range(Data.shape[1])])\n",
        "  Data = Data[Data[drug[0]] != lable[0]]\n",
        "  Data = Data[Data[drug[0]] != lable[1]]\n",
        "  Data = Data[Data[drug[0]] != lable[2]]\n",
        "  X_train, X_test, y_train, y_test = train_test_split(\n",
        "    Data.loc[:,'f0':'f259'], Data[drug[0]], test_size=0.2, random_state=17)\n",
        "  ## Random forest\n",
        "  rf = ensemble.RandomForestClassifier(n_estimators=20, class_weight='balanced')\n",
        "  rf.fit(X_train, y_train)\n",
        "  rf_pred = rf.predict(X_test)\n",
        "  acc.append(accuracy_score(y_test, rf_pred))\n",
        "  return acc\n",
        "\n"
      ],
      "execution_count": null,
      "outputs": []
    },
    {
      "cell_type": "markdown",
      "metadata": {
        "id": "SPiti6BhAWrU"
      },
      "source": [
        "Расчет accuracy модели для каждого препарата"
      ]
    },
    {
      "cell_type": "markdown",
      "metadata": {
        "id": "x38DSinMs8oN"
      },
      "source": [
        "# Alcohol"
      ]
    },
    {
      "cell_type": "code",
      "metadata": {
        "colab": {
          "base_uri": "https://localhost:8080/",
          "height": 229
        },
        "id": "RVOV40otsrdy",
        "outputId": "8a9afccc-c842-4030-97df-58d669310492"
      },
      "source": [
        "Data = pd.concat([X_cat_pd, y_all], axis=1)\n",
        "Data.columns = np.array([\"f\"+str(i) for i in range(Data.shape[1])])\n",
        "Data['f260'].hist(bins=Data['f260'].nunique(), figsize=(7,3))"
      ],
      "execution_count": null,
      "outputs": [
        {
          "output_type": "execute_result",
          "data": {
            "text/plain": [
              "<matplotlib.axes._subplots.AxesSubplot at 0x7fda8cb3f3d0>"
            ]
          },
          "metadata": {
            "tags": []
          },
          "execution_count": 129
        },
        {
          "output_type": "display_data",
          "data": {
            "image/png": "[encoded data removed]",
            "text/plain": [
              "<Figure size 504x216 with 1 Axes>"
            ]
          },
          "metadata": {
            "tags": [],
            "needs_background": "light"
          }
        }
      ]
    },
    {
      "cell_type": "code",
      "metadata": {
        "colab": {
          "base_uri": "https://localhost:8080/"
        },
        "id": "4oNIQmMVTdWp",
        "outputId": "4ba72071-89dc-42f3-c6ff-8f13046da8d7"
      },
      "source": [
        "weight1 = Data['f260'].value_counts()[6]/Data['f260'].value_counts().sum()\n",
        "weight2 = Data['f260'].value_counts()[5]/Data['f260'].value_counts().sum()\n",
        "weight3 = Data['f260'].value_counts()[4]/Data['f260'].value_counts().sum()\n",
        "weight_rest = (Data['f260'].value_counts().sum() - weight1*Data['f260'].value_counts().sum() - weight2*Data['f260'].value_counts().sum() - weight3*Data['f260'].value_counts().sum())/Data['f260'].value_counts().sum()\n",
        "acc_alcohol=culc_acc(X_cat_pd, y_all,lable=[6,5,4],drug=['f260'])\n",
        "Acc_alcohol=weight1*acc_alcohol[0]+weight2*acc_alcohol[1]+weight3*acc_alcohol[2]+weight_rest*acc_alcohol[3]\n",
        "Acc_alcohol"
      ],
      "execution_count": null,
      "outputs": [
        {
          "output_type": "execute_result",
          "data": {
            "text/plain": [
              "0.6101728093765565"
            ]
          },
          "metadata": {
            "tags": []
          },
          "execution_count": 130
        }
      ]
    },
    {
      "cell_type": "markdown",
      "metadata": {
        "id": "S4t5w6EDtkZP"
      },
      "source": [
        "Amphet"
      ]
    },
    {
      "cell_type": "code",
      "metadata": {
        "colab": {
          "base_uri": "https://localhost:8080/",
          "height": 229
        },
        "id": "sIcHzivAaxKQ",
        "outputId": "f0c366b0-ea2a-4a70-be45-32458497f1d5"
      },
      "source": [
        "Data = pd.concat([X_cat_pd, y_all], axis=1)\n",
        "Data.columns = np.array([\"f\"+str(i) for i in range(Data.shape[1])])\n",
        "Data['f261'].hist(bins=Data['f261'].nunique(), figsize=(7,3))"
      ],
      "execution_count": null,
      "outputs": [
        {
          "output_type": "execute_result",
          "data": {
            "text/plain": [
              "<matplotlib.axes._subplots.AxesSubplot at 0x7fda8c754790>"
            ]
          },
          "metadata": {
            "tags": []
          },
          "execution_count": 131
        },
        {
          "output_type": "display_data",
          "data": {
            "image/png": "[encoded data removed]",
            "text/plain": [
              "<Figure size 504x216 with 1 Axes>"
            ]
          },
          "metadata": {
            "tags": [],
            "needs_background": "light"
          }
        }
      ]
    },
    {
      "cell_type": "code",
      "metadata": {
        "colab": {
          "base_uri": "https://localhost:8080/"
        },
        "id": "-x7u73i-uGt-",
        "outputId": "6886f70c-7706-4355-f048-c2c8f7f36e73"
      },
      "source": [
        "weight1 = Data['f261'].value_counts()[1]/Data['f261'].value_counts().sum()\n",
        "weight2 = Data['f261'].value_counts()[3]/Data['f261'].value_counts().sum()\n",
        "weight3 = Data['f261'].value_counts()[2]/Data['f261'].value_counts().sum()\n",
        "weight_rest = (Data['f261'].value_counts().sum() - weight1*Data['f261'].value_counts().sum() - weight2*Data['f261'].value_counts().sum() - weight3*Data['f261'].value_counts().sum())/Data['f261'].value_counts().sum()\n",
        "acc_amphet=culc_acc(X_cat_pd, y_all,lable=[1,3,2],drug=['f261'])\n",
        "Acc_amphet=weight1*acc_amphet[0]+weight2*acc_amphet[1]+weight3*acc_amphet[2]+weight_rest*acc_amphet[3]\n",
        "Acc_amphet"
      ],
      "execution_count": null,
      "outputs": [
        {
          "output_type": "execute_result",
          "data": {
            "text/plain": [
              "0.6308157079619897"
            ]
          },
          "metadata": {
            "tags": []
          },
          "execution_count": 132
        }
      ]
    },
    {
      "cell_type": "markdown",
      "metadata": {
        "id": "knPJOPTguZFC"
      },
      "source": [
        "Amyl"
      ]
    },
    {
      "cell_type": "code",
      "metadata": {
        "colab": {
          "base_uri": "https://localhost:8080/",
          "height": 229
        },
        "id": "pD4AoOfuueOj",
        "outputId": "03902f67-dc2b-45ab-9991-eeb4f5c8f5e5"
      },
      "source": [
        "Data = pd.concat([X_cat_pd, y_all], axis=1)\n",
        "Data.columns = np.array([\"f\"+str(i) for i in range(Data.shape[1])])\n",
        "Data['f262'].hist(bins=Data['f262'].nunique(), figsize=(7,3))"
      ],
      "execution_count": null,
      "outputs": [
        {
          "output_type": "execute_result",
          "data": {
            "text/plain": [
              "<matplotlib.axes._subplots.AxesSubplot at 0x7fda8c017a50>"
            ]
          },
          "metadata": {
            "tags": []
          },
          "execution_count": 133
        },
        {
          "output_type": "display_data",
          "data": {
            "image/png": "[encoded data removed]",
            "text/plain": [
              "<Figure size 504x216 with 1 Axes>"
            ]
          },
          "metadata": {
            "tags": [],
            "needs_background": "light"
          }
        }
      ]
    },
    {
      "cell_type": "code",
      "metadata": {
        "colab": {
          "base_uri": "https://localhost:8080/"
        },
        "id": "-8HZ53i-ulwb",
        "outputId": "a481403e-b6a1-4c19-dd18-922501c134d9"
      },
      "source": [
        "weight1 = Data['f262'].value_counts()[1]/Data['f262'].value_counts().sum()\n",
        "weight2 = Data['f262'].value_counts()[3]/Data['f262'].value_counts().sum()\n",
        "weight3 = Data['f262'].value_counts()[2]/Data['f262'].value_counts().sum()\n",
        "weight_rest = (Data['f262'].value_counts().sum() - weight1*Data['f262'].value_counts().sum() - weight2*Data['f262'].value_counts().sum() - weight3*Data['f262'].value_counts().sum())/Data['f262'].value_counts().sum()\n",
        "acc_amyl=culc_acc(X_cat_pd, y_all,lable=[1,3,2],drug=['f262'])\n",
        "Acc_amyl=weight1*acc_amyl[0]+weight2*acc_amyl[1]+weight3*acc_amyl[2]+weight_rest*acc_amyl[3]\n",
        "Acc_amyl"
      ],
      "execution_count": null,
      "outputs": [
        {
          "output_type": "execute_result",
          "data": {
            "text/plain": [
              "0.6986084419306138"
            ]
          },
          "metadata": {
            "tags": []
          },
          "execution_count": 134
        }
      ]
    },
    {
      "cell_type": "markdown",
      "metadata": {
        "id": "uYJAq_w7uwlL"
      },
      "source": [
        "Benzos"
      ]
    },
    {
      "cell_type": "code",
      "metadata": {
        "colab": {
          "base_uri": "https://localhost:8080/",
          "height": 229
        },
        "id": "n81C_7mVuu_X",
        "outputId": "561e4596-21ed-487e-ed3e-a2cdeeb65ad3"
      },
      "source": [
        "Data = pd.concat([X_cat_pd, y_all], axis=1)\n",
        "Data.columns = np.array([\"f\"+str(i) for i in range(Data.shape[1])])\n",
        "Data['f263'].hist(bins=Data['f263'].nunique(), figsize=(7,3))"
      ],
      "execution_count": null,
      "outputs": [
        {
          "output_type": "execute_result",
          "data": {
            "text/plain": [
              "<matplotlib.axes._subplots.AxesSubplot at 0x7fda8c71bfd0>"
            ]
          },
          "metadata": {
            "tags": []
          },
          "execution_count": 135
        },
        {
          "output_type": "display_data",
          "data": {
            "image/png": "[encoded data removed]",
            "text/plain": [
              "<Figure size 504x216 with 1 Axes>"
            ]
          },
          "metadata": {
            "tags": [],
            "needs_background": "light"
          }
        }
      ]
    },
    {
      "cell_type": "code",
      "metadata": {
        "colab": {
          "base_uri": "https://localhost:8080/"
        },
        "id": "zptVmkM4va-V",
        "outputId": "97a602f7-ed71-4d60-9b69-19ee4af81447"
      },
      "source": [
        "weight1 = Data['f263'].value_counts()[1]/Data['f263'].value_counts().sum()\n",
        "weight2 = Data['f263'].value_counts()[3]/Data['f262'].value_counts().sum()\n",
        "weight3 = Data['f263'].value_counts()[4]/Data['f263'].value_counts().sum()\n",
        "weight_rest = (Data['f263'].value_counts().sum() - weight1*Data['f263'].value_counts().sum() - weight2*Data['f263'].value_counts().sum() - weight3*Data['f263'].value_counts().sum())/Data['f263'].value_counts().sum()\n",
        "acc_benzos=culc_acc(X_cat_pd, y_all,lable=[1,3,4],drug=['f263'])\n",
        "Acc_benzos=weight1*acc_benzos[0]+weight2*acc_benzos[1]+weight3*acc_benzos[2]+weight_rest*acc_benzos[3]\n",
        "Acc_benzos"
      ],
      "execution_count": null,
      "outputs": [
        {
          "output_type": "execute_result",
          "data": {
            "text/plain": [
              "0.6155949209256207"
            ]
          },
          "metadata": {
            "tags": []
          },
          "execution_count": 136
        }
      ]
    },
    {
      "cell_type": "markdown",
      "metadata": {
        "id": "8afHe5C0vjcf"
      },
      "source": [
        "Caff "
      ]
    },
    {
      "cell_type": "code",
      "metadata": {
        "colab": {
          "base_uri": "https://localhost:8080/",
          "height": 229
        },
        "id": "B2seS2nCvoUP",
        "outputId": "54a27a46-f42c-460b-8225-b60ea3894724"
      },
      "source": [
        "Data = pd.concat([X_cat_pd, y_all], axis=1)\n",
        "Data.columns = np.array([\"f\"+str(i) for i in range(Data.shape[1])])\n",
        "Data['f264'].hist(bins=Data['f264'].nunique(), figsize=(7,3))"
      ],
      "execution_count": null,
      "outputs": [
        {
          "output_type": "execute_result",
          "data": {
            "text/plain": [
              "<matplotlib.axes._subplots.AxesSubplot at 0x7fda8c88b790>"
            ]
          },
          "metadata": {
            "tags": []
          },
          "execution_count": 137
        },
        {
          "output_type": "display_data",
          "data": {
            "image/png": "[encoded data removed]",
            "text/plain": [
              "<Figure size 504x216 with 1 Axes>"
            ]
          },
          "metadata": {
            "tags": [],
            "needs_background": "light"
          }
        }
      ]
    },
    {
      "cell_type": "code",
      "metadata": {
        "colab": {
          "base_uri": "https://localhost:8080/"
        },
        "id": "KI4nHTWxwSMm",
        "outputId": "4f904cbe-a780-4aa8-e372-28e31a20f324"
      },
      "source": [
        "weight1 = Data['f264'].value_counts()[6]/Data['f264'].value_counts().sum()\n",
        "weight2 = Data['f264'].value_counts()[5]/Data['f264'].value_counts().sum()\n",
        "weight3 = Data['f264'].value_counts()[4]/Data['f264'].value_counts().sum()\n",
        "weight_rest = (Data['f264'].value_counts().sum() - weight1*Data['f264'].value_counts().sum() - weight2*Data['f264'].value_counts().sum() - weight3*Data['f264'].value_counts().sum())/Data['f264'].value_counts().sum()\n",
        "acc_caff=culc_acc(X_cat_pd, y_all,lable=[6,5,4],drug=['f264'])\n",
        "Acc_caff=weight1*acc_caff[0]+weight2*acc_caff[1]+weight3*acc_caff[2]+weight_rest*acc_caff[3]\n",
        "Acc_caff"
      ],
      "execution_count": null,
      "outputs": [
        {
          "output_type": "execute_result",
          "data": {
            "text/plain": [
              "0.851006057876999"
            ]
          },
          "metadata": {
            "tags": []
          },
          "execution_count": 138
        }
      ]
    },
    {
      "cell_type": "markdown",
      "metadata": {
        "id": "UP5I21i8woKc"
      },
      "source": [
        "Cannabis"
      ]
    },
    {
      "cell_type": "code",
      "metadata": {
        "colab": {
          "base_uri": "https://localhost:8080/",
          "height": 229
        },
        "id": "32_9lOvPwnD9",
        "outputId": "5803b143-a331-4a1a-82ab-c2024bffca12"
      },
      "source": [
        "Data = pd.concat([X_cat_pd, y_all], axis=1)\n",
        "Data.columns = np.array([\"f\"+str(i) for i in range(Data.shape[1])])\n",
        "Data['f265'].hist(bins=Data['f265'].nunique(), figsize=(7,3))"
      ],
      "execution_count": null,
      "outputs": [
        {
          "output_type": "execute_result",
          "data": {
            "text/plain": [
              "<matplotlib.axes._subplots.AxesSubplot at 0x7fda8c500c90>"
            ]
          },
          "metadata": {
            "tags": []
          },
          "execution_count": 139
        },
        {
          "output_type": "display_data",
          "data": {
            "image/png": "[encoded data removed]",
            "text/plain": [
              "<Figure size 504x216 with 1 Axes>"
            ]
          },
          "metadata": {
            "tags": [],
            "needs_background": "light"
          }
        }
      ]
    },
    {
      "cell_type": "code",
      "metadata": {
        "colab": {
          "base_uri": "https://localhost:8080/"
        },
        "id": "mPHfF55Mwz_B",
        "outputId": "baed63c2-1051-43f1-edb1-e691589746cb"
      },
      "source": [
        "weight1 = Data['f265'].value_counts()[6]/Data['f265'].value_counts().sum()\n",
        "weight2 = Data['f265'].value_counts()[1]/Data['f265'].value_counts().sum()\n",
        "weight3 = Data['f265'].value_counts()[3]/Data['f265'].value_counts().sum()\n",
        "weight_rest = (Data['f265'].value_counts().sum() - weight1*Data['f265'].value_counts().sum() - weight2*Data['f265'].value_counts().sum() - weight3*Data['f265'].value_counts().sum())/Data['f265'].value_counts().sum()\n",
        "acc_cannabis=culc_acc(X_cat_pd, y_all,lable=[6,1,3],drug=['f265'])\n",
        "Acc_cannabis=weight1*acc_cannabis[0]+weight2*acc_cannabis[1]+weight3*acc_cannabis[2]+weight_rest*acc_cannabis[3]\n",
        "Acc_cannabis"
      ],
      "execution_count": null,
      "outputs": [
        {
          "output_type": "execute_result",
          "data": {
            "text/plain": [
              "0.6721420768263857"
            ]
          },
          "metadata": {
            "tags": []
          },
          "execution_count": 140
        }
      ]
    },
    {
      "cell_type": "markdown",
      "metadata": {
        "id": "OEo1KFXOxBlk"
      },
      "source": [
        "Choc"
      ]
    },
    {
      "cell_type": "code",
      "metadata": {
        "colab": {
          "base_uri": "https://localhost:8080/",
          "height": 229
        },
        "id": "60_U8ohAxJ6A",
        "outputId": "4e1469d3-fcea-4da3-9e31-a5f57351b235"
      },
      "source": [
        "Data = pd.concat([X_cat_pd, y_all], axis=1)\n",
        "Data.columns = np.array([\"f\"+str(i) for i in range(Data.shape[1])])\n",
        "Data['f266'].hist(bins=Data['f266'].nunique(), figsize=(7,3))"
      ],
      "execution_count": null,
      "outputs": [
        {
          "output_type": "execute_result",
          "data": {
            "text/plain": [
              "<matplotlib.axes._subplots.AxesSubplot at 0x7fda8cbc4b10>"
            ]
          },
          "metadata": {
            "tags": []
          },
          "execution_count": 141
        },
        {
          "output_type": "display_data",
          "data": {
            "image/png": "[encoded data removed]",
            "text/plain": [
              "<Figure size 504x216 with 1 Axes>"
            ]
          },
          "metadata": {
            "tags": [],
            "needs_background": "light"
          }
        }
      ]
    },
    {
      "cell_type": "code",
      "metadata": {
        "colab": {
          "base_uri": "https://localhost:8080/"
        },
        "id": "bk5blYRGxRT3",
        "outputId": "98664b4b-53bf-4758-db02-23a0a2db78a5"
      },
      "source": [
        "weight1 = Data['f266'].value_counts()[6]/Data['f266'].value_counts().sum()\n",
        "weight2 = Data['f266'].value_counts()[5]/Data['f266'].value_counts().sum()\n",
        "weight3 = Data['f266'].value_counts()[4]/Data['f266'].value_counts().sum()\n",
        "weight_rest = (Data['f266'].value_counts().sum() - weight1*Data['f266'].value_counts().sum() - weight2*Data['f266'].value_counts().sum() - weight3*Data['f266'].value_counts().sum())/Data['f266'].value_counts().sum()\n",
        "acc_chot=culc_acc(X_cat_pd, y_all,lable=[6,5,4],drug=['f266'])\n",
        "Acc_choc=weight1*acc_chot[0]+weight2*acc_chot[1]+weight3*acc_chot[2]+weight_rest*acc_chot[3]\n",
        "Acc_choc"
      ],
      "execution_count": null,
      "outputs": [
        {
          "output_type": "execute_result",
          "data": {
            "text/plain": [
              "0.7622897757973658"
            ]
          },
          "metadata": {
            "tags": []
          },
          "execution_count": 142
        }
      ]
    },
    {
      "cell_type": "markdown",
      "metadata": {
        "id": "UyTXe8_dxcQT"
      },
      "source": [
        "Coke"
      ]
    },
    {
      "cell_type": "code",
      "metadata": {
        "colab": {
          "base_uri": "https://localhost:8080/",
          "height": 229
        },
        "id": "kPTGlk3UxfqR",
        "outputId": "2baafeb1-b743-45ed-d060-853b961a8712"
      },
      "source": [
        "Data = pd.concat([X_cat_pd, y_all], axis=1)\n",
        "Data.columns = np.array([\"f\"+str(i) for i in range(Data.shape[1])])\n",
        "Data['f267'].hist(bins=Data['f267'].nunique(), figsize=(7,3))"
      ],
      "execution_count": null,
      "outputs": [
        {
          "output_type": "execute_result",
          "data": {
            "text/plain": [
              "<matplotlib.axes._subplots.AxesSubplot at 0x7fda8c3dae90>"
            ]
          },
          "metadata": {
            "tags": []
          },
          "execution_count": 143
        },
        {
          "output_type": "display_data",
          "data": {
            "image/png": "[encoded data removed]",
            "text/plain": [
              "<Figure size 504x216 with 1 Axes>"
            ]
          },
          "metadata": {
            "tags": [],
            "needs_background": "light"
          }
        }
      ]
    },
    {
      "cell_type": "code",
      "metadata": {
        "colab": {
          "base_uri": "https://localhost:8080/"
        },
        "id": "dpGtvyrOxnw2",
        "outputId": "3616a3df-bf17-4ac8-a1ac-9beea4f370af"
      },
      "source": [
        "weight1 = Data['f267'].value_counts()[1]/Data['f267'].value_counts().sum()\n",
        "weight2 = Data['f267'].value_counts()[3]/Data['f267'].value_counts().sum()\n",
        "weight3 = Data['f267'].value_counts()[4]/Data['f267'].value_counts().sum()\n",
        "weight_rest = (Data['f267'].value_counts().sum() - weight1*Data['f267'].value_counts().sum() - weight2*Data['f267'].value_counts().sum() - weight3*Data['f267'].value_counts().sum())/Data['f267'].value_counts().sum()\n",
        "acc_coke=culc_acc(X_cat_pd, y_all,lable=[1,3,4],drug=['f267'])\n",
        "Acc_coke=weight1*acc_coke[0]+weight2*acc_coke[1]+weight3*acc_coke[2]+weight_rest*acc_coke[3]\n",
        "Acc_coke"
      ],
      "execution_count": null,
      "outputs": [
        {
          "output_type": "execute_result",
          "data": {
            "text/plain": [
              "0.641329600170599"
            ]
          },
          "metadata": {
            "tags": []
          },
          "execution_count": 144
        }
      ]
    },
    {
      "cell_type": "markdown",
      "metadata": {
        "id": "L8JmST_9xyFZ"
      },
      "source": [
        "Crack"
      ]
    },
    {
      "cell_type": "code",
      "metadata": {
        "colab": {
          "base_uri": "https://localhost:8080/",
          "height": 229
        },
        "id": "w-DmMEHPx2no",
        "outputId": "17577747-b214-4a5e-8dc2-6d632c2246f7"
      },
      "source": [
        "Data = pd.concat([X_cat_pd, y_all], axis=1)\n",
        "Data.columns = np.array([\"f\"+str(i) for i in range(Data.shape[1])])\n",
        "Data['f268'].hist(bins=Data['f268'].nunique(), figsize=(7,3))"
      ],
      "execution_count": null,
      "outputs": [
        {
          "output_type": "execute_result",
          "data": {
            "text/plain": [
              "<matplotlib.axes._subplots.AxesSubplot at 0x7fda8d4fde10>"
            ]
          },
          "metadata": {
            "tags": []
          },
          "execution_count": 145
        },
        {
          "output_type": "display_data",
          "data": {
            "image/png": "[encoded data removed]",
            "text/plain": [
              "<Figure size 504x216 with 1 Axes>"
            ]
          },
          "metadata": {
            "tags": [],
            "needs_background": "light"
          }
        }
      ]
    },
    {
      "cell_type": "code",
      "metadata": {
        "colab": {
          "base_uri": "https://localhost:8080/"
        },
        "id": "81fZY7FRx8P6",
        "outputId": "4415f863-a8a6-4332-a4d2-5b3e5fcf091e"
      },
      "source": [
        "weight1 = Data['f268'].value_counts()[1]/Data['f268'].value_counts().sum()\n",
        "weight2 = Data['f268'].value_counts()[3]/Data['f268'].value_counts().sum()\n",
        "weight3 = Data['f268'].value_counts()[2]/Data['f268'].value_counts().sum()\n",
        "weight_rest = (Data['f268'].value_counts().sum() - weight1*Data['f268'].value_counts().sum() - weight2*Data['f268'].value_counts().sum() - weight3*Data['f268'].value_counts().sum())/Data['f268'].value_counts().sum()\n",
        "acc_crack=culc_acc(X_cat_pd, y_all,lable=[1,3,2],drug=['f268'])\n",
        "Acc_crack=weight1*acc_crack[0]+weight2*acc_crack[1]+weight3*acc_crack[2]+weight_rest*acc_crack[3]\n",
        "Acc_crack"
      ],
      "execution_count": null,
      "outputs": [
        {
          "output_type": "execute_result",
          "data": {
            "text/plain": [
              "0.8267468051324267"
            ]
          },
          "metadata": {
            "tags": []
          },
          "execution_count": 146
        }
      ]
    },
    {
      "cell_type": "markdown",
      "metadata": {
        "id": "Qd8b2yUqyIMe"
      },
      "source": [
        "Ecstasy"
      ]
    },
    {
      "cell_type": "code",
      "metadata": {
        "colab": {
          "base_uri": "https://localhost:8080/",
          "height": 229
        },
        "id": "p7QeS1LiyMHQ",
        "outputId": "8b1b4014-e283-4d89-d5e3-c26b63cfb88f"
      },
      "source": [
        "Data = pd.concat([X_cat_pd, y_all], axis=1)\n",
        "Data.columns = np.array([\"f\"+str(i) for i in range(Data.shape[1])])\n",
        "Data['f269'].hist(bins=Data['f269'].nunique(), figsize=(7,3))"
      ],
      "execution_count": null,
      "outputs": [
        {
          "output_type": "execute_result",
          "data": {
            "text/plain": [
              "<matplotlib.axes._subplots.AxesSubplot at 0x7fda8c8afa10>"
            ]
          },
          "metadata": {
            "tags": []
          },
          "execution_count": 147
        },
        {
          "output_type": "display_data",
          "data": {
            "image/png": "[encoded data removed]",
            "text/plain": [
              "<Figure size 504x216 with 1 Axes>"
            ]
          },
          "metadata": {
            "tags": [],
            "needs_background": "light"
          }
        }
      ]
    },
    {
      "cell_type": "code",
      "metadata": {
        "colab": {
          "base_uri": "https://localhost:8080/"
        },
        "id": "_5Nt34CZyRyn",
        "outputId": "d4d1fd6a-a7ad-4a77-e3be-85b539977e4b"
      },
      "source": [
        "weight1 = Data['f269'].value_counts()[1]/Data['f269'].value_counts().sum()\n",
        "weight2 = Data['f269'].value_counts()[4]/Data['f269'].value_counts().sum()\n",
        "weight3 = Data['f269'].value_counts()[3]/Data['f269'].value_counts().sum()\n",
        "weight_rest = (Data['f269'].value_counts().sum() - weight1*Data['f269'].value_counts().sum() - weight2*Data['f269'].value_counts().sum() - weight3*Data['f269'].value_counts().sum())/Data['f269'].value_counts().sum()\n",
        "acc_ecstasy=culc_acc(X_cat_pd, y_all,lable=[1,4,3],drug=['f269'])\n",
        "Acc_ecstasy=weight1*acc_ecstasy[0]+weight2*acc_ecstasy[1]+weight3*acc_ecstasy[2]+weight_rest*acc_ecstasy[3]\n",
        "Acc_ecstasy"
      ],
      "execution_count": null,
      "outputs": [
        {
          "output_type": "execute_result",
          "data": {
            "text/plain": [
              "0.6638807929921636"
            ]
          },
          "metadata": {
            "tags": []
          },
          "execution_count": 148
        }
      ]
    },
    {
      "cell_type": "markdown",
      "metadata": {
        "id": "kJk4pQWuylPB"
      },
      "source": [
        "Heroin"
      ]
    },
    {
      "cell_type": "code",
      "metadata": {
        "colab": {
          "base_uri": "https://localhost:8080/",
          "height": 229
        },
        "id": "oKAu7SEVypFG",
        "outputId": "26582a9e-90d0-4184-e66f-1b84dc03a99a"
      },
      "source": [
        "Data = pd.concat([X_cat_pd, y_all], axis=1)\n",
        "Data.columns = np.array([\"f\"+str(i) for i in range(Data.shape[1])])\n",
        "Data['f270'].hist(bins=Data['f270'].nunique(), figsize=(7,3))"
      ],
      "execution_count": null,
      "outputs": [
        {
          "output_type": "execute_result",
          "data": {
            "text/plain": [
              "<matplotlib.axes._subplots.AxesSubplot at 0x7fda8c525090>"
            ]
          },
          "metadata": {
            "tags": []
          },
          "execution_count": 149
        },
        {
          "output_type": "display_data",
          "data": {
            "image/png": "[encoded data removed]",
            "text/plain": [
              "<Figure size 504x216 with 1 Axes>"
            ]
          },
          "metadata": {
            "tags": [],
            "needs_background": "light"
          }
        }
      ]
    },
    {
      "cell_type": "code",
      "metadata": {
        "colab": {
          "base_uri": "https://localhost:8080/"
        },
        "id": "OoPdTDx4yv5y",
        "outputId": "183fa8a4-451f-48fb-9679-ceadf41e3775"
      },
      "source": [
        "weight1 = Data['f270'].value_counts()[1]/Data['f270'].value_counts().sum()\n",
        "weight2 = Data['f270'].value_counts()[3]/Data['f270'].value_counts().sum()\n",
        "weight3 = Data['f270'].value_counts()[4]/Data['f270'].value_counts().sum()\n",
        "weight_rest = (Data['f270'].value_counts().sum() - weight1*Data['f270'].value_counts().sum() - weight2*Data['f270'].value_counts().sum() - weight3*Data['f270'].value_counts().sum())/Data['f270'].value_counts().sum()\n",
        "acc_heroin=culc_acc(X_cat_pd, y_all,lable=[1,3,4],drug=['f270'])\n",
        "Acc_heroin=weight1*acc_heroin[0]+weight2*acc_heroin[1]+weight3*acc_heroin[2]+weight_rest*acc_heroin[3]\n",
        "Acc_heroin\n"
      ],
      "execution_count": null,
      "outputs": [
        {
          "output_type": "execute_result",
          "data": {
            "text/plain": [
              "0.7995538580142989"
            ]
          },
          "metadata": {
            "tags": []
          },
          "execution_count": 150
        }
      ]
    },
    {
      "cell_type": "markdown",
      "metadata": {
        "id": "qSdT8RdCzHkN"
      },
      "source": [
        "Ketamine"
      ]
    },
    {
      "cell_type": "code",
      "metadata": {
        "colab": {
          "base_uri": "https://localhost:8080/",
          "height": 229
        },
        "id": "4LW7DU__y71k",
        "outputId": "fc6aade7-a6db-439f-95fa-1c4b905abc0b"
      },
      "source": [
        "Data = pd.concat([X_cat_pd, y_all], axis=1)\n",
        "Data.columns = np.array([\"f\"+str(i) for i in range(Data.shape[1])])\n",
        "Data['f271'].hist(bins=Data['f271'].nunique(), figsize=(7,3))"
      ],
      "execution_count": null,
      "outputs": [
        {
          "output_type": "execute_result",
          "data": {
            "text/plain": [
              "<matplotlib.axes._subplots.AxesSubplot at 0x7fda8b18d910>"
            ]
          },
          "metadata": {
            "tags": []
          },
          "execution_count": 151
        },
        {
          "output_type": "display_data",
          "data": {
            "image/png": "[encoded data removed]",
            "text/plain": [
              "<Figure size 504x216 with 1 Axes>"
            ]
          },
          "metadata": {
            "tags": [],
            "needs_background": "light"
          }
        }
      ]
    },
    {
      "cell_type": "code",
      "metadata": {
        "colab": {
          "base_uri": "https://localhost:8080/"
        },
        "id": "Kfoy9Y4JzTFO",
        "outputId": "91db043d-e7cd-441d-b725-5ae38d71fc2a"
      },
      "source": [
        "weight1 = Data['f271'].value_counts()[1]/Data['f271'].value_counts().sum()\n",
        "weight2 = Data['f271'].value_counts()[3]/Data['f271'].value_counts().sum()\n",
        "weight3 = Data['f271'].value_counts()[4]/Data['f271'].value_counts().sum()\n",
        "weight_rest = (Data['f271'].value_counts().sum() - weight1*Data['f271'].value_counts().sum() - weight2*Data['f271'].value_counts().sum() - weight3*Data['f271'].value_counts().sum())/Data['f271'].value_counts().sum()\n",
        "acc_ketamine=culc_acc(X_cat_pd, y_all,lable=[1,3,4],drug=['f271'])\n",
        "Acc_ketamine=weight1*acc_ketamine[0]+weight2*acc_ketamine[1]+weight3*acc_ketamine[2]+weight_rest*acc_ketamine[3]\n",
        "Acc_ketamine"
      ],
      "execution_count": null,
      "outputs": [
        {
          "output_type": "execute_result",
          "data": {
            "text/plain": [
              "0.7171485128501163"
            ]
          },
          "metadata": {
            "tags": []
          },
          "execution_count": 152
        }
      ]
    },
    {
      "cell_type": "markdown",
      "metadata": {
        "id": "VoU48tnZzfep"
      },
      "source": [
        " Legalh"
      ]
    },
    {
      "cell_type": "code",
      "metadata": {
        "colab": {
          "base_uri": "https://localhost:8080/",
          "height": 229
        },
        "id": "EHrdUePfzn8w",
        "outputId": "f3bede51-5406-4eab-b000-0c550bbd2a10"
      },
      "source": [
        "Data = pd.concat([X_cat_pd, y_all], axis=1)\n",
        "Data.columns = np.array([\"f\"+str(i) for i in range(Data.shape[1])])\n",
        "Data['f272'].hist(bins=Data['f272'].nunique(), figsize=(7,3))"
      ],
      "execution_count": null,
      "outputs": [
        {
          "output_type": "execute_result",
          "data": {
            "text/plain": [
              "<matplotlib.axes._subplots.AxesSubplot at 0x7fda8d558610>"
            ]
          },
          "metadata": {
            "tags": []
          },
          "execution_count": 153
        },
        {
          "output_type": "display_data",
          "data": {
            "image/png": "[encoded data removed]",
            "text/plain": [
              "<Figure size 504x216 with 1 Axes>"
            ]
          },
          "metadata": {
            "tags": [],
            "needs_background": "light"
          }
        }
      ]
    },
    {
      "cell_type": "code",
      "metadata": {
        "colab": {
          "base_uri": "https://localhost:8080/"
        },
        "id": "4GT9QQKhzuXo",
        "outputId": "bffa9ca4-7369-4959-ff96-fc1afd049f4f"
      },
      "source": [
        "weight1 = Data['f272'].value_counts()[1]/Data['f272'].value_counts().sum()\n",
        "weight2 = Data['f272'].value_counts()[4]/Data['f272'].value_counts().sum()\n",
        "weight3 = Data['f272'].value_counts()[3]/Data['f272'].value_counts().sum()\n",
        "weight_rest = (Data['f272'].value_counts().sum() - weight1*Data['f272'].value_counts().sum() - weight2*Data['f272'].value_counts().sum() - weight3*Data['f272'].value_counts().sum())/Data['f272'].value_counts().sum()\n",
        "acc_legalh=culc_acc(X_cat_pd, y_all,lable=[1,4,3],drug=['f272'])\n",
        "Acc_legalh=weight1*acc_legalh[0]+weight2*acc_legalh[1]+weight3*acc_legalh[2]+weight_rest*acc_legalh[3]\n",
        "Acc_legalh"
      ],
      "execution_count": null,
      "outputs": [
        {
          "output_type": "execute_result",
          "data": {
            "text/plain": [
              "0.687915551679583"
            ]
          },
          "metadata": {
            "tags": []
          },
          "execution_count": 154
        }
      ]
    },
    {
      "cell_type": "markdown",
      "metadata": {
        "id": "xE7pwU28z50K"
      },
      "source": [
        "LSD "
      ]
    },
    {
      "cell_type": "code",
      "metadata": {
        "colab": {
          "base_uri": "https://localhost:8080/",
          "height": 229
        },
        "id": "GluW7itkz98h",
        "outputId": "313a5225-8e83-49b9-fd36-7640984d68df"
      },
      "source": [
        "Data = pd.concat([X_cat_pd, y_all], axis=1)\n",
        "Data.columns = np.array([\"f\"+str(i) for i in range(Data.shape[1])])\n",
        "Data['f273'].hist(bins=Data['f273'].nunique(), figsize=(7,3))"
      ],
      "execution_count": null,
      "outputs": [
        {
          "output_type": "execute_result",
          "data": {
            "text/plain": [
              "<matplotlib.axes._subplots.AxesSubplot at 0x7fda8d558810>"
            ]
          },
          "metadata": {
            "tags": []
          },
          "execution_count": 155
        },
        {
          "output_type": "display_data",
          "data": {
            "image/png": "[encoded data removed]",
            "text/plain": [
              "<Figure size 504x216 with 1 Axes>"
            ]
          },
          "metadata": {
            "tags": [],
            "needs_background": "light"
          }
        }
      ]
    },
    {
      "cell_type": "code",
      "metadata": {
        "colab": {
          "base_uri": "https://localhost:8080/"
        },
        "id": "qmX0d-xq0DoU",
        "outputId": "af1e9730-f3c9-434c-be81-1e974d39959e"
      },
      "source": [
        "weight1 = Data['f273'].value_counts()[1]/Data['f273'].value_counts().sum()\n",
        "weight2 = Data['f273'].value_counts()[2]/Data['f273'].value_counts().sum()\n",
        "weight3 = Data['f273'].value_counts()[4]/Data['f273'].value_counts().sum()\n",
        "weight_rest = (Data['f273'].value_counts().sum() - weight1*Data['f273'].value_counts().sum() - weight2*Data['f273'].value_counts().sum() - weight3*Data['f273'].value_counts().sum())/Data['f273'].value_counts().sum()\n",
        "acc_lsd=culc_acc(X_cat_pd, y_all,lable=[1,2,4],drug=['f273'])\n",
        "Acc_lsd=weight1*acc_lsd[0]+weight2*acc_lsd[1]+weight3*acc_lsd[2]+weight_rest*acc_lsd[3]\n",
        "Acc_lsd"
      ],
      "execution_count": null,
      "outputs": [
        {
          "output_type": "execute_result",
          "data": {
            "text/plain": [
              "0.6740719989819927"
            ]
          },
          "metadata": {
            "tags": []
          },
          "execution_count": 156
        }
      ]
    },
    {
      "cell_type": "markdown",
      "metadata": {
        "id": "XfdeM2PV0QvD"
      },
      "source": [
        "Meth "
      ]
    },
    {
      "cell_type": "code",
      "metadata": {
        "colab": {
          "base_uri": "https://localhost:8080/",
          "height": 229
        },
        "id": "xjsHrDYC0ULr",
        "outputId": "048c47f8-f34c-4f51-e09f-638eb643089b"
      },
      "source": [
        "Data = pd.concat([X_cat_pd, y_all], axis=1)\n",
        "Data.columns = np.array([\"f\"+str(i) for i in range(Data.shape[1])])\n",
        "Data['f274'].hist(bins=Data['f274'].nunique(), figsize=(7,3))"
      ],
      "execution_count": null,
      "outputs": [
        {
          "output_type": "execute_result",
          "data": {
            "text/plain": [
              "<matplotlib.axes._subplots.AxesSubplot at 0x7fda93fbb3d0>"
            ]
          },
          "metadata": {
            "tags": []
          },
          "execution_count": 157
        },
        {
          "output_type": "display_data",
          "data": {
            "image/png": "[encoded data removed]",
            "text/plain": [
              "<Figure size 504x216 with 1 Axes>"
            ]
          },
          "metadata": {
            "tags": [],
            "needs_background": "light"
          }
        }
      ]
    },
    {
      "cell_type": "code",
      "metadata": {
        "colab": {
          "base_uri": "https://localhost:8080/"
        },
        "id": "KP6Jtap60bfW",
        "outputId": "87002bd7-531a-4e1e-c353-027c56398734"
      },
      "source": [
        "weight1 = Data['f274'].value_counts()[1]/Data['f274'].value_counts().sum()\n",
        "weight2 = Data['f274'].value_counts()[4]/Data['f274'].value_counts().sum()\n",
        "weight3 = Data['f274'].value_counts()[6]/Data['f274'].value_counts().sum()\n",
        "weight_rest = (Data['f274'].value_counts().sum() - weight1*Data['f274'].value_counts().sum() - weight2*Data['f274'].value_counts().sum() - weight3*Data['f274'].value_counts().sum())/Data['f274'].value_counts().sum()\n",
        "acc_meth=culc_acc(X_cat_pd, y_all,lable=[1,4,6],drug=['f274'])\n",
        "Acc_meth=weight1*acc_meth[0]+weight2*acc_meth[1]+weight3*acc_meth[2]+weight_rest*acc_meth[3]\n",
        "Acc_meth"
      ],
      "execution_count": null,
      "outputs": [
        {
          "output_type": "execute_result",
          "data": {
            "text/plain": [
              "0.7155622242036768"
            ]
          },
          "metadata": {
            "tags": []
          },
          "execution_count": 158
        }
      ]
    },
    {
      "cell_type": "markdown",
      "metadata": {
        "id": "MvJXudU90nhv"
      },
      "source": [
        "Mushrooms"
      ]
    },
    {
      "cell_type": "code",
      "metadata": {
        "colab": {
          "base_uri": "https://localhost:8080/",
          "height": 229
        },
        "id": "4Tni5_L20sez",
        "outputId": "e7d5042a-b826-4fc1-f4df-6831fddee1fb"
      },
      "source": [
        "Data = pd.concat([X_cat_pd, y_all], axis=1)\n",
        "Data.columns = np.array([\"f\"+str(i) for i in range(Data.shape[1])])\n",
        "Data['f275'].hist(bins=Data['f275'].nunique(), figsize=(7,3))"
      ],
      "execution_count": null,
      "outputs": [
        {
          "output_type": "execute_result",
          "data": {
            "text/plain": [
              "<matplotlib.axes._subplots.AxesSubplot at 0x7fda940a63d0>"
            ]
          },
          "metadata": {
            "tags": []
          },
          "execution_count": 159
        },
        {
          "output_type": "display_data",
          "data": {
            "image/png": "[encoded data removed]",
            "text/plain": [
              "<Figure size 504x216 with 1 Axes>"
            ]
          },
          "metadata": {
            "tags": [],
            "needs_background": "light"
          }
        }
      ]
    },
    {
      "cell_type": "code",
      "metadata": {
        "colab": {
          "base_uri": "https://localhost:8080/"
        },
        "id": "yTryr4dc02tO",
        "outputId": "6b2c93c1-5497-4836-9f1e-e8083b3e0337"
      },
      "source": [
        "weight1 = Data['f275'].value_counts()[1]/Data['f275'].value_counts().sum()\n",
        "weight2 = Data['f275'].value_counts()[4]/Data['f275'].value_counts().sum()\n",
        "weight3 = Data['f275'].value_counts()[3]/Data['f275'].value_counts().sum()\n",
        "weight_rest = (Data['f275'].value_counts().sum() - weight1*Data['f275'].value_counts().sum() - weight2*Data['f275'].value_counts().sum() - weight3*Data['f275'].value_counts().sum())/Data['f275'].value_counts().sum()\n",
        "acc_mushrooms=culc_acc(X_cat_pd, y_all,lable=[1,4,3],drug=['f275'])\n",
        "Acc_mushrooms=weight1*acc_mushrooms[0]+weight2*acc_mushrooms[1]+weight3*acc_mushrooms[2]+weight_rest*acc_mushrooms[3]\n",
        "Acc_mushrooms"
      ],
      "execution_count": null,
      "outputs": [
        {
          "output_type": "execute_result",
          "data": {
            "text/plain": [
              "0.6884206525045529"
            ]
          },
          "metadata": {
            "tags": []
          },
          "execution_count": 160
        }
      ]
    },
    {
      "cell_type": "markdown",
      "metadata": {
        "id": "rGVLQTlY1Fh-"
      },
      "source": [
        "Nicotine"
      ]
    },
    {
      "cell_type": "code",
      "metadata": {
        "colab": {
          "base_uri": "https://localhost:8080/",
          "height": 231
        },
        "id": "iSG0XPKj1Jao",
        "outputId": "43a15aeb-6c3d-4ede-ed6a-cfadf3853c06"
      },
      "source": [
        "Data = pd.concat([X_cat_pd, y_all], axis=1)\n",
        "Data.columns = np.array([\"f\"+str(i) for i in range(Data.shape[1])])\n",
        "Data['f276'].hist(bins=Data['f276'].nunique(), figsize=(7,3))"
      ],
      "execution_count": null,
      "outputs": [
        {
          "output_type": "execute_result",
          "data": {
            "text/plain": [
              "<matplotlib.axes._subplots.AxesSubplot at 0x7fda91227f50>"
            ]
          },
          "metadata": {
            "tags": []
          },
          "execution_count": 161
        },
        {
          "output_type": "display_data",
          "data": {
            "image/png": "[encoded data removed]",
            "text/plain": [
              "<Figure size 504x216 with 1 Axes>"
            ]
          },
          "metadata": {
            "tags": [],
            "needs_background": "light"
          }
        }
      ]
    },
    {
      "cell_type": "code",
      "metadata": {
        "colab": {
          "base_uri": "https://localhost:8080/"
        },
        "id": "xqlIa6R81iMf",
        "outputId": "5dabe1d7-049e-4b16-92c6-8548de0ecb88"
      },
      "source": [
        "weight1 = Data['f276'].value_counts()[6]/Data['f276'].value_counts().sum()\n",
        "weight2 = Data['f276'].value_counts()[1]/Data['f276'].value_counts().sum()\n",
        "weight3 = Data['f276'].value_counts()[3]/Data['f276'].value_counts().sum()\n",
        "weight_rest = (Data['f276'].value_counts().sum() - weight1*Data['f276'].value_counts().sum() - weight2*Data['f276'].value_counts().sum() - weight3*Data['f276'].value_counts().sum())/Data['f276'].value_counts().sum()\n",
        "acc_nicotine=culc_acc(X_cat_pd, y_all,lable=[6,1,3],drug=['f276'])\n",
        "Acc_nicotine=weight1*acc_nicotine[0]+weight2*acc_nicotine[1]+weight3*acc_nicotine[2]+weight_rest*acc_nicotine[3]\n",
        "Acc_nicotine\n"
      ],
      "execution_count": null,
      "outputs": [
        {
          "output_type": "execute_result",
          "data": {
            "text/plain": [
              "0.6373032309969628"
            ]
          },
          "metadata": {
            "tags": []
          },
          "execution_count": 162
        }
      ]
    },
    {
      "cell_type": "markdown",
      "metadata": {
        "id": "_0lFSvot1uwq"
      },
      "source": [
        "Semer "
      ]
    },
    {
      "cell_type": "code",
      "metadata": {
        "colab": {
          "base_uri": "https://localhost:8080/",
          "height": 229
        },
        "id": "hvkXp17K1yKq",
        "outputId": "f03936ba-e4fc-49ff-95f2-45797dcac621"
      },
      "source": [
        "Data = pd.concat([X_cat_pd, y_all], axis=1)\n",
        "Data.columns = np.array([\"f\"+str(i) for i in range(Data.shape[1])])\n",
        "Data['f277'].hist(bins=Data['f277'].nunique(), figsize=(7,3))"
      ],
      "execution_count": null,
      "outputs": [
        {
          "output_type": "execute_result",
          "data": {
            "text/plain": [
              "<matplotlib.axes._subplots.AxesSubplot at 0x7fda8ef08c10>"
            ]
          },
          "metadata": {
            "tags": []
          },
          "execution_count": 163
        },
        {
          "output_type": "display_data",
          "data": {
            "image/png": "[encoded data removed]",
            "text/plain": [
              "<Figure size 504x216 with 1 Axes>"
            ]
          },
          "metadata": {
            "tags": [],
            "needs_background": "light"
          }
        }
      ]
    },
    {
      "cell_type": "code",
      "metadata": {
        "colab": {
          "base_uri": "https://localhost:8080/"
        },
        "id": "uO0GF1kl21Pg",
        "outputId": "138e2792-6d19-4c1d-f445-688c63c008d9"
      },
      "source": [
        "weight1 = Data['f277'].value_counts()[1]/Data['f277'].value_counts().sum()\n",
        "weight2 = Data['f277'].value_counts()[3]/Data['f277'].value_counts().sum()\n",
        "weight3 = Data['f277'].value_counts()[2]/Data['f277'].value_counts().sum()\n",
        "weight_rest = (Data['f277'].value_counts().sum() - weight1*Data['f277'].value_counts().sum() - weight2*Data['f277'].value_counts().sum() - weight3*Data['f277'].value_counts().sum())/Data['f277'].value_counts().sum()\n",
        "acc_semer=culc_acc(X_cat_pd, y_all,lable=[1,3,2],drug=['f277'])\n",
        "Acc_semer=weight1*acc_semer[0]+weight2*acc_semer[1]+weight3*acc_semer[2]+weight_rest*acc_semer[3]\n",
        "Acc_semer"
      ],
      "execution_count": null,
      "outputs": [
        {
          "output_type": "execute_result",
          "data": {
            "text/plain": [
              "0.9955019735592314"
            ]
          },
          "metadata": {
            "tags": []
          },
          "execution_count": 164
        }
      ]
    },
    {
      "cell_type": "markdown",
      "metadata": {
        "id": "Mt721eRl3A5X"
      },
      "source": [
        "VSA"
      ]
    },
    {
      "cell_type": "code",
      "metadata": {
        "colab": {
          "base_uri": "https://localhost:8080/",
          "height": 229
        },
        "id": "SUAhtGlb3Erh",
        "outputId": "45e7a541-7714-4696-aa3d-d858ef60b354"
      },
      "source": [
        "Data = pd.concat([X_cat_pd, y_all], axis=1)\n",
        "Data.columns = np.array([\"f\"+str(i) for i in range(Data.shape[1])])\n",
        "Data['f278'].hist(bins=Data['f278'].nunique(), figsize=(7,3))"
      ],
      "execution_count": null,
      "outputs": [
        {
          "output_type": "execute_result",
          "data": {
            "text/plain": [
              "<matplotlib.axes._subplots.AxesSubplot at 0x7fda911ed290>"
            ]
          },
          "metadata": {
            "tags": []
          },
          "execution_count": 165
        },
        {
          "output_type": "display_data",
          "data": {
            "image/png": "[encoded data removed]",
            "text/plain": [
              "<Figure size 504x216 with 1 Axes>"
            ]
          },
          "metadata": {
            "tags": [],
            "needs_background": "light"
          }
        }
      ]
    },
    {
      "cell_type": "code",
      "metadata": {
        "colab": {
          "base_uri": "https://localhost:8080/"
        },
        "id": "vimpJH2_3LgR",
        "outputId": "27666a29-fb9d-42d4-ed2b-5c5f7d4c0ff0"
      },
      "source": [
        "weight1 = Data['f278'].value_counts()[1]/Data['f278'].value_counts().sum()\n",
        "weight2 = Data['f278'].value_counts()[2]/Data['f278'].value_counts().sum()\n",
        "weight3 = Data['f278'].value_counts()[3]/Data['f278'].value_counts().sum()\n",
        "weight_rest = (Data['f278'].value_counts().sum() - weight1*Data['f278'].value_counts().sum() - weight2*Data['f278'].value_counts().sum() - weight3*Data['f278'].value_counts().sum())/Data['f278'].value_counts().sum()\n",
        "acc_vsa=culc_acc(X_cat_pd, y_all,lable=[1,2,3],drug=['f278'])\n",
        "Acc_vsa=weight1*acc_vsa[0]+weight2*acc_vsa[1]+weight3*acc_vsa[2]+weight_rest*acc_vsa[3]\n",
        "Acc_vsa"
      ],
      "execution_count": null,
      "outputs": [
        {
          "output_type": "execute_result",
          "data": {
            "text/plain": [
              "0.7717386128827654"
            ]
          },
          "metadata": {
            "tags": []
          },
          "execution_count": 166
        }
      ]
    },
    {
      "cell_type": "code",
      "metadata": {
        "colab": {
          "base_uri": "https://localhost:8080/"
        },
        "id": "xrWFSgLS4Mod",
        "outputId": "1ec0daff-ecc8-4c91-f564-22403645d462"
      },
      "source": [
        "print('accuracy_alcohol =',Acc_alcohol)\n",
        "print('accuracy_amphet =',Acc_amphet)\n",
        "print('accuracy_amyl =',Acc_amyl)\n",
        "print('accuracy_benzos =',Acc_benzos)\n",
        "print('accuracy_caff =',Acc_caff)\n",
        "print('accuracy_cannabis =',Acc_cannabis)\n",
        "print('accuracy_coke =',Acc_coke)\n",
        "print('accuracy_crack =',Acc_crack)\n",
        "print('accuracy_ecstasy =',Acc_ecstasy)\n",
        "print('accuracy_heroin =',Acc_heroin)\n",
        "print('accuracy_ketamine =',Acc_ketamine)\n",
        "print('accuracy_legalh =',Acc_legalh)\n",
        "print('accuracy_lsd =',Acc_lsd)\n",
        "print('accuracy_mushrooms =',Acc_mushrooms)\n",
        "print('accuracy_nicotine =',Acc_nicotine)\n",
        "print('accuracy_semer =',Acc_semer)\n",
        "print('accuracy_vsa =',Acc_vsa)"
      ],
      "execution_count": null,
      "outputs": [
        {
          "output_type": "stream",
          "text": [
            "accuracy_alcohol = 0.6101728093765565\n",
            "accuracy_amphet = 0.6308157079619897\n",
            "accuracy_amyl = 0.6986084419306138\n",
            "accuracy_benzos = 0.6155949209256207\n",
            "accuracy_caff = 0.851006057876999\n",
            "accuracy_cannabis = 0.6721420768263857\n",
            "accuracy_coke = 0.641329600170599\n",
            "accuracy_crack = 0.8267468051324267\n",
            "accuracy_ecstasy = 0.6638807929921636\n",
            "accuracy_heroin = 0.7995538580142989\n",
            "accuracy_ketamine = 0.7171485128501163\n",
            "accuracy_legalh = 0.687915551679583\n",
            "accuracy_lsd = 0.6740719989819927\n",
            "accuracy_mushrooms = 0.6884206525045529\n",
            "accuracy_nicotine = 0.6373032309969628\n",
            "accuracy_semer = 0.9955019735592314\n",
            "accuracy_vsa = 0.7717386128827654\n"
          ],
          "name": "stdout"
        }
      ]
    },
    {
      "cell_type": "markdown",
      "metadata": {
        "id": "mctVa1YzQ65C"
      },
      "source": [
        "### **Задание №4**. Предположим, что мы построили рекомендательную систему, и ожидаем, что средний чек клиента вследствие этого должен вырасти. Мы провели AB-тест и собрали данные по контрольной и тестовой группе. Предложите и проведите статистический тест, который можно применить к этим данным.\n",
        "\n",
        "В процессе выполнения задания разрешено пользоваться библиотеками scipy и statsmodels."
      ]
    },
    {
      "cell_type": "code",
      "metadata": {
        "id": "ViwZxe1uSLwG"
      },
      "source": [
        "import numpy as np\n",
        "import matplotlib.pyplot as plt\n",
        "import seaborn as sns\n",
        "\n",
        "# Сгенерируем данные для задачи\n",
        "control = np.random.lognormal(mean=5, sigma=2, size=(100000,))\n",
        "test = np.random.lognormal(mean=5.04, sigma=2, size=(100000,))"
      ],
      "execution_count": null,
      "outputs": []
    },
    {
      "cell_type": "markdown",
      "metadata": {
        "id": "4vkJ7PTogF5M"
      },
      "source": [
        "Посмотрим на данные"
      ]
    },
    {
      "cell_type": "code",
      "metadata": {
        "colab": {
          "base_uri": "https://localhost:8080/",
          "height": 279
        },
        "id": "wDJq1iy0JCzK",
        "outputId": "b1f7fcec-1c9e-47b8-d4a1-d1d0f42080bb"
      },
      "source": [
        "fig = plt.figure(figsize=(8, 3))\n",
        "\n",
        "sns.distplot(control, hist=True, kde=False, \n",
        "             bins=100,\n",
        "             hist_kws={'edgecolor':'black'},\n",
        "             kde_kws={'linewidth': 4})\n",
        "plt.show()"
      ],
      "execution_count": null,
      "outputs": [
        {
          "output_type": "stream",
          "text": [
            "/usr/local/lib/python3.7/dist-packages/seaborn/distributions.py:2557: FutureWarning: `distplot` is a deprecated function and will be removed in a future version. Please adapt your code to use either `displot` (a figure-level function with similar flexibility) or `histplot` (an axes-level function for histograms).\n",
            "  warnings.warn(msg, FutureWarning)\n"
          ],
          "name": "stderr"
        },
        {
          "output_type": "display_data",
          "data": {
            "image/png": "[encoded data removed]",
            "text/plain": [
              "<Figure size 576x216 with 1 Axes>"
            ]
          },
          "metadata": {
            "tags": [],
            "needs_background": "light"
          }
        }
      ]
    },
    {
      "cell_type": "code",
      "metadata": {
        "colab": {
          "base_uri": "https://localhost:8080/",
          "height": 279
        },
        "id": "MbIpXtwcgKAI",
        "outputId": "ae34fd03-3bec-4bd4-89a3-9eaebaa823e6"
      },
      "source": [
        "fig = plt.figure(figsize=(8, 3))\n",
        "\n",
        "sns.distplot(test, hist=True, kde=False, \n",
        "             bins=100,\n",
        "             hist_kws={'edgecolor':'black'},\n",
        "             kde_kws={'linewidth': 4})\n",
        "plt.show()"
      ],
      "execution_count": null,
      "outputs": [
        {
          "output_type": "stream",
          "text": [
            "/usr/local/lib/python3.7/dist-packages/seaborn/distributions.py:2557: FutureWarning: `distplot` is a deprecated function and will be removed in a future version. Please adapt your code to use either `displot` (a figure-level function with similar flexibility) or `histplot` (an axes-level function for histograms).\n",
            "  warnings.warn(msg, FutureWarning)\n"
          ],
          "name": "stderr"
        },
        {
          "output_type": "display_data",
          "data": {
            "image/png": "[encoded data removed]",
            "text/plain": [
              "<Figure size 576x216 with 1 Axes>"
            ]
          },
          "metadata": {
            "tags": [],
            "needs_background": "light"
          }
        }
      ]
    },
    {
      "cell_type": "markdown",
      "metadata": {
        "id": "jpsyythUgUuP"
      },
      "source": [
        "Распределение похоже на логнормальное. Если взять логарифм от данного распределения, то должно получиться нормальное распределение. Давайте сделаем это!"
      ]
    },
    {
      "cell_type": "code",
      "metadata": {
        "id": "7GzUaoQNGhC4"
      },
      "source": [
        "# берем логарифм от данных\n",
        "control_norm = np.log(control)\n",
        "test_norm = np.log(test)"
      ],
      "execution_count": null,
      "outputs": []
    },
    {
      "cell_type": "markdown",
      "metadata": {
        "id": "K3gZEF5QhOh9"
      },
      "source": [
        "Посмотрим что получилось"
      ]
    },
    {
      "cell_type": "code",
      "metadata": {
        "id": "Nw6iyva0SPXh",
        "colab": {
          "base_uri": "https://localhost:8080/",
          "height": 266
        },
        "outputId": "bcd7253f-2ea9-4c8c-edbe-6a1a932776b2"
      },
      "source": [
        "fig = plt.figure(figsize=(8, 3))\n",
        "\n",
        "sns.distplot(a, hist=True, kde=False, \n",
        "             bins=100,\n",
        "             hist_kws={'edgecolor':'black'},\n",
        "             kde_kws={'linewidth': 4})\n",
        "plt.show()"
      ],
      "execution_count": null,
      "outputs": [
        {
          "output_type": "stream",
          "text": [
            "/usr/local/lib/python3.7/dist-packages/seaborn/distributions.py:2557: FutureWarning: `distplot` is a deprecated function and will be removed in a future version. Please adapt your code to use either `displot` (a figure-level function with similar flexibility) or `histplot` (an axes-level function for histograms).\n",
            "  warnings.warn(msg, FutureWarning)\n"
          ],
          "name": "stderr"
        },
        {
          "output_type": "display_data",
          "data": {
            "image/png": "[encoded data removed]",
            "text/plain": [
              "<Figure size 576x216 with 1 Axes>"
            ]
          },
          "metadata": {
            "tags": [],
            "needs_background": "light"
          }
        }
      ]
    },
    {
      "cell_type": "markdown",
      "metadata": {
        "id": "aryusLbqhUD6"
      },
      "source": [
        "Распределение очень похоже на нормальное. Давайте убедимся в этом."
      ]
    },
    {
      "cell_type": "code",
      "metadata": {
        "colab": {
          "base_uri": "https://localhost:8080/"
        },
        "id": "dysdzLP3IpbG",
        "outputId": "6b48c936-2c11-4256-8cd6-f485445c3aac"
      },
      "source": [
        "import scipy.stats as ss\n",
        "\n",
        "params_norm = ss.norm.fit(control_norm)\n",
        "print(params_norm)"
      ],
      "execution_count": null,
      "outputs": [
        {
          "output_type": "stream",
          "text": [
            "(4.99699581893687, 1.9968163329849473)\n"
          ],
          "name": "stdout"
        }
      ]
    },
    {
      "cell_type": "code",
      "metadata": {
        "colab": {
          "base_uri": "https://localhost:8080/",
          "height": 350
        },
        "id": "EginahX_I0Fn",
        "outputId": "f98a502b-4aa0-45b2-89f1-06dc8f8eaa38"
      },
      "source": [
        "fig = plt.figure(figsize=(10, 5))\n",
        "\n",
        "ss.probplot(control_norm, dist=ss.norm(*params_norm), plot=plt)\n",
        "\n",
        "plt.show()"
      ],
      "execution_count": null,
      "outputs": [
        {
          "output_type": "display_data",
          "data": {
            "image/png": "[encoded data removed]",
            "text/plain": [
              "<Figure size 720x360 with 1 Axes>"
            ]
          },
          "metadata": {
            "tags": [],
            "needs_background": "light"
          }
        }
      ]
    },
    {
      "cell_type": "markdown",
      "metadata": {
        "id": "FGOsdkFjiAXe"
      },
      "source": [
        "Так как распределения получились нормальные, то статистический тест будем делать для этих распределений (для удобства работы).\n",
        "Посмотрим на стандартоное отклонение и на среднее значение в данных"
      ]
    },
    {
      "cell_type": "code",
      "metadata": {
        "colab": {
          "base_uri": "https://localhost:8080/"
        },
        "id": "2vHtgHEmhmZR",
        "outputId": "e8ec1a33-997e-492d-c3d5-575a98d50d89"
      },
      "source": [
        "control_std = round(np.std(control_norm),2)\n",
        "test_std = round(np.std(control_norm),2)\n",
        "control_mean=round(np.mean(control_norm),2)\n",
        "test_mean=round(np.mean(test_norm),2)\n",
        "print('control_std =',control_std)\n",
        "print('test_std =',test_std)\n",
        "print('control_mean =',control_mean)\n",
        "print('test_mean =',test_mean)"
      ],
      "execution_count": null,
      "outputs": [
        {
          "output_type": "stream",
          "text": [
            "control_std = 2.0\n",
            "test_std = 2.0\n",
            "control_mean = 5.0\n",
            "test_mean = 5.04\n"
          ],
          "name": "stdout"
        }
      ]
    },
    {
      "cell_type": "markdown",
      "metadata": {
        "id": "5WH7BvjGjHIp"
      },
      "source": [
        "Распределения нормальные с одинаковыми стандартными отклонениями. Мы можем применить к таким распределениям t - критерий Стьюдента."
      ]
    },
    {
      "cell_type": "code",
      "metadata": {
        "id": "_3Ur1icSLDav"
      },
      "source": [
        "from scipy import stats"
      ],
      "execution_count": null,
      "outputs": []
    },
    {
      "cell_type": "code",
      "metadata": {
        "colab": {
          "base_uri": "https://localhost:8080/"
        },
        "id": "bB6J1rdOUAXg",
        "outputId": "397fad43-0383-4adb-9ac8-b590102f3e3a"
      },
      "source": [
        "stats.ttest_ind(control_norm,test_norm)"
      ],
      "execution_count": null,
      "outputs": [
        {
          "output_type": "execute_result",
          "data": {
            "text/plain": [
              "Ttest_indResult(statistic=-4.289448183428564, pvalue=1.7920149257171948e-05)"
            ]
          },
          "metadata": {
            "tags": []
          },
          "execution_count": 177
        }
      ]
    },
    {
      "cell_type": "markdown",
      "metadata": {
        "id": "IJNHDYIAlEk0"
      },
      "source": [
        "Видно что p-value меньше 0.01, значит можно отвергнуть гипотезу о том, что различие средних значений между двумя группами случайно."
      ]
    },
    {
      "cell_type": "markdown",
      "metadata": {
        "id": "iaW5kiF3VJhN"
      },
      "source": [
        "### **Задание №4 (*)**. В прошлом задании мы улавливали статистически значимое различие в средних в 0.04 единицы на выборке из 100000 клиентов. Насколько больше нам требуется собрать клиентов, чтобы уловить различие в 0.02?"
      ]
    },
    {
      "cell_type": "code",
      "metadata": {
        "id": "nJbyYyIQVfZQ"
      },
      "source": [
        "# <YOUR_CODE_HERE>"
      ],
      "execution_count": null,
      "outputs": []
    }
  ]
}