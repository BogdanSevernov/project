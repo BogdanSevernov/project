{
 "cells": [
  {
   "cell_type": "raw",
   "metadata": {},
   "source": [
    "Севернов Богдан\n",
    "На склад в среднем прибывает 3 машины в час. Разгрузку осуществляют 3 бригады грузчиков. Среднее ### время разгрузки машины – 1час. В очереди в ожидании разгрузки могут находиться не более 4-х машин.Определить показатели работы СМО."
   ]
  },
  {
   "cell_type": "code",
   "execution_count": 161,
   "metadata": {},
   "outputs": [],
   "source": [
    "import simpy\n",
    "import random\n",
    "import statistics\n",
    "import numpy as np"
   ]
  },
  {
   "cell_type": "code",
   "execution_count": 162,
   "metadata": {},
   "outputs": [],
   "source": [
    "wait_time=[]\n",
    "l_line=[]\n",
    "system_time=[]\n",
    "class Warehouse(object):\n",
    "    def __init__(self,env,num_loaders):\n",
    "        self.env=env\n",
    "        self.loader=simpy.Resource(env,num_loaders)\n",
    "    def unload(self,car):\n",
    "        yield self.env.timeout(np.random.exponential(1/1))"
   ]
  },
  {
   "cell_type": "code",
   "execution_count": 163,
   "metadata": {},
   "outputs": [],
   "source": [
    "# def go(env,car,warehouse):\n",
    "#     arrival_time = env.now\n",
    "    \n",
    "#     with warehouse.loader.request() as request:\n",
    "#         a=env.now\n",
    "#         yield request\n",
    "#         b=env.now\n",
    "#         wait_time.append(b-a)\n",
    "#         l_line.append(len(warehouse.loader.queue))\n",
    "#         yield env.process(warehouse.unload(car))\n",
    "#     system_time.append(env.now-arrival_time)"
   ]
  },
  {
   "cell_type": "code",
   "execution_count": 164,
   "metadata": {},
   "outputs": [],
   "source": [
    "def go(env,car,warehouse):\n",
    "    arrival_time = env.now\n",
    "    \n",
    "    with warehouse.loader.request() as request:\n",
    "        if len(warehouse.loader.queue)<=4:\n",
    "            a=env.now\n",
    "            yield request\n",
    "            b=env.now\n",
    "            wait_time.append(b-a)\n",
    "            l_line.append(len(warehouse.loader.queue))\n",
    "            yield env.process(warehouse.unload(car))\n",
    "    system_time.append(env.now-arrival_time)"
   ]
  },
  {
   "cell_type": "code",
   "execution_count": 165,
   "metadata": {},
   "outputs": [],
   "source": [
    "def run(env,num_loader):\n",
    "    warehous=Warehouse(env,num_loaders)\n",
    "    car=0\n",
    "    while True:\n",
    "        yield env.timeout(np.random.exponential(1/3))  # Wait a bit before generating a new person\n",
    "        car += 1\n",
    "        env.process(go(env, car, warehous))"
   ]
  },
  {
   "cell_type": "code",
   "execution_count": 166,
   "metadata": {},
   "outputs": [],
   "source": [
    "random.seed(42)\n",
    "num_loaders=3\n",
    "nu=1\n",
    "lamda=3\n",
    "env = simpy.Environment()\n",
    "env.process(run(env,num_loaders))\n",
    "env.run(until=10000)"
   ]
  },
  {
   "cell_type": "code",
   "execution_count": 167,
   "metadata": {},
   "outputs": [
    {
     "name": "stdout",
     "output_type": "stream",
     "text": [
      "average wait time in line = 0.57266627320608\n"
     ]
    }
   ],
   "source": [
    "avr_wait_time=np.mean(wait_time)\n",
    "print('average wait time in line =',avr_wait_time)"
   ]
  },
  {
   "cell_type": "code",
   "execution_count": 168,
   "metadata": {},
   "outputs": [
    {
     "name": "stdout",
     "output_type": "stream",
     "text": [
      "average long line = 1.0269125147116516\n"
     ]
    }
   ],
   "source": [
    "avr_l_line=np.mean(l_line)\n",
    "print('average long line =',avr_l_line)"
   ]
  },
  {
   "cell_type": "code",
   "execution_count": 169,
   "metadata": {},
   "outputs": [
    {
     "name": "stdout",
     "output_type": "stream",
     "text": [
      "avarage system time = 1.3455041796933016\n"
     ]
    }
   ],
   "source": [
    "avr_system_time=np.mean(system_time)\n",
    "print('avarage system time =',avr_system_time)"
   ]
  },
  {
   "cell_type": "code",
   "execution_count": 170,
   "metadata": {},
   "outputs": [
    {
     "name": "stdout",
     "output_type": "stream",
     "text": [
      "probability of line = 0.5114947038054138\n"
     ]
    }
   ],
   "source": [
    "l_line=np.array(l_line)\n",
    "p_line=len(l_line[l_line>0])/len(l_line)\n",
    "print('probability of line =',p_line)"
   ]
  },
  {
   "cell_type": "code",
   "execution_count": 171,
   "metadata": {},
   "outputs": [
    {
     "name": "stdout",
     "output_type": "stream",
     "text": [
      "p0 = 0.028416372433634103\n"
     ]
    }
   ],
   "source": [
    "p0=(p_line*np.math.factorial(3)/(4*3**3))\n",
    "print('p0 =',p0)"
   ]
  },
  {
   "cell_type": "code",
   "execution_count": 172,
   "metadata": {},
   "outputs": [
    {
     "name": "stdout",
     "output_type": "stream",
     "text": [
      "probability of failure = 0.2557473519027069\n"
     ]
    }
   ],
   "source": [
    "p_failure=(3**7/(3**4*np.math.fabs(3)))*p0\n",
    "print('probability of failure =',p_failure)"
   ]
  },
  {
   "cell_type": "code",
   "execution_count": 173,
   "metadata": {},
   "outputs": [
    {
     "name": "stdout",
     "output_type": "stream",
     "text": [
      "Q = 0.7442526480972931\n"
     ]
    }
   ],
   "source": [
    "Q=1-p_failure\n",
    "print('Q =',Q)"
   ]
  },
  {
   "cell_type": "code",
   "execution_count": 174,
   "metadata": {},
   "outputs": [
    {
     "name": "stdout",
     "output_type": "stream",
     "text": [
      "A = 2.2327579442918792\n"
     ]
    }
   ],
   "source": [
    "A=lamda*Q\n",
    "print('A =',A)"
   ]
  },
  {
   "cell_type": "code",
   "execution_count": 175,
   "metadata": {},
   "outputs": [
    {
     "name": "stdout",
     "output_type": "stream",
     "text": [
      "avarage k = 2.2327579442918792\n"
     ]
    }
   ],
   "source": [
    "avr_k=A/nu\n",
    "print('avarage k =',avr_k)"
   ]
  },
  {
   "cell_type": "markdown",
   "metadata": {},
   "source": [
    "###  Ответы"
   ]
  },
  {
   "cell_type": "code",
   "execution_count": 176,
   "metadata": {},
   "outputs": [
    {
     "name": "stdout",
     "output_type": "stream",
     "text": [
      "average wait time in line = 0.57266627320608\n",
      "average long line = 1.0269125147116516\n",
      "avarage system time = 1.3455041796933016\n",
      "probability of line = 0.5114947038054138\n",
      "p0 = 0.028416372433634103\n",
      "probability of failure = 0.2557473519027069\n",
      "Q = 0.7442526480972931\n",
      "A = 2.2327579442918792\n",
      "avarage k = 2.2327579442918792\n"
     ]
    }
   ],
   "source": [
    "print('average wait time in line =',avr_wait_time)\n",
    "print('average long line =',avr_l_line)\n",
    "print('avarage system time =',avr_system_time)\n",
    "print('probability of line =',p_line)\n",
    "print('p0 =',p0)\n",
    "print('probability of failure =',p_failure)\n",
    "print('Q =',Q)\n",
    "print('A =',A)\n",
    "print('avarage k =',avr_k)"
   ]
  }
 ],
 "metadata": {
  "kernelspec": {
   "display_name": "Python 3",
   "language": "python",
   "name": "python3"
  },
  "language_info": {
   "codemirror_mode": {
    "name": "ipython",
    "version": 3
   },
   "file_extension": ".py",
   "mimetype": "text/x-python",
   "name": "python",
   "nbconvert_exporter": "python",
   "pygments_lexer": "ipython3",
   "version": "3.8.5"
  }
 },
 "nbformat": 4,
 "nbformat_minor": 4
}
